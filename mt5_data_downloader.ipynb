{
 "cells": [
  {
   "cell_type": "code",
   "execution_count": 4,
   "metadata": {},
   "outputs": [
    {
     "name": "stdout",
     "output_type": "stream",
     "text": [
      "Failed to connect to MT5 . Error code: (-2, 'Invalid 1st unnamed argument')\n"
     ]
    }
   ],
   "source": [
    "import MetaTrader5 as mt5\n",
    "import pandas as pd\n",
    "import pandas_ta as ta\n",
    "import os\n",
    "from dotenv import load_dotenv\n",
    "\n",
    "# add path to your terminal using forward slashes\n",
    "if not mt5.initialize(\"C:/Program Files/MetaTrader 5/terminal64.exe\"):\n",
    "  print(\"MT5 init failed.\")\n",
    "  mt5.shutdown()\n",
    "\n",
    "login = os.getenv(\"MT5_LOGIN\")\n",
    "authorized=mt5.login(login, password=os.getenv(\"MT5_PASS\"), server=os.getenv(\"MT5_SERVER\"))\n",
    "if authorized:\n",
    "  print(\"MT5 connection successful\")\n",
    "else:\n",
    "  print(\"Failed to connect to MT5 . Error code: {}\".format(mt5.last_error()))\n",
    "\n",
    "tickers = ['EURUSD', 'CHFJPY', 'EURGBP', 'AUDCAD', 'GBPNZD', 'AUDJPY', 'AUDNZD', 'USDJPY']\n",
    "\n",
    "def full_download():\n",
    "  for ticker in tickers:\n",
    "    print(f'Fetching {ticker}')\n",
    "    rates = mt5.copy_rates_from_pos(ticker, mt5.TIMEFRAME_D1, 0, 545)\n",
    "    df = pd.DataFrame(rates)\n",
    "    df['time']=pd.to_datetime(df['time'], unit='s')\n",
    "    df.drop(['spread', 'real_volume'], axis=1, inplace=True)\n",
    "    df.rename(columns={'time':'timestamp', 'tick_volume':'volume'}, inplace=True)\n",
    "    df.to_csv(f'./data/{ticker}.csv', index=False)"
   ]
  },
  {
   "cell_type": "code",
   "execution_count": 2,
   "metadata": {},
   "outputs": [
    {
     "name": "stdout",
     "output_type": "stream",
     "text": [
      "Fetching EURUSD\n",
      "Fetching CHFJPY\n",
      "Fetching EURGBP\n",
      "Fetching AUDCAD\n",
      "Fetching GBPNZD\n",
      "Fetching AUDJPY\n",
      "Fetching AUDNZD\n",
      "Fetching USDJPY\n"
     ]
    }
   ],
   "source": [
    "full_download()"
   ]
  }
 ],
 "metadata": {
  "kernelspec": {
   "display_name": "mt5_prop_firm",
   "language": "python",
   "name": "python3"
  },
  "language_info": {
   "codemirror_mode": {
    "name": "ipython",
    "version": 3
   },
   "file_extension": ".py",
   "mimetype": "text/x-python",
   "name": "python",
   "nbconvert_exporter": "python",
   "pygments_lexer": "ipython3",
   "version": "3.11.5"
  }
 },
 "nbformat": 4,
 "nbformat_minor": 2
}
