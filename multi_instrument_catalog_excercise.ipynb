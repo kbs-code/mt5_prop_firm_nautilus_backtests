{
 "cells": [
  {
   "cell_type": "code",
   "execution_count": 15,
   "metadata": {},
   "outputs": [],
   "source": [
    "import pandas as pd\n",
    "import os\n",
    "from nautilus_trader.persistence.wranglers import BarDataWrangler\n",
    "from nautilus_trader.persistence.loaders import CSVBarDataLoader\n",
    "from nautilus_trader.test_kit.providers import TestInstrumentProvider\n",
    "from nautilus_trader.persistence.catalog import ParquetDataCatalog\n",
    "from nautilus_trader.model.data import BarType"
   ]
  },
  {
   "cell_type": "code",
   "execution_count": 16,
   "metadata": {},
   "outputs": [],
   "source": [
    "data_path = \"./data\"\n",
    "tickers = ['AUD/CAD','AUD/JPY','AUD/NZD','CHF/JPY','EUR/GBP','EUR/USD','GBP/NZD','USD/JPY']"
   ]
  },
  {
   "cell_type": "code",
   "execution_count": 17,
   "metadata": {},
   "outputs": [],
   "source": [
    "# catalog\n",
    "\n",
    "CATALOG_PATH = os.getcwd() + \"/catalog\"\n",
    "\n",
    "# create catalog directory if it doesn't exist\n",
    "if not os.path.exists(CATALOG_PATH):\n",
    "  os.mkdir(CATALOG_PATH)\n",
    "\n",
    "# Create a catalog instance\n",
    "catalog = ParquetDataCatalog(CATALOG_PATH)\n"
   ]
  },
  {
   "cell_type": "code",
   "execution_count": 19,
   "metadata": {},
   "outputs": [],
   "source": [
    "# load all tickers into catalog\n",
    "\n",
    "for ticker in tickers:\n",
    "  instrument = TestInstrumentProvider.default_fx_ccy(ticker)\n",
    "  data = os.path.join(data_path, ticker.replace('/','') + \".csv\")\n",
    "  df = CSVBarDataLoader.load(data)\n",
    "  bar_type = BarType.from_str(ticker + \".SIM-1-DAY-LAST-EXTERNAL\")\n",
    "  wrangler = BarDataWrangler(\n",
    "    bar_type = bar_type,\n",
    "    instrument = instrument\n",
    "    )\n",
    "  bars = wrangler.process(df)\n",
    "  catalog.write_data([instrument])\n",
    "  catalog.write_data(bars)"
   ]
  }
 ],
 "metadata": {
  "kernelspec": {
   "display_name": "mt5_prop_firm_nautilus_backtests",
   "language": "python",
   "name": "python3"
  },
  "language_info": {
   "codemirror_mode": {
    "name": "ipython",
    "version": 3
   },
   "file_extension": ".py",
   "mimetype": "text/x-python",
   "name": "python",
   "nbconvert_exporter": "python",
   "pygments_lexer": "ipython3",
   "version": "3.11.5"
  }
 },
 "nbformat": 4,
 "nbformat_minor": 2
}
