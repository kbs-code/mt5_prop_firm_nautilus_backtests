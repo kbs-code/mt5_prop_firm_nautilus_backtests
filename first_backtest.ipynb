{
 "cells": [
  {
   "cell_type": "code",
   "execution_count": 58,
   "metadata": {},
   "outputs": [],
   "source": [
    "import pandas as pd\n",
    "from nautilus_trader.persistence.wranglers import BarDataWrangler\n",
    "from nautilus_trader.persistence.loaders import CSVBarDataLoader\n",
    "from nautilus_trader.test_kit.providers import TestInstrumentProvider\n",
    "from nautilus_trader.backtest.engine import BacktestEngine\n",
    "from nautilus_trader.backtest.engine import BacktestEngineConfig\n",
    "from nautilus_trader.model.data import BarType\n",
    "from nautilus_trader.model.identifiers import Venue\n",
    "from nautilus_trader.model.currencies import USD\n",
    "from nautilus_trader.model.enums import AccountType\n",
    "from nautilus_trader.model.enums import OmsType\n",
    "from nautilus_trader.model.objects import Money\n",
    "from nautilus_trader.trading.strategy import Strategy\n",
    "from nautilus_trader.model.enums import OrderSide\n",
    "from nautilus_trader.config import LoggingConfig\n",
    "from nautilus_trader.config import BacktestRunConfig\n",
    "from nautilus_trader.backtest.node import BacktestNode\n",
    "from nautilus_trader.backtest.results import BacktestResult"
   ]
  },
  {
   "cell_type": "code",
   "execution_count": 59,
   "metadata": {},
   "outputs": [
    {
     "name": "stdout",
     "output_type": "stream",
     "text": [
      "\n"
     ]
    }
   ],
   "source": [
    "# process data\n",
    "\n",
    "data_path = \"./data/EURUSD.csv\"\n",
    "df = CSVBarDataLoader.load(data_path)\n",
    "instrument = TestInstrumentProvider.default_fx_ccy(\"EUR/USD\")\n",
    "bar_type = BarType.from_str(\"EUR/USD.SIM-1-DAY-LAST-EXTERNAL\")\n",
    "wrangler = BarDataWrangler(\n",
    "  bar_type=bar_type,\n",
    "  instrument=instrument\n",
    ")\n",
    "\n",
    "bars = wrangler.process(df)\n",
    "\n",
    "# Configure backtest engine\n",
    "config = BacktestEngineConfig(trader_id=\"BACKTESTER-001\")\n",
    "\n",
    "# Build the backtest engine\n",
    "engine = BacktestEngine(config=config)\n",
    "\n",
    "# add venue\n",
    "\n",
    "SIM = Venue(\"SIM\")\n",
    "\n",
    "engine.add_venue(\n",
    "  venue=SIM,\n",
    "  oms_type=OmsType.NETTING,  \n",
    "  account_type=AccountType.MARGIN,\n",
    "  base_currency=USD,  \n",
    "  starting_balances=[Money(100_000, USD)], \n",
    "  bar_execution=True\n",
    ")\n",
    "\n",
    "# add data to engine\n",
    "\n",
    "engine.add_instrument(instrument)\n",
    "engine.add_data(bars)"
   ]
  },
  {
   "cell_type": "code",
   "execution_count": 60,
   "metadata": {},
   "outputs": [],
   "source": [
    "# strategy\n",
    "\n",
    "class BuyAndHold(Strategy):\n",
    "  def __init__(self) -> None:\n",
    "    super().__init__() \n",
    "\n",
    "  def on_start(self) -> None:\n",
    "    self.instrument = instrument\n",
    "    self.bar_type = bar_type\n",
    "    \n",
    "    if self.instrument is None:\n",
    "      self.log.error(f\"Could not find instrument for {self.instrument_id}\")\n",
    "      self.stop()\n",
    "      return\n",
    "    \n",
    "    self.request_instrument(self.instrument)\n",
    "    self.request_bars(self.bar_type)\n",
    "    \n",
    "  def on_stop(self) -> None:\n",
    "    self.close_all_positions(self.instrument_id)\n",
    "\n",
    "  def on_bar(self) -> None:\n",
    "    self.market_order(\n",
    "      instrument_id=self.instrument_id,\n",
    "      order_side=OrderSide.BUY,\n",
    "      venue_id=SIM,\n",
    "      quantity=1\n",
    "    )"
   ]
  },
  {
   "cell_type": "code",
   "execution_count": 61,
   "metadata": {},
   "outputs": [],
   "source": [
    "# backtest engine config and logging\n",
    "\n",
    "engine = BacktestEngineConfig(\n",
    "  trader_id=\"TESTER-001\",\n",
    "  logging=LoggingConfig(\n",
    "    log_level=\"INFO\",\n",
    "    log_level_file=\"DEBUG\",\n",
    "    log_file_format=\"json\",\n",
    "    log_component_levels={ \"Portfolio\": \"INFO\" },\n",
    "  ),\n",
    ")"
   ]
  },
  {
   "cell_type": "code",
   "execution_count": 62,
   "metadata": {},
   "outputs": [
    {
     "ename": "AttributeError",
     "evalue": "'BacktestEngineConfig' object has no attribute 'run'",
     "output_type": "error",
     "traceback": [
      "\u001b[1;31m---------------------------------------------------------------------------\u001b[0m",
      "\u001b[1;31mAttributeError\u001b[0m                            Traceback (most recent call last)",
      "\u001b[1;32mc:\\Users\\k0240\\Documents\\projects\\mt5_prop_firm_nautilus_backtests\\first_backtest.ipynb Cell 5\u001b[0m line \u001b[0;36m3\n\u001b[0;32m      <a href='vscode-notebook-cell:/c%3A/Users/k0240/Documents/projects/mt5_prop_firm_nautilus_backtests/first_backtest.ipynb#W3sZmlsZQ%3D%3D?line=0'>1</a>\u001b[0m \u001b[39m# run engine\u001b[39;00m\n\u001b[1;32m----> <a href='vscode-notebook-cell:/c%3A/Users/k0240/Documents/projects/mt5_prop_firm_nautilus_backtests/first_backtest.ipynb#W3sZmlsZQ%3D%3D?line=2'>3</a>\u001b[0m engine\u001b[39m.\u001b[39mrun()\n\u001b[0;32m      <a href='vscode-notebook-cell:/c%3A/Users/k0240/Documents/projects/mt5_prop_firm_nautilus_backtests/first_backtest.ipynb#W3sZmlsZQ%3D%3D?line=4'>5</a>\u001b[0m   \u001b[39m# Optionally view reports\u001b[39;00m\n\u001b[0;32m      <a href='vscode-notebook-cell:/c%3A/Users/k0240/Documents/projects/mt5_prop_firm_nautilus_backtests/first_backtest.ipynb#W3sZmlsZQ%3D%3D?line=5'>6</a>\u001b[0m \u001b[39mwith\u001b[39;00m pd\u001b[39m.\u001b[39moption_context(\n\u001b[0;32m      <a href='vscode-notebook-cell:/c%3A/Users/k0240/Documents/projects/mt5_prop_firm_nautilus_backtests/first_backtest.ipynb#W3sZmlsZQ%3D%3D?line=6'>7</a>\u001b[0m     \u001b[39m\"\u001b[39m\u001b[39mdisplay.max_rows\u001b[39m\u001b[39m\"\u001b[39m,\n\u001b[0;32m      <a href='vscode-notebook-cell:/c%3A/Users/k0240/Documents/projects/mt5_prop_firm_nautilus_backtests/first_backtest.ipynb#W3sZmlsZQ%3D%3D?line=7'>8</a>\u001b[0m     \u001b[39m100\u001b[39m,\n\u001b[1;32m   (...)\u001b[0m\n\u001b[0;32m     <a href='vscode-notebook-cell:/c%3A/Users/k0240/Documents/projects/mt5_prop_firm_nautilus_backtests/first_backtest.ipynb#W3sZmlsZQ%3D%3D?line=11'>12</a>\u001b[0m     \u001b[39m300\u001b[39m,\n\u001b[0;32m     <a href='vscode-notebook-cell:/c%3A/Users/k0240/Documents/projects/mt5_prop_firm_nautilus_backtests/first_backtest.ipynb#W3sZmlsZQ%3D%3D?line=12'>13</a>\u001b[0m ):\n",
      "\u001b[1;31mAttributeError\u001b[0m: 'BacktestEngineConfig' object has no attribute 'run'"
     ]
    }
   ],
   "source": [
    "# run engine\n",
    "\n",
    "engine.run()\n",
    "\n",
    "  # Optionally view reports\n",
    "with pd.option_context(\n",
    "    \"display.max_rows\",\n",
    "    100,\n",
    "    \"display.max_columns\",\n",
    "    None,\n",
    "    \"display.width\",\n",
    "    300,\n",
    "):\n",
    "  print(engine.trader.generate_account_report(SIM))\n",
    "  print(engine.trader.generate_order_fills_report())\n",
    "  print(engine.trader.generate_positions_report())\n",
    "\n",
    "# For repeated backtest runs make sure to reset the engine\n",
    "engine.reset()\n",
    "\n",
    "# Good practice to dispose of the object when done\n",
    "engine.dispose()"
   ]
  }
 ],
 "metadata": {
  "kernelspec": {
   "display_name": "mt5_prop_firm_nautilus_backtests",
   "language": "python",
   "name": "python3"
  },
  "language_info": {
   "codemirror_mode": {
    "name": "ipython",
    "version": 3
   },
   "file_extension": ".py",
   "mimetype": "text/x-python",
   "name": "python",
   "nbconvert_exporter": "python",
   "pygments_lexer": "ipython3",
   "version": "3.11.5"
  }
 },
 "nbformat": 4,
 "nbformat_minor": 2
}
