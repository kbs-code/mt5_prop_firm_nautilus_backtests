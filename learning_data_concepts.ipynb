{
 "cells": [
  {
   "cell_type": "code",
   "execution_count": 1,
   "metadata": {},
   "outputs": [],
   "source": [
    "import os\n",
    "import pandas as pd\n",
    "from nautilus_trader.persistence.wranglers import BarDataWrangler\n",
    "from nautilus_trader.persistence.loaders import CSVBarDataLoader\n",
    "from nautilus_trader.test_kit.providers import TestDataProvider\n",
    "from nautilus_trader.test_kit.providers import TestInstrumentProvider\n",
    "from nautilus_trader.model.data import BarType"
   ]
  },
  {
   "cell_type": "code",
   "execution_count": 28,
   "metadata": {},
   "outputs": [
    {
     "ename": "ValueError",
     "evalue": "Error parsing `BarType` from 'EUR/USD.FX_OHLCV_DAILY', invalid token: '' at position 0",
     "output_type": "error",
     "traceback": [
      "\u001b[1;31m---------------------------------------------------------------------------\u001b[0m",
      "\u001b[1;31mValueError\u001b[0m                                Traceback (most recent call last)",
      "\u001b[1;32mc:\\Users\\k0240\\Documents\\projects\\mt5_prop_firm_nautilus_backtests\\research.ipynb Cell 2\u001b[0m line \u001b[0;36m3\n\u001b[0;32m      <a href='vscode-notebook-cell:/c%3A/Users/k0240/Documents/projects/mt5_prop_firm_nautilus_backtests/research.ipynb#W2sZmlsZQ%3D%3D?line=0'>1</a>\u001b[0m \u001b[39m# try 1\u001b[39;00m\n\u001b[0;32m      <a href='vscode-notebook-cell:/c%3A/Users/k0240/Documents/projects/mt5_prop_firm_nautilus_backtests/research.ipynb#W2sZmlsZQ%3D%3D?line=1'>2</a>\u001b[0m wrangler \u001b[39m=\u001b[39m BarDataWrangler(\n\u001b[1;32m----> <a href='vscode-notebook-cell:/c%3A/Users/k0240/Documents/projects/mt5_prop_firm_nautilus_backtests/research.ipynb#W2sZmlsZQ%3D%3D?line=2'>3</a>\u001b[0m   bar_type\u001b[39m=\u001b[39mBarType\u001b[39m.\u001b[39mfrom_str(\u001b[39m\"\u001b[39m\u001b[39mEUR/USD.FX_OHLCV_DAILY\u001b[39m\u001b[39m\"\u001b[39m),\n\u001b[0;32m      <a href='vscode-notebook-cell:/c%3A/Users/k0240/Documents/projects/mt5_prop_firm_nautilus_backtests/research.ipynb#W2sZmlsZQ%3D%3D?line=3'>4</a>\u001b[0m   instrument\u001b[39m=\u001b[39m\u001b[39m\"\u001b[39m\u001b[39mEURUSD\u001b[39m\u001b[39m\"\u001b[39m)\n\u001b[0;32m      <a href='vscode-notebook-cell:/c%3A/Users/k0240/Documents/projects/mt5_prop_firm_nautilus_backtests/research.ipynb#W2sZmlsZQ%3D%3D?line=4'>5</a>\u001b[0m df \u001b[39m=\u001b[39m CSVBarDataLoader\u001b[39m.\u001b[39mload(data_path)\n\u001b[0;32m      <a href='vscode-notebook-cell:/c%3A/Users/k0240/Documents/projects/mt5_prop_firm_nautilus_backtests/research.ipynb#W2sZmlsZQ%3D%3D?line=5'>6</a>\u001b[0m bars \u001b[39m=\u001b[39m wrangler\u001b[39m.\u001b[39mprocess_bar_data(df)\n",
      "File \u001b[1;32mc:\\tools\\miniconda3\\envs\\mt5_prop_firm_nautilus_backtests\\Lib\\site-packages\\nautilus_trader\\model\\data\\bar.pyx:612\u001b[0m, in \u001b[0;36mnautilus_trader.model.data.bar.BarType.from_str\u001b[1;34m()\u001b[0m\n",
      "File \u001b[1;32mc:\\tools\\miniconda3\\envs\\mt5_prop_firm_nautilus_backtests\\Lib\\site-packages\\nautilus_trader\\model\\data\\bar.pyx:550\u001b[0m, in \u001b[0;36mnautilus_trader.model.data.bar.BarType.from_str_c\u001b[1;34m()\u001b[0m\n",
      "\u001b[1;31mValueError\u001b[0m: Error parsing `BarType` from 'EUR/USD.FX_OHLCV_DAILY', invalid token: '' at position 0"
     ]
    }
   ],
   "source": [
    "# try 1\n",
    "wrangler = BarDataWrangler(\n",
    "  bar_type=BarType.from_str(\"EUR/USD.FX_OHLCV_DAILY\"),\n",
    "  instrument=\"EURUSD\")\n",
    "df = CSVBarDataLoader.load(data_path)\n",
    "bars = wrangler.process_bar_data(df)"
   ]
  },
  {
   "cell_type": "code",
   "execution_count": 29,
   "metadata": {},
   "outputs": [
    {
     "name": "stdout",
     "output_type": "stream",
     "text": [
      "Couldn't find test data directory, test data will be pulled from GitHub\n"
     ]
    },
    {
     "ename": "ImportError",
     "evalue": "Install the requests package to use the github FS",
     "output_type": "error",
     "traceback": [
      "\u001b[1;31m---------------------------------------------------------------------------\u001b[0m",
      "\u001b[1;31mModuleNotFoundError\u001b[0m                       Traceback (most recent call last)",
      "File \u001b[1;32mc:\\tools\\miniconda3\\envs\\mt5_prop_firm_nautilus_backtests\\Lib\\site-packages\\fsspec\\registry.py:226\u001b[0m, in \u001b[0;36mget_filesystem_class\u001b[1;34m(protocol)\u001b[0m\n\u001b[0;32m    225\u001b[0m \u001b[39mtry\u001b[39;00m:\n\u001b[1;32m--> 226\u001b[0m     register_implementation(protocol, _import_class(bit[\u001b[39m\"\u001b[39m\u001b[39mclass\u001b[39m\u001b[39m\"\u001b[39m]))\n\u001b[0;32m    227\u001b[0m \u001b[39mexcept\u001b[39;00m \u001b[39mImportError\u001b[39;00m \u001b[39mas\u001b[39;00m e:\n",
      "File \u001b[1;32mc:\\tools\\miniconda3\\envs\\mt5_prop_firm_nautilus_backtests\\Lib\\site-packages\\fsspec\\registry.py:249\u001b[0m, in \u001b[0;36m_import_class\u001b[1;34m(cls, minv)\u001b[0m\n\u001b[0;32m    248\u001b[0m mod, name \u001b[39m=\u001b[39m \u001b[39mcls\u001b[39m\u001b[39m.\u001b[39mrsplit(\u001b[39m\"\u001b[39m\u001b[39m.\u001b[39m\u001b[39m\"\u001b[39m, \u001b[39m1\u001b[39m)\n\u001b[1;32m--> 249\u001b[0m mod \u001b[39m=\u001b[39m importlib\u001b[39m.\u001b[39mimport_module(mod)\n\u001b[0;32m    250\u001b[0m \u001b[39mreturn\u001b[39;00m \u001b[39mgetattr\u001b[39m(mod, name)\n",
      "File \u001b[1;32mc:\\tools\\miniconda3\\envs\\mt5_prop_firm_nautilus_backtests\\Lib\\importlib\\__init__.py:126\u001b[0m, in \u001b[0;36mimport_module\u001b[1;34m(name, package)\u001b[0m\n\u001b[0;32m    125\u001b[0m         level \u001b[39m+\u001b[39m\u001b[39m=\u001b[39m \u001b[39m1\u001b[39m\n\u001b[1;32m--> 126\u001b[0m \u001b[39mreturn\u001b[39;00m _bootstrap\u001b[39m.\u001b[39m_gcd_import(name[level:], package, level)\n",
      "File \u001b[1;32m<frozen importlib._bootstrap>:1204\u001b[0m, in \u001b[0;36m_gcd_import\u001b[1;34m(name, package, level)\u001b[0m\n",
      "File \u001b[1;32m<frozen importlib._bootstrap>:1176\u001b[0m, in \u001b[0;36m_find_and_load\u001b[1;34m(name, import_)\u001b[0m\n",
      "File \u001b[1;32m<frozen importlib._bootstrap>:1147\u001b[0m, in \u001b[0;36m_find_and_load_unlocked\u001b[1;34m(name, import_)\u001b[0m\n",
      "File \u001b[1;32m<frozen importlib._bootstrap>:690\u001b[0m, in \u001b[0;36m_load_unlocked\u001b[1;34m(spec)\u001b[0m\n",
      "File \u001b[1;32m<frozen importlib._bootstrap_external>:940\u001b[0m, in \u001b[0;36mexec_module\u001b[1;34m(self, module)\u001b[0m\n",
      "File \u001b[1;32m<frozen importlib._bootstrap>:241\u001b[0m, in \u001b[0;36m_call_with_frames_removed\u001b[1;34m(f, *args, **kwds)\u001b[0m\n",
      "File \u001b[1;32mc:\\tools\\miniconda3\\envs\\mt5_prop_firm_nautilus_backtests\\Lib\\site-packages\\fsspec\\implementations\\github.py:1\u001b[0m\n\u001b[1;32m----> 1\u001b[0m \u001b[39mimport\u001b[39;00m \u001b[39mrequests\u001b[39;00m\n\u001b[0;32m      3\u001b[0m \u001b[39mfrom\u001b[39;00m \u001b[39m.\u001b[39;00m\u001b[39m.\u001b[39;00m\u001b[39mspec\u001b[39;00m \u001b[39mimport\u001b[39;00m AbstractFileSystem\n",
      "\u001b[1;31mModuleNotFoundError\u001b[0m: No module named 'requests'",
      "\nThe above exception was the direct cause of the following exception:\n",
      "\u001b[1;31mImportError\u001b[0m                               Traceback (most recent call last)",
      "\u001b[1;32mc:\\Users\\k0240\\Documents\\projects\\mt5_prop_firm_nautilus_backtests\\research.ipynb Cell 3\u001b[0m line \u001b[0;36m2\n\u001b[0;32m      <a href='vscode-notebook-cell:/c%3A/Users/k0240/Documents/projects/mt5_prop_firm_nautilus_backtests/research.ipynb#W3sZmlsZQ%3D%3D?line=0'>1</a>\u001b[0m \u001b[39m# try 2 \u001b[39;00m\n\u001b[1;32m----> <a href='vscode-notebook-cell:/c%3A/Users/k0240/Documents/projects/mt5_prop_firm_nautilus_backtests/research.ipynb#W3sZmlsZQ%3D%3D?line=1'>2</a>\u001b[0m provider \u001b[39m=\u001b[39m TestDataProvider()\n\u001b[0;32m      <a href='vscode-notebook-cell:/c%3A/Users/k0240/Documents/projects/mt5_prop_firm_nautilus_backtests/research.ipynb#W3sZmlsZQ%3D%3D?line=2'>3</a>\u001b[0m data_path \u001b[39m=\u001b[39m \u001b[39m\"\u001b[39m\u001b[39m./data/EURUSD.csv\u001b[39m\u001b[39m\"\u001b[39m\n\u001b[0;32m      <a href='vscode-notebook-cell:/c%3A/Users/k0240/Documents/projects/mt5_prop_firm_nautilus_backtests/research.ipynb#W3sZmlsZQ%3D%3D?line=3'>4</a>\u001b[0m bars \u001b[39m=\u001b[39m provider\u001b[39m.\u001b[39mread_csv(data_path)\n",
      "File \u001b[1;32mc:\\tools\\miniconda3\\envs\\mt5_prop_firm_nautilus_backtests\\Lib\\site-packages\\nautilus_trader\\test_kit\\providers.py:565\u001b[0m, in \u001b[0;36mTestDataProvider.__init__\u001b[1;34m(self, branch)\u001b[0m\n\u001b[0;32m    563\u001b[0m \u001b[39mself\u001b[39m\u001b[39m.\u001b[39mfs: fsspec\u001b[39m.\u001b[39mAbstractFileSystem \u001b[39m|\u001b[39m \u001b[39mNone\u001b[39;00m \u001b[39m=\u001b[39m \u001b[39mNone\u001b[39;00m\n\u001b[0;32m    564\u001b[0m \u001b[39mself\u001b[39m\u001b[39m.\u001b[39mroot: \u001b[39mstr\u001b[39m \u001b[39m|\u001b[39m \u001b[39mNone\u001b[39;00m \u001b[39m=\u001b[39m \u001b[39mNone\u001b[39;00m\n\u001b[1;32m--> 565\u001b[0m \u001b[39mself\u001b[39m\u001b[39m.\u001b[39m_determine_filesystem()\n\u001b[0;32m    566\u001b[0m \u001b[39mself\u001b[39m\u001b[39m.\u001b[39mbranch \u001b[39m=\u001b[39m branch\n",
      "File \u001b[1;32mc:\\tools\\miniconda3\\envs\\mt5_prop_firm_nautilus_backtests\\Lib\\site-packages\\nautilus_trader\\test_kit\\providers.py:587\u001b[0m, in \u001b[0;36mTestDataProvider._determine_filesystem\u001b[1;34m(self)\u001b[0m\n\u001b[0;32m    585\u001b[0m \u001b[39mprint\u001b[39m(\u001b[39m\"\u001b[39m\u001b[39mCouldn\u001b[39m\u001b[39m'\u001b[39m\u001b[39mt find test data directory, test data will be pulled from GitHub\u001b[39m\u001b[39m\"\u001b[39m)\n\u001b[0;32m    586\u001b[0m \u001b[39mself\u001b[39m\u001b[39m.\u001b[39mroot \u001b[39m=\u001b[39m \u001b[39m\"\u001b[39m\u001b[39mtests/test_data\u001b[39m\u001b[39m\"\u001b[39m\n\u001b[1;32m--> 587\u001b[0m \u001b[39mself\u001b[39m\u001b[39m.\u001b[39mfs \u001b[39m=\u001b[39m fsspec\u001b[39m.\u001b[39mfilesystem(\u001b[39m\"\u001b[39m\u001b[39mgithub\u001b[39m\u001b[39m\"\u001b[39m, org\u001b[39m=\u001b[39m\u001b[39m\"\u001b[39m\u001b[39mnautechsystems\u001b[39m\u001b[39m\"\u001b[39m, repo\u001b[39m=\u001b[39m\u001b[39m\"\u001b[39m\u001b[39mnautilus_trader\u001b[39m\u001b[39m\"\u001b[39m)\n",
      "File \u001b[1;32mc:\\tools\\miniconda3\\envs\\mt5_prop_firm_nautilus_backtests\\Lib\\site-packages\\fsspec\\registry.py:266\u001b[0m, in \u001b[0;36mfilesystem\u001b[1;34m(protocol, **storage_options)\u001b[0m\n\u001b[0;32m    259\u001b[0m \u001b[39mif\u001b[39;00m protocol \u001b[39m==\u001b[39m \u001b[39m\"\u001b[39m\u001b[39marrow_hdfs\u001b[39m\u001b[39m\"\u001b[39m:\n\u001b[0;32m    260\u001b[0m     warnings\u001b[39m.\u001b[39mwarn(\n\u001b[0;32m    261\u001b[0m         \u001b[39m\"\u001b[39m\u001b[39mThe \u001b[39m\u001b[39m'\u001b[39m\u001b[39marrow_hdfs\u001b[39m\u001b[39m'\u001b[39m\u001b[39m protocol has been deprecated and will be \u001b[39m\u001b[39m\"\u001b[39m\n\u001b[0;32m    262\u001b[0m         \u001b[39m\"\u001b[39m\u001b[39mremoved in the future. Specify it as \u001b[39m\u001b[39m'\u001b[39m\u001b[39mhdfs\u001b[39m\u001b[39m'\u001b[39m\u001b[39m.\u001b[39m\u001b[39m\"\u001b[39m,\n\u001b[0;32m    263\u001b[0m         \u001b[39mDeprecationWarning\u001b[39;00m,\n\u001b[0;32m    264\u001b[0m     )\n\u001b[1;32m--> 266\u001b[0m \u001b[39mcls\u001b[39m \u001b[39m=\u001b[39m get_filesystem_class(protocol)\n\u001b[0;32m    267\u001b[0m \u001b[39mreturn\u001b[39;00m \u001b[39mcls\u001b[39m(\u001b[39m*\u001b[39m\u001b[39m*\u001b[39mstorage_options)\n",
      "File \u001b[1;32mc:\\tools\\miniconda3\\envs\\mt5_prop_firm_nautilus_backtests\\Lib\\site-packages\\fsspec\\registry.py:228\u001b[0m, in \u001b[0;36mget_filesystem_class\u001b[1;34m(protocol)\u001b[0m\n\u001b[0;32m    226\u001b[0m         register_implementation(protocol, _import_class(bit[\u001b[39m\"\u001b[39m\u001b[39mclass\u001b[39m\u001b[39m\"\u001b[39m]))\n\u001b[0;32m    227\u001b[0m     \u001b[39mexcept\u001b[39;00m \u001b[39mImportError\u001b[39;00m \u001b[39mas\u001b[39;00m e:\n\u001b[1;32m--> 228\u001b[0m         \u001b[39mraise\u001b[39;00m \u001b[39mImportError\u001b[39;00m(bit[\u001b[39m\"\u001b[39m\u001b[39merr\u001b[39m\u001b[39m\"\u001b[39m]) \u001b[39mfrom\u001b[39;00m \u001b[39me\u001b[39;00m\n\u001b[0;32m    229\u001b[0m \u001b[39mcls\u001b[39m \u001b[39m=\u001b[39m registry[protocol]\n\u001b[0;32m    230\u001b[0m \u001b[39mif\u001b[39;00m \u001b[39mgetattr\u001b[39m(\u001b[39mcls\u001b[39m, \u001b[39m\"\u001b[39m\u001b[39mprotocol\u001b[39m\u001b[39m\"\u001b[39m, \u001b[39mNone\u001b[39;00m) \u001b[39min\u001b[39;00m (\u001b[39m\"\u001b[39m\u001b[39mabstract\u001b[39m\u001b[39m\"\u001b[39m, \u001b[39mNone\u001b[39;00m):\n",
      "\u001b[1;31mImportError\u001b[0m: Install the requests package to use the github FS"
     ]
    }
   ],
   "source": [
    "# try 2 \n",
    "provider = TestDataProvider()\n",
    "data_path = \"./data/EURUSD.csv\"\n",
    "bars = provider.read_csv(data_path)"
   ]
  },
  {
   "cell_type": "code",
   "execution_count": 30,
   "metadata": {},
   "outputs": [
    {
     "ename": "TypeError",
     "evalue": "__init__() takes exactly 2 positional arguments (1 given)",
     "output_type": "error",
     "traceback": [
      "\u001b[1;31m---------------------------------------------------------------------------\u001b[0m",
      "\u001b[1;31mTypeError\u001b[0m                                 Traceback (most recent call last)",
      "\u001b[1;32mc:\\Users\\k0240\\Documents\\projects\\mt5_prop_firm_nautilus_backtests\\research.ipynb Cell 4\u001b[0m line \u001b[0;36m5\n\u001b[0;32m      <a href='vscode-notebook-cell:/c%3A/Users/k0240/Documents/projects/mt5_prop_firm_nautilus_backtests/research.ipynb#W4sZmlsZQ%3D%3D?line=2'>3</a>\u001b[0m df \u001b[39m=\u001b[39m pd\u001b[39m.\u001b[39mread_csv(data_path)\n\u001b[0;32m      <a href='vscode-notebook-cell:/c%3A/Users/k0240/Documents/projects/mt5_prop_firm_nautilus_backtests/research.ipynb#W4sZmlsZQ%3D%3D?line=3'>4</a>\u001b[0m EURUSD \u001b[39m=\u001b[39m TestInstrumentProvider\u001b[39m.\u001b[39mdefault_fx_ccy(\u001b[39m\"\u001b[39m\u001b[39mEUR/USD\u001b[39m\u001b[39m\"\u001b[39m)\n\u001b[1;32m----> <a href='vscode-notebook-cell:/c%3A/Users/k0240/Documents/projects/mt5_prop_firm_nautilus_backtests/research.ipynb#W4sZmlsZQ%3D%3D?line=4'>5</a>\u001b[0m wrangler \u001b[39m=\u001b[39m BarDataWrangler(EURUSD)\n\u001b[0;32m      <a href='vscode-notebook-cell:/c%3A/Users/k0240/Documents/projects/mt5_prop_firm_nautilus_backtests/research.ipynb#W4sZmlsZQ%3D%3D?line=5'>6</a>\u001b[0m bars \u001b[39m=\u001b[39m wrangler\u001b[39m.\u001b[39mprocess_bar_data(df)\n",
      "File \u001b[1;32mc:\\tools\\miniconda3\\envs\\mt5_prop_firm_nautilus_backtests\\Lib\\site-packages\\nautilus_trader\\persistence\\wranglers.pyx:555\u001b[0m, in \u001b[0;36mnautilus_trader.persistence.wranglers.BarDataWrangler.__init__\u001b[1;34m()\u001b[0m\n",
      "\u001b[1;31mTypeError\u001b[0m: __init__() takes exactly 2 positional arguments (1 given)"
     ]
    }
   ],
   "source": [
    "# try 3\n",
    "data_path = \"./data/EURUSD.csv\"\n",
    "df = pd.read_csv(data_path)\n",
    "EURUSD = TestInstrumentProvider.default_fx_ccy(\"EUR/USD\")\n",
    "wrangler = BarDataWrangler(EURUSD)\n",
    "bars = wrangler.process_bar_data(df)"
   ]
  },
  {
   "cell_type": "code",
   "execution_count": 39,
   "metadata": {},
   "outputs": [
    {
     "ename": "ValueError",
     "evalue": "Error parsing `BarType` from 'EUR/USD.FX_OHLCV_DAILY', invalid token: '' at position 0",
     "output_type": "error",
     "traceback": [
      "\u001b[1;31m---------------------------------------------------------------------------\u001b[0m",
      "\u001b[1;31mValueError\u001b[0m                                Traceback (most recent call last)",
      "\u001b[1;32mc:\\Users\\k0240\\Documents\\projects\\mt5_prop_firm_nautilus_backtests\\research.ipynb Cell 5\u001b[0m line \u001b[0;36m1\n\u001b[0;32m      <a href='vscode-notebook-cell:/c%3A/Users/k0240/Documents/projects/mt5_prop_firm_nautilus_backtests/research.ipynb#W1sZmlsZQ%3D%3D?line=8'>9</a>\u001b[0m \u001b[39m# data wrangler\u001b[39;00m\n\u001b[0;32m     <a href='vscode-notebook-cell:/c%3A/Users/k0240/Documents/projects/mt5_prop_firm_nautilus_backtests/research.ipynb#W1sZmlsZQ%3D%3D?line=9'>10</a>\u001b[0m instrument \u001b[39m=\u001b[39m TestInstrumentProvider\u001b[39m.\u001b[39mdefault_fx_ccy(\u001b[39m\"\u001b[39m\u001b[39mEUR/USD\u001b[39m\u001b[39m\"\u001b[39m)\n\u001b[0;32m     <a href='vscode-notebook-cell:/c%3A/Users/k0240/Documents/projects/mt5_prop_firm_nautilus_backtests/research.ipynb#W1sZmlsZQ%3D%3D?line=10'>11</a>\u001b[0m wrangler \u001b[39m=\u001b[39m BarDataWrangler(\n\u001b[1;32m---> <a href='vscode-notebook-cell:/c%3A/Users/k0240/Documents/projects/mt5_prop_firm_nautilus_backtests/research.ipynb#W1sZmlsZQ%3D%3D?line=11'>12</a>\u001b[0m   bar_type\u001b[39m=\u001b[39mBarType\u001b[39m.\u001b[39mfrom_str(\u001b[39m\"\u001b[39m\u001b[39mEUR/USD.FX_OHLCV_DAILY\u001b[39m\u001b[39m\"\u001b[39m),\n\u001b[0;32m     <a href='vscode-notebook-cell:/c%3A/Users/k0240/Documents/projects/mt5_prop_firm_nautilus_backtests/research.ipynb#W1sZmlsZQ%3D%3D?line=12'>13</a>\u001b[0m   instrument\u001b[39m=\u001b[39minstrument\n\u001b[0;32m     <a href='vscode-notebook-cell:/c%3A/Users/k0240/Documents/projects/mt5_prop_firm_nautilus_backtests/research.ipynb#W1sZmlsZQ%3D%3D?line=13'>14</a>\u001b[0m )\n\u001b[0;32m     <a href='vscode-notebook-cell:/c%3A/Users/k0240/Documents/projects/mt5_prop_firm_nautilus_backtests/research.ipynb#W1sZmlsZQ%3D%3D?line=15'>16</a>\u001b[0m bars \u001b[39m=\u001b[39m wrangler\u001b[39m.\u001b[39mprocess(df)\n",
      "File \u001b[1;32mc:\\tools\\miniconda3\\envs\\mt5_prop_firm_nautilus_backtests\\Lib\\site-packages\\nautilus_trader\\model\\data\\bar.pyx:612\u001b[0m, in \u001b[0;36mnautilus_trader.model.data.bar.BarType.from_str\u001b[1;34m()\u001b[0m\n",
      "File \u001b[1;32mc:\\tools\\miniconda3\\envs\\mt5_prop_firm_nautilus_backtests\\Lib\\site-packages\\nautilus_trader\\model\\data\\bar.pyx:550\u001b[0m, in \u001b[0;36mnautilus_trader.model.data.bar.BarType.from_str_c\u001b[1;34m()\u001b[0m\n",
      "\u001b[1;31mValueError\u001b[0m: Error parsing `BarType` from 'EUR/USD.FX_OHLCV_DAILY', invalid token: '' at position 0"
     ]
    }
   ],
   "source": [
    "# try 4\n",
    "\n",
    "# raw data\n",
    "data_path = os.path.join(\"./data/EURUSD.csv\")\n",
    "\n",
    "# data loader\n",
    "df = CSVBarDataLoader.load(data_path)\n",
    "\n",
    "# data wrangler\n",
    "instrument = InstrumentType.from_str(\"EUR/USD\")\n",
    "wrangler = BarDataWrangler(\n",
    "  bar_type=BarType.from_str(\"EUR/USD.FX_OHLCV_DAILY\"),\n",
    "  instrument=instrument\n",
    ")\n",
    "\n",
    "bars = wrangler.process(df)"
   ]
  },
  {
   "cell_type": "code",
   "execution_count": null,
   "metadata": {},
   "outputs": [],
   "source": [
    "# try 5\n",
    "\n",
    "# raw data\n",
    "data_path = os.path.join(\"./data/EURUSD.csv\")\n",
    "\n",
    "# data loader\n",
    "df = CSVBarDataLoader.load(data_path)\n",
    "\n",
    "# data wrangler\n",
    "instrument = InstrumentType.from_str(\"EUR/USD\")\n",
    "wrangler = BarDataWrangler(\n",
    "  bar_type=BarType.from_str(\"EUR/USD.FX_OHLCV_DAILY\"),\n",
    "  instrument=instrument\n",
    ")\n",
    "\n",
    "bars = wrangler.process(df)\n"
   ]
  },
  {
   "cell_type": "code",
   "execution_count": 4,
   "metadata": {},
   "outputs": [
    {
     "name": "stdout",
     "output_type": "stream",
     "text": [
      "Couldn't find test data directory, test data will be pulled from GitHub\n"
     ]
    },
    {
     "ename": "ImportError",
     "evalue": "Install the requests package to use the github FS",
     "output_type": "error",
     "traceback": [
      "\u001b[1;31m---------------------------------------------------------------------------\u001b[0m",
      "\u001b[1;31mModuleNotFoundError\u001b[0m                       Traceback (most recent call last)",
      "File \u001b[1;32mc:\\tools\\miniconda3\\envs\\mt5_prop_firm_nautilus_backtests\\Lib\\site-packages\\fsspec\\registry.py:226\u001b[0m, in \u001b[0;36mget_filesystem_class\u001b[1;34m(protocol)\u001b[0m\n\u001b[0;32m    225\u001b[0m \u001b[39mtry\u001b[39;00m:\n\u001b[1;32m--> 226\u001b[0m     register_implementation(protocol, _import_class(bit[\u001b[39m\"\u001b[39m\u001b[39mclass\u001b[39m\u001b[39m\"\u001b[39m]))\n\u001b[0;32m    227\u001b[0m \u001b[39mexcept\u001b[39;00m \u001b[39mImportError\u001b[39;00m \u001b[39mas\u001b[39;00m e:\n",
      "File \u001b[1;32mc:\\tools\\miniconda3\\envs\\mt5_prop_firm_nautilus_backtests\\Lib\\site-packages\\fsspec\\registry.py:249\u001b[0m, in \u001b[0;36m_import_class\u001b[1;34m(cls, minv)\u001b[0m\n\u001b[0;32m    248\u001b[0m mod, name \u001b[39m=\u001b[39m \u001b[39mcls\u001b[39m\u001b[39m.\u001b[39mrsplit(\u001b[39m\"\u001b[39m\u001b[39m.\u001b[39m\u001b[39m\"\u001b[39m, \u001b[39m1\u001b[39m)\n\u001b[1;32m--> 249\u001b[0m mod \u001b[39m=\u001b[39m importlib\u001b[39m.\u001b[39mimport_module(mod)\n\u001b[0;32m    250\u001b[0m \u001b[39mreturn\u001b[39;00m \u001b[39mgetattr\u001b[39m(mod, name)\n",
      "File \u001b[1;32mc:\\tools\\miniconda3\\envs\\mt5_prop_firm_nautilus_backtests\\Lib\\importlib\\__init__.py:126\u001b[0m, in \u001b[0;36mimport_module\u001b[1;34m(name, package)\u001b[0m\n\u001b[0;32m    125\u001b[0m         level \u001b[39m+\u001b[39m\u001b[39m=\u001b[39m \u001b[39m1\u001b[39m\n\u001b[1;32m--> 126\u001b[0m \u001b[39mreturn\u001b[39;00m _bootstrap\u001b[39m.\u001b[39m_gcd_import(name[level:], package, level)\n",
      "File \u001b[1;32m<frozen importlib._bootstrap>:1204\u001b[0m, in \u001b[0;36m_gcd_import\u001b[1;34m(name, package, level)\u001b[0m\n",
      "File \u001b[1;32m<frozen importlib._bootstrap>:1176\u001b[0m, in \u001b[0;36m_find_and_load\u001b[1;34m(name, import_)\u001b[0m\n",
      "File \u001b[1;32m<frozen importlib._bootstrap>:1147\u001b[0m, in \u001b[0;36m_find_and_load_unlocked\u001b[1;34m(name, import_)\u001b[0m\n",
      "File \u001b[1;32m<frozen importlib._bootstrap>:690\u001b[0m, in \u001b[0;36m_load_unlocked\u001b[1;34m(spec)\u001b[0m\n",
      "File \u001b[1;32m<frozen importlib._bootstrap_external>:940\u001b[0m, in \u001b[0;36mexec_module\u001b[1;34m(self, module)\u001b[0m\n",
      "File \u001b[1;32m<frozen importlib._bootstrap>:241\u001b[0m, in \u001b[0;36m_call_with_frames_removed\u001b[1;34m(f, *args, **kwds)\u001b[0m\n",
      "File \u001b[1;32mc:\\tools\\miniconda3\\envs\\mt5_prop_firm_nautilus_backtests\\Lib\\site-packages\\fsspec\\implementations\\github.py:1\u001b[0m\n\u001b[1;32m----> 1\u001b[0m \u001b[39mimport\u001b[39;00m \u001b[39mrequests\u001b[39;00m\n\u001b[0;32m      3\u001b[0m \u001b[39mfrom\u001b[39;00m \u001b[39m.\u001b[39;00m\u001b[39m.\u001b[39;00m\u001b[39mspec\u001b[39;00m \u001b[39mimport\u001b[39;00m AbstractFileSystem\n",
      "\u001b[1;31mModuleNotFoundError\u001b[0m: No module named 'requests'",
      "\nThe above exception was the direct cause of the following exception:\n",
      "\u001b[1;31mImportError\u001b[0m                               Traceback (most recent call last)",
      "\u001b[1;32mc:\\Users\\k0240\\Documents\\projects\\mt5_prop_firm_nautilus_backtests\\research.ipynb Cell 7\u001b[0m line \u001b[0;36m3\n\u001b[0;32m      <a href='vscode-notebook-cell:/c%3A/Users/k0240/Documents/projects/mt5_prop_firm_nautilus_backtests/research.ipynb#W6sZmlsZQ%3D%3D?line=0'>1</a>\u001b[0m \u001b[39m# try 6\u001b[39;00m\n\u001b[1;32m----> <a href='vscode-notebook-cell:/c%3A/Users/k0240/Documents/projects/mt5_prop_firm_nautilus_backtests/research.ipynb#W6sZmlsZQ%3D%3D?line=2'>3</a>\u001b[0m provider \u001b[39m=\u001b[39m TestDataProvider()\n\u001b[0;32m      <a href='vscode-notebook-cell:/c%3A/Users/k0240/Documents/projects/mt5_prop_firm_nautilus_backtests/research.ipynb#W6sZmlsZQ%3D%3D?line=4'>5</a>\u001b[0m data_path \u001b[39m=\u001b[39m \u001b[39m\"\u001b[39m\u001b[39m./data/EURUSD.csv\u001b[39m\u001b[39m\"\u001b[39m\n\u001b[0;32m      <a href='vscode-notebook-cell:/c%3A/Users/k0240/Documents/projects/mt5_prop_firm_nautilus_backtests/research.ipynb#W6sZmlsZQ%3D%3D?line=5'>6</a>\u001b[0m df \u001b[39m=\u001b[39m CSVBarDataLoader\u001b[39m.\u001b[39mload(data_path)\n",
      "File \u001b[1;32mc:\\tools\\miniconda3\\envs\\mt5_prop_firm_nautilus_backtests\\Lib\\site-packages\\nautilus_trader\\test_kit\\providers.py:565\u001b[0m, in \u001b[0;36mTestDataProvider.__init__\u001b[1;34m(self, branch)\u001b[0m\n\u001b[0;32m    563\u001b[0m \u001b[39mself\u001b[39m\u001b[39m.\u001b[39mfs: fsspec\u001b[39m.\u001b[39mAbstractFileSystem \u001b[39m|\u001b[39m \u001b[39mNone\u001b[39;00m \u001b[39m=\u001b[39m \u001b[39mNone\u001b[39;00m\n\u001b[0;32m    564\u001b[0m \u001b[39mself\u001b[39m\u001b[39m.\u001b[39mroot: \u001b[39mstr\u001b[39m \u001b[39m|\u001b[39m \u001b[39mNone\u001b[39;00m \u001b[39m=\u001b[39m \u001b[39mNone\u001b[39;00m\n\u001b[1;32m--> 565\u001b[0m \u001b[39mself\u001b[39m\u001b[39m.\u001b[39m_determine_filesystem()\n\u001b[0;32m    566\u001b[0m \u001b[39mself\u001b[39m\u001b[39m.\u001b[39mbranch \u001b[39m=\u001b[39m branch\n",
      "File \u001b[1;32mc:\\tools\\miniconda3\\envs\\mt5_prop_firm_nautilus_backtests\\Lib\\site-packages\\nautilus_trader\\test_kit\\providers.py:587\u001b[0m, in \u001b[0;36mTestDataProvider._determine_filesystem\u001b[1;34m(self)\u001b[0m\n\u001b[0;32m    585\u001b[0m \u001b[39mprint\u001b[39m(\u001b[39m\"\u001b[39m\u001b[39mCouldn\u001b[39m\u001b[39m'\u001b[39m\u001b[39mt find test data directory, test data will be pulled from GitHub\u001b[39m\u001b[39m\"\u001b[39m)\n\u001b[0;32m    586\u001b[0m \u001b[39mself\u001b[39m\u001b[39m.\u001b[39mroot \u001b[39m=\u001b[39m \u001b[39m\"\u001b[39m\u001b[39mtests/test_data\u001b[39m\u001b[39m\"\u001b[39m\n\u001b[1;32m--> 587\u001b[0m \u001b[39mself\u001b[39m\u001b[39m.\u001b[39mfs \u001b[39m=\u001b[39m fsspec\u001b[39m.\u001b[39mfilesystem(\u001b[39m\"\u001b[39m\u001b[39mgithub\u001b[39m\u001b[39m\"\u001b[39m, org\u001b[39m=\u001b[39m\u001b[39m\"\u001b[39m\u001b[39mnautechsystems\u001b[39m\u001b[39m\"\u001b[39m, repo\u001b[39m=\u001b[39m\u001b[39m\"\u001b[39m\u001b[39mnautilus_trader\u001b[39m\u001b[39m\"\u001b[39m)\n",
      "File \u001b[1;32mc:\\tools\\miniconda3\\envs\\mt5_prop_firm_nautilus_backtests\\Lib\\site-packages\\fsspec\\registry.py:266\u001b[0m, in \u001b[0;36mfilesystem\u001b[1;34m(protocol, **storage_options)\u001b[0m\n\u001b[0;32m    259\u001b[0m \u001b[39mif\u001b[39;00m protocol \u001b[39m==\u001b[39m \u001b[39m\"\u001b[39m\u001b[39marrow_hdfs\u001b[39m\u001b[39m\"\u001b[39m:\n\u001b[0;32m    260\u001b[0m     warnings\u001b[39m.\u001b[39mwarn(\n\u001b[0;32m    261\u001b[0m         \u001b[39m\"\u001b[39m\u001b[39mThe \u001b[39m\u001b[39m'\u001b[39m\u001b[39marrow_hdfs\u001b[39m\u001b[39m'\u001b[39m\u001b[39m protocol has been deprecated and will be \u001b[39m\u001b[39m\"\u001b[39m\n\u001b[0;32m    262\u001b[0m         \u001b[39m\"\u001b[39m\u001b[39mremoved in the future. Specify it as \u001b[39m\u001b[39m'\u001b[39m\u001b[39mhdfs\u001b[39m\u001b[39m'\u001b[39m\u001b[39m.\u001b[39m\u001b[39m\"\u001b[39m,\n\u001b[0;32m    263\u001b[0m         \u001b[39mDeprecationWarning\u001b[39;00m,\n\u001b[0;32m    264\u001b[0m     )\n\u001b[1;32m--> 266\u001b[0m \u001b[39mcls\u001b[39m \u001b[39m=\u001b[39m get_filesystem_class(protocol)\n\u001b[0;32m    267\u001b[0m \u001b[39mreturn\u001b[39;00m \u001b[39mcls\u001b[39m(\u001b[39m*\u001b[39m\u001b[39m*\u001b[39mstorage_options)\n",
      "File \u001b[1;32mc:\\tools\\miniconda3\\envs\\mt5_prop_firm_nautilus_backtests\\Lib\\site-packages\\fsspec\\registry.py:228\u001b[0m, in \u001b[0;36mget_filesystem_class\u001b[1;34m(protocol)\u001b[0m\n\u001b[0;32m    226\u001b[0m         register_implementation(protocol, _import_class(bit[\u001b[39m\"\u001b[39m\u001b[39mclass\u001b[39m\u001b[39m\"\u001b[39m]))\n\u001b[0;32m    227\u001b[0m     \u001b[39mexcept\u001b[39;00m \u001b[39mImportError\u001b[39;00m \u001b[39mas\u001b[39;00m e:\n\u001b[1;32m--> 228\u001b[0m         \u001b[39mraise\u001b[39;00m \u001b[39mImportError\u001b[39;00m(bit[\u001b[39m\"\u001b[39m\u001b[39merr\u001b[39m\u001b[39m\"\u001b[39m]) \u001b[39mfrom\u001b[39;00m \u001b[39me\u001b[39;00m\n\u001b[0;32m    229\u001b[0m \u001b[39mcls\u001b[39m \u001b[39m=\u001b[39m registry[protocol]\n\u001b[0;32m    230\u001b[0m \u001b[39mif\u001b[39;00m \u001b[39mgetattr\u001b[39m(\u001b[39mcls\u001b[39m, \u001b[39m\"\u001b[39m\u001b[39mprotocol\u001b[39m\u001b[39m\"\u001b[39m, \u001b[39mNone\u001b[39;00m) \u001b[39min\u001b[39;00m (\u001b[39m\"\u001b[39m\u001b[39mabstract\u001b[39m\u001b[39m\"\u001b[39m, \u001b[39mNone\u001b[39;00m):\n",
      "\u001b[1;31mImportError\u001b[0m: Install the requests package to use the github FS"
     ]
    }
   ],
   "source": [
    "# try 6\n",
    "\n",
    "provider = TestDataProvider()\n",
    "\n",
    "data_path = \"./data/EURUSD.csv\"\n",
    "df = CSVBarDataLoader.load(data_path)\n",
    "instrument = TestInstrumentProvider.default_fx_ccy(\"EUR/USD\")\n",
    "bar_type = BarType.from_str(\"EUR/USD.SIM-1-DAY-LAST-EXTERNAL\")\n",
    "wrangler = BarDataWrangler(\n",
    "  bar_type=bar_type,\n",
    "  instrument=instrument\n",
    ")\n",
    "\n",
    "bars = wrangler.process(df)"
   ]
  },
  {
   "cell_type": "code",
   "execution_count": 6,
   "metadata": {},
   "outputs": [
    {
     "data": {
      "text/plain": [
       "True"
      ]
     },
     "execution_count": 6,
     "metadata": {},
     "output_type": "execute_result"
    }
   ],
   "source": [
    "# troubleshooting try 6\n",
    "\n",
    "# does python know where the path is?\n",
    "\n",
    "os.path.exists(\"./data/EURUSD.csv\")"
   ]
  },
  {
   "cell_type": "code",
   "execution_count": 8,
   "metadata": {},
   "outputs": [
    {
     "data": {
      "text/html": [
       "<div>\n",
       "<style scoped>\n",
       "    .dataframe tbody tr th:only-of-type {\n",
       "        vertical-align: middle;\n",
       "    }\n",
       "\n",
       "    .dataframe tbody tr th {\n",
       "        vertical-align: top;\n",
       "    }\n",
       "\n",
       "    .dataframe thead th {\n",
       "        text-align: right;\n",
       "    }\n",
       "</style>\n",
       "<table border=\"1\" class=\"dataframe\">\n",
       "  <thead>\n",
       "    <tr style=\"text-align: right;\">\n",
       "      <th></th>\n",
       "      <th>open</th>\n",
       "      <th>high</th>\n",
       "      <th>low</th>\n",
       "      <th>close</th>\n",
       "      <th>volume</th>\n",
       "    </tr>\n",
       "    <tr>\n",
       "      <th>timestamp</th>\n",
       "      <th></th>\n",
       "      <th></th>\n",
       "      <th></th>\n",
       "      <th></th>\n",
       "      <th></th>\n",
       "    </tr>\n",
       "  </thead>\n",
       "  <tbody>\n",
       "    <tr>\n",
       "      <th>2021-10-20</th>\n",
       "      <td>1.16304</td>\n",
       "      <td>1.16586</td>\n",
       "      <td>1.16170</td>\n",
       "      <td>1.16505</td>\n",
       "      <td>61774</td>\n",
       "    </tr>\n",
       "    <tr>\n",
       "      <th>2021-10-21</th>\n",
       "      <td>1.16478</td>\n",
       "      <td>1.16675</td>\n",
       "      <td>1.16192</td>\n",
       "      <td>1.16240</td>\n",
       "      <td>65189</td>\n",
       "    </tr>\n",
       "    <tr>\n",
       "      <th>2021-10-22</th>\n",
       "      <td>1.16197</td>\n",
       "      <td>1.16554</td>\n",
       "      <td>1.16194</td>\n",
       "      <td>1.16437</td>\n",
       "      <td>65172</td>\n",
       "    </tr>\n",
       "    <tr>\n",
       "      <th>2021-10-25</th>\n",
       "      <td>1.16380</td>\n",
       "      <td>1.16650</td>\n",
       "      <td>1.15907</td>\n",
       "      <td>1.16081</td>\n",
       "      <td>59725</td>\n",
       "    </tr>\n",
       "    <tr>\n",
       "      <th>2021-10-26</th>\n",
       "      <td>1.16076</td>\n",
       "      <td>1.16257</td>\n",
       "      <td>1.15850</td>\n",
       "      <td>1.15957</td>\n",
       "      <td>54975</td>\n",
       "    </tr>\n",
       "  </tbody>\n",
       "</table>\n",
       "</div>"
      ],
      "text/plain": [
       "               open     high      low    close  volume\n",
       "timestamp                                             \n",
       "2021-10-20  1.16304  1.16586  1.16170  1.16505   61774\n",
       "2021-10-21  1.16478  1.16675  1.16192  1.16240   65189\n",
       "2021-10-22  1.16197  1.16554  1.16194  1.16437   65172\n",
       "2021-10-25  1.16380  1.16650  1.15907  1.16081   59725\n",
       "2021-10-26  1.16076  1.16257  1.15850  1.15957   54975"
      ]
     },
     "execution_count": 8,
     "metadata": {},
     "output_type": "execute_result"
    }
   ],
   "source": [
    "# does nautilus know where the path is?\n",
    "\n",
    "data_path = \"./data/EURUSD.csv\"\n",
    "df = CSVBarDataLoader.load(data_path)\n",
    "df.head()"
   ]
  },
  {
   "cell_type": "code",
   "execution_count": 10,
   "metadata": {},
   "outputs": [
    {
     "name": "stdout",
     "output_type": "stream",
     "text": [
      "CurrencyPair(id=EUR/USD.SIM, raw_symbol=EUR/USD, asset_class=FX, asset_type=SPOT, quote_currency=USD, is_inverse=False, price_precision=5, price_increment=0.00001, size_precision=0, size_increment=1, multiplier=1, lot_size=1000, margin_init=0.03, margin_maint=0.03, maker_fee=0.00002, taker_fee=0.00002, info=None)\n"
     ]
    }
   ],
   "source": [
    "# is it happy with the instrument?\n",
    "\n",
    "instrument = TestInstrumentProvider.default_fx_ccy(\"EUR/USD\")\n",
    "print(instrument)\n"
   ]
  },
  {
   "cell_type": "code",
   "execution_count": 12,
   "metadata": {},
   "outputs": [
    {
     "name": "stdout",
     "output_type": "stream",
     "text": [
      "EUR/USD.SIM-1-DAY-LAST-EXTERNAL\n"
     ]
    },
    {
     "ename": "ValueError",
     "evalue": "Error parsing `BarType` from 'EUR/USD.SIM-1-DAY-LAST-FOOOOOOOOOOOOO', invalid token: 'FOOOOOOOOOOOOO' at position 4",
     "output_type": "error",
     "traceback": [
      "\u001b[1;31m---------------------------------------------------------------------------\u001b[0m",
      "\u001b[1;31mValueError\u001b[0m                                Traceback (most recent call last)",
      "\u001b[1;32mc:\\Users\\k0240\\Documents\\projects\\mt5_prop_firm_nautilus_backtests\\research.ipynb Cell 11\u001b[0m line \u001b[0;36m4\n\u001b[0;32m      <a href='vscode-notebook-cell:/c%3A/Users/k0240/Documents/projects/mt5_prop_firm_nautilus_backtests/research.ipynb#X13sZmlsZQ%3D%3D?line=1'>2</a>\u001b[0m bar_type \u001b[39m=\u001b[39m BarType\u001b[39m.\u001b[39mfrom_str(\u001b[39m\"\u001b[39m\u001b[39mEUR/USD.SIM-1-DAY-LAST-EXTERNAL\u001b[39m\u001b[39m\"\u001b[39m)\n\u001b[0;32m      <a href='vscode-notebook-cell:/c%3A/Users/k0240/Documents/projects/mt5_prop_firm_nautilus_backtests/research.ipynb#X13sZmlsZQ%3D%3D?line=2'>3</a>\u001b[0m \u001b[39mprint\u001b[39m(bar_type)\n\u001b[1;32m----> <a href='vscode-notebook-cell:/c%3A/Users/k0240/Documents/projects/mt5_prop_firm_nautilus_backtests/research.ipynb#X13sZmlsZQ%3D%3D?line=3'>4</a>\u001b[0m bar_type \u001b[39m=\u001b[39m BarType\u001b[39m.\u001b[39mfrom_str(\u001b[39m\"\u001b[39m\u001b[39mEUR/USD.SIM-1-DAY-LAST-FOOOOOOOOOOOOO\u001b[39m\u001b[39m\"\u001b[39m)\n",
      "File \u001b[1;32mc:\\tools\\miniconda3\\envs\\mt5_prop_firm_nautilus_backtests\\Lib\\site-packages\\nautilus_trader\\model\\data\\bar.pyx:612\u001b[0m, in \u001b[0;36mnautilus_trader.model.data.bar.BarType.from_str\u001b[1;34m()\u001b[0m\n",
      "File \u001b[1;32mc:\\tools\\miniconda3\\envs\\mt5_prop_firm_nautilus_backtests\\Lib\\site-packages\\nautilus_trader\\model\\data\\bar.pyx:550\u001b[0m, in \u001b[0;36mnautilus_trader.model.data.bar.BarType.from_str_c\u001b[1;34m()\u001b[0m\n",
      "\u001b[1;31mValueError\u001b[0m: Error parsing `BarType` from 'EUR/USD.SIM-1-DAY-LAST-FOOOOOOOOOOOOO', invalid token: 'FOOOOOOOOOOOOO' at position 4"
     ]
    }
   ],
   "source": [
    "# is it happy with the bar type?\n",
    "\n",
    "bar_type = BarType.from_str(\"EUR/USD.SIM-1-DAY-LAST-FOOOOOOOOOOOOO\")\n"
   ]
  },
  {
   "cell_type": "code",
   "execution_count": 13,
   "metadata": {},
   "outputs": [],
   "source": [
    "bar_type = BarType.from_str(\"EUR/USD.SIM-1-DAY-LAST-EXTERNAL\")"
   ]
  },
  {
   "cell_type": "code",
   "execution_count": 14,
   "metadata": {},
   "outputs": [],
   "source": [
    "# is the wrangler happy with the bar type and instrument?\n",
    "\n",
    "wrangler = BarDataWrangler(\n",
    "  bar_type=bar_type,\n",
    "  instrument=instrument\n",
    ")"
   ]
  },
  {
   "cell_type": "code",
   "execution_count": 15,
   "metadata": {},
   "outputs": [],
   "source": [
    "bars = wrangler.process(df)"
   ]
  },
  {
   "cell_type": "markdown",
   "metadata": {},
   "source": [
    "??????"
   ]
  },
  {
   "cell_type": "code",
   "execution_count": 16,
   "metadata": {},
   "outputs": [
    {
     "name": "stdout",
     "output_type": "stream",
     "text": [
      "Couldn't find test data directory, test data will be pulled from GitHub\n"
     ]
    },
    {
     "ename": "ImportError",
     "evalue": "Install the requests package to use the github FS",
     "output_type": "error",
     "traceback": [
      "\u001b[1;31m---------------------------------------------------------------------------\u001b[0m",
      "\u001b[1;31mModuleNotFoundError\u001b[0m                       Traceback (most recent call last)",
      "File \u001b[1;32mc:\\tools\\miniconda3\\envs\\mt5_prop_firm_nautilus_backtests\\Lib\\site-packages\\fsspec\\registry.py:226\u001b[0m, in \u001b[0;36mget_filesystem_class\u001b[1;34m(protocol)\u001b[0m\n\u001b[0;32m    225\u001b[0m \u001b[39mtry\u001b[39;00m:\n\u001b[1;32m--> 226\u001b[0m     register_implementation(protocol, _import_class(bit[\u001b[39m\"\u001b[39m\u001b[39mclass\u001b[39m\u001b[39m\"\u001b[39m]))\n\u001b[0;32m    227\u001b[0m \u001b[39mexcept\u001b[39;00m \u001b[39mImportError\u001b[39;00m \u001b[39mas\u001b[39;00m e:\n",
      "File \u001b[1;32mc:\\tools\\miniconda3\\envs\\mt5_prop_firm_nautilus_backtests\\Lib\\site-packages\\fsspec\\registry.py:249\u001b[0m, in \u001b[0;36m_import_class\u001b[1;34m(cls, minv)\u001b[0m\n\u001b[0;32m    248\u001b[0m mod, name \u001b[39m=\u001b[39m \u001b[39mcls\u001b[39m\u001b[39m.\u001b[39mrsplit(\u001b[39m\"\u001b[39m\u001b[39m.\u001b[39m\u001b[39m\"\u001b[39m, \u001b[39m1\u001b[39m)\n\u001b[1;32m--> 249\u001b[0m mod \u001b[39m=\u001b[39m importlib\u001b[39m.\u001b[39mimport_module(mod)\n\u001b[0;32m    250\u001b[0m \u001b[39mreturn\u001b[39;00m \u001b[39mgetattr\u001b[39m(mod, name)\n",
      "File \u001b[1;32mc:\\tools\\miniconda3\\envs\\mt5_prop_firm_nautilus_backtests\\Lib\\importlib\\__init__.py:126\u001b[0m, in \u001b[0;36mimport_module\u001b[1;34m(name, package)\u001b[0m\n\u001b[0;32m    125\u001b[0m         level \u001b[39m+\u001b[39m\u001b[39m=\u001b[39m \u001b[39m1\u001b[39m\n\u001b[1;32m--> 126\u001b[0m \u001b[39mreturn\u001b[39;00m _bootstrap\u001b[39m.\u001b[39m_gcd_import(name[level:], package, level)\n",
      "File \u001b[1;32m<frozen importlib._bootstrap>:1204\u001b[0m, in \u001b[0;36m_gcd_import\u001b[1;34m(name, package, level)\u001b[0m\n",
      "File \u001b[1;32m<frozen importlib._bootstrap>:1176\u001b[0m, in \u001b[0;36m_find_and_load\u001b[1;34m(name, import_)\u001b[0m\n",
      "File \u001b[1;32m<frozen importlib._bootstrap>:1147\u001b[0m, in \u001b[0;36m_find_and_load_unlocked\u001b[1;34m(name, import_)\u001b[0m\n",
      "File \u001b[1;32m<frozen importlib._bootstrap>:690\u001b[0m, in \u001b[0;36m_load_unlocked\u001b[1;34m(spec)\u001b[0m\n",
      "File \u001b[1;32m<frozen importlib._bootstrap_external>:940\u001b[0m, in \u001b[0;36mexec_module\u001b[1;34m(self, module)\u001b[0m\n",
      "File \u001b[1;32m<frozen importlib._bootstrap>:241\u001b[0m, in \u001b[0;36m_call_with_frames_removed\u001b[1;34m(f, *args, **kwds)\u001b[0m\n",
      "File \u001b[1;32mc:\\tools\\miniconda3\\envs\\mt5_prop_firm_nautilus_backtests\\Lib\\site-packages\\fsspec\\implementations\\github.py:1\u001b[0m\n\u001b[1;32m----> 1\u001b[0m \u001b[39mimport\u001b[39;00m \u001b[39mrequests\u001b[39;00m\n\u001b[0;32m      3\u001b[0m \u001b[39mfrom\u001b[39;00m \u001b[39m.\u001b[39;00m\u001b[39m.\u001b[39;00m\u001b[39mspec\u001b[39;00m \u001b[39mimport\u001b[39;00m AbstractFileSystem\n",
      "\u001b[1;31mModuleNotFoundError\u001b[0m: No module named 'requests'",
      "\nThe above exception was the direct cause of the following exception:\n",
      "\u001b[1;31mImportError\u001b[0m                               Traceback (most recent call last)",
      "\u001b[1;32mc:\\Users\\k0240\\Documents\\projects\\mt5_prop_firm_nautilus_backtests\\research.ipynb Cell 16\u001b[0m line \u001b[0;36m3\n\u001b[0;32m      <a href='vscode-notebook-cell:/c%3A/Users/k0240/Documents/projects/mt5_prop_firm_nautilus_backtests/research.ipynb#X23sZmlsZQ%3D%3D?line=0'>1</a>\u001b[0m \u001b[39m# try 6 again\u001b[39;00m\n\u001b[1;32m----> <a href='vscode-notebook-cell:/c%3A/Users/k0240/Documents/projects/mt5_prop_firm_nautilus_backtests/research.ipynb#X23sZmlsZQ%3D%3D?line=2'>3</a>\u001b[0m provider \u001b[39m=\u001b[39m TestDataProvider()\n\u001b[0;32m      <a href='vscode-notebook-cell:/c%3A/Users/k0240/Documents/projects/mt5_prop_firm_nautilus_backtests/research.ipynb#X23sZmlsZQ%3D%3D?line=4'>5</a>\u001b[0m data_path \u001b[39m=\u001b[39m \u001b[39m\"\u001b[39m\u001b[39m./data/EURUSD.csv\u001b[39m\u001b[39m\"\u001b[39m\n\u001b[0;32m      <a href='vscode-notebook-cell:/c%3A/Users/k0240/Documents/projects/mt5_prop_firm_nautilus_backtests/research.ipynb#X23sZmlsZQ%3D%3D?line=5'>6</a>\u001b[0m df \u001b[39m=\u001b[39m CSVBarDataLoader\u001b[39m.\u001b[39mload(data_path)\n",
      "File \u001b[1;32mc:\\tools\\miniconda3\\envs\\mt5_prop_firm_nautilus_backtests\\Lib\\site-packages\\nautilus_trader\\test_kit\\providers.py:565\u001b[0m, in \u001b[0;36mTestDataProvider.__init__\u001b[1;34m(self, branch)\u001b[0m\n\u001b[0;32m    563\u001b[0m \u001b[39mself\u001b[39m\u001b[39m.\u001b[39mfs: fsspec\u001b[39m.\u001b[39mAbstractFileSystem \u001b[39m|\u001b[39m \u001b[39mNone\u001b[39;00m \u001b[39m=\u001b[39m \u001b[39mNone\u001b[39;00m\n\u001b[0;32m    564\u001b[0m \u001b[39mself\u001b[39m\u001b[39m.\u001b[39mroot: \u001b[39mstr\u001b[39m \u001b[39m|\u001b[39m \u001b[39mNone\u001b[39;00m \u001b[39m=\u001b[39m \u001b[39mNone\u001b[39;00m\n\u001b[1;32m--> 565\u001b[0m \u001b[39mself\u001b[39m\u001b[39m.\u001b[39m_determine_filesystem()\n\u001b[0;32m    566\u001b[0m \u001b[39mself\u001b[39m\u001b[39m.\u001b[39mbranch \u001b[39m=\u001b[39m branch\n",
      "File \u001b[1;32mc:\\tools\\miniconda3\\envs\\mt5_prop_firm_nautilus_backtests\\Lib\\site-packages\\nautilus_trader\\test_kit\\providers.py:587\u001b[0m, in \u001b[0;36mTestDataProvider._determine_filesystem\u001b[1;34m(self)\u001b[0m\n\u001b[0;32m    585\u001b[0m \u001b[39mprint\u001b[39m(\u001b[39m\"\u001b[39m\u001b[39mCouldn\u001b[39m\u001b[39m'\u001b[39m\u001b[39mt find test data directory, test data will be pulled from GitHub\u001b[39m\u001b[39m\"\u001b[39m)\n\u001b[0;32m    586\u001b[0m \u001b[39mself\u001b[39m\u001b[39m.\u001b[39mroot \u001b[39m=\u001b[39m \u001b[39m\"\u001b[39m\u001b[39mtests/test_data\u001b[39m\u001b[39m\"\u001b[39m\n\u001b[1;32m--> 587\u001b[0m \u001b[39mself\u001b[39m\u001b[39m.\u001b[39mfs \u001b[39m=\u001b[39m fsspec\u001b[39m.\u001b[39mfilesystem(\u001b[39m\"\u001b[39m\u001b[39mgithub\u001b[39m\u001b[39m\"\u001b[39m, org\u001b[39m=\u001b[39m\u001b[39m\"\u001b[39m\u001b[39mnautechsystems\u001b[39m\u001b[39m\"\u001b[39m, repo\u001b[39m=\u001b[39m\u001b[39m\"\u001b[39m\u001b[39mnautilus_trader\u001b[39m\u001b[39m\"\u001b[39m)\n",
      "File \u001b[1;32mc:\\tools\\miniconda3\\envs\\mt5_prop_firm_nautilus_backtests\\Lib\\site-packages\\fsspec\\registry.py:266\u001b[0m, in \u001b[0;36mfilesystem\u001b[1;34m(protocol, **storage_options)\u001b[0m\n\u001b[0;32m    259\u001b[0m \u001b[39mif\u001b[39;00m protocol \u001b[39m==\u001b[39m \u001b[39m\"\u001b[39m\u001b[39marrow_hdfs\u001b[39m\u001b[39m\"\u001b[39m:\n\u001b[0;32m    260\u001b[0m     warnings\u001b[39m.\u001b[39mwarn(\n\u001b[0;32m    261\u001b[0m         \u001b[39m\"\u001b[39m\u001b[39mThe \u001b[39m\u001b[39m'\u001b[39m\u001b[39marrow_hdfs\u001b[39m\u001b[39m'\u001b[39m\u001b[39m protocol has been deprecated and will be \u001b[39m\u001b[39m\"\u001b[39m\n\u001b[0;32m    262\u001b[0m         \u001b[39m\"\u001b[39m\u001b[39mremoved in the future. Specify it as \u001b[39m\u001b[39m'\u001b[39m\u001b[39mhdfs\u001b[39m\u001b[39m'\u001b[39m\u001b[39m.\u001b[39m\u001b[39m\"\u001b[39m,\n\u001b[0;32m    263\u001b[0m         \u001b[39mDeprecationWarning\u001b[39;00m,\n\u001b[0;32m    264\u001b[0m     )\n\u001b[1;32m--> 266\u001b[0m \u001b[39mcls\u001b[39m \u001b[39m=\u001b[39m get_filesystem_class(protocol)\n\u001b[0;32m    267\u001b[0m \u001b[39mreturn\u001b[39;00m \u001b[39mcls\u001b[39m(\u001b[39m*\u001b[39m\u001b[39m*\u001b[39mstorage_options)\n",
      "File \u001b[1;32mc:\\tools\\miniconda3\\envs\\mt5_prop_firm_nautilus_backtests\\Lib\\site-packages\\fsspec\\registry.py:228\u001b[0m, in \u001b[0;36mget_filesystem_class\u001b[1;34m(protocol)\u001b[0m\n\u001b[0;32m    226\u001b[0m         register_implementation(protocol, _import_class(bit[\u001b[39m\"\u001b[39m\u001b[39mclass\u001b[39m\u001b[39m\"\u001b[39m]))\n\u001b[0;32m    227\u001b[0m     \u001b[39mexcept\u001b[39;00m \u001b[39mImportError\u001b[39;00m \u001b[39mas\u001b[39;00m e:\n\u001b[1;32m--> 228\u001b[0m         \u001b[39mraise\u001b[39;00m \u001b[39mImportError\u001b[39;00m(bit[\u001b[39m\"\u001b[39m\u001b[39merr\u001b[39m\u001b[39m\"\u001b[39m]) \u001b[39mfrom\u001b[39;00m \u001b[39me\u001b[39;00m\n\u001b[0;32m    229\u001b[0m \u001b[39mcls\u001b[39m \u001b[39m=\u001b[39m registry[protocol]\n\u001b[0;32m    230\u001b[0m \u001b[39mif\u001b[39;00m \u001b[39mgetattr\u001b[39m(\u001b[39mcls\u001b[39m, \u001b[39m\"\u001b[39m\u001b[39mprotocol\u001b[39m\u001b[39m\"\u001b[39m, \u001b[39mNone\u001b[39;00m) \u001b[39min\u001b[39;00m (\u001b[39m\"\u001b[39m\u001b[39mabstract\u001b[39m\u001b[39m\"\u001b[39m, \u001b[39mNone\u001b[39;00m):\n",
      "\u001b[1;31mImportError\u001b[0m: Install the requests package to use the github FS"
     ]
    }
   ],
   "source": [
    "# try 6 again\n",
    "\n",
    "provider = TestDataProvider()\n",
    "\n",
    "data_path = \"./data/EURUSD.csv\"\n",
    "df = CSVBarDataLoader.load(data_path)\n",
    "instrument = TestInstrumentProvider.default_fx_ccy(\"EUR/USD\")\n",
    "bar_type = BarType.from_str(\"EUR/USD.SIM-1-DAY-LAST-EXTERNAL\")\n",
    "wrangler = BarDataWrangler(\n",
    "  bar_type=bar_type,\n",
    "  instrument=instrument\n",
    ")\n",
    "\n",
    "bars = wrangler.process(df)"
   ]
  },
  {
   "cell_type": "code",
   "execution_count": 17,
   "metadata": {},
   "outputs": [
    {
     "name": "stdout",
     "output_type": "stream",
     "text": [
      "Couldn't find test data directory, test data will be pulled from GitHub\n"
     ]
    },
    {
     "ename": "ImportError",
     "evalue": "Install the requests package to use the github FS",
     "output_type": "error",
     "traceback": [
      "\u001b[1;31m---------------------------------------------------------------------------\u001b[0m",
      "\u001b[1;31mModuleNotFoundError\u001b[0m                       Traceback (most recent call last)",
      "File \u001b[1;32mc:\\tools\\miniconda3\\envs\\mt5_prop_firm_nautilus_backtests\\Lib\\site-packages\\fsspec\\registry.py:226\u001b[0m, in \u001b[0;36mget_filesystem_class\u001b[1;34m(protocol)\u001b[0m\n\u001b[0;32m    225\u001b[0m \u001b[39mtry\u001b[39;00m:\n\u001b[1;32m--> 226\u001b[0m     register_implementation(protocol, _import_class(bit[\u001b[39m\"\u001b[39m\u001b[39mclass\u001b[39m\u001b[39m\"\u001b[39m]))\n\u001b[0;32m    227\u001b[0m \u001b[39mexcept\u001b[39;00m \u001b[39mImportError\u001b[39;00m \u001b[39mas\u001b[39;00m e:\n",
      "File \u001b[1;32mc:\\tools\\miniconda3\\envs\\mt5_prop_firm_nautilus_backtests\\Lib\\site-packages\\fsspec\\registry.py:249\u001b[0m, in \u001b[0;36m_import_class\u001b[1;34m(cls, minv)\u001b[0m\n\u001b[0;32m    248\u001b[0m mod, name \u001b[39m=\u001b[39m \u001b[39mcls\u001b[39m\u001b[39m.\u001b[39mrsplit(\u001b[39m\"\u001b[39m\u001b[39m.\u001b[39m\u001b[39m\"\u001b[39m, \u001b[39m1\u001b[39m)\n\u001b[1;32m--> 249\u001b[0m mod \u001b[39m=\u001b[39m importlib\u001b[39m.\u001b[39mimport_module(mod)\n\u001b[0;32m    250\u001b[0m \u001b[39mreturn\u001b[39;00m \u001b[39mgetattr\u001b[39m(mod, name)\n",
      "File \u001b[1;32mc:\\tools\\miniconda3\\envs\\mt5_prop_firm_nautilus_backtests\\Lib\\importlib\\__init__.py:126\u001b[0m, in \u001b[0;36mimport_module\u001b[1;34m(name, package)\u001b[0m\n\u001b[0;32m    125\u001b[0m         level \u001b[39m+\u001b[39m\u001b[39m=\u001b[39m \u001b[39m1\u001b[39m\n\u001b[1;32m--> 126\u001b[0m \u001b[39mreturn\u001b[39;00m _bootstrap\u001b[39m.\u001b[39m_gcd_import(name[level:], package, level)\n",
      "File \u001b[1;32m<frozen importlib._bootstrap>:1204\u001b[0m, in \u001b[0;36m_gcd_import\u001b[1;34m(name, package, level)\u001b[0m\n",
      "File \u001b[1;32m<frozen importlib._bootstrap>:1176\u001b[0m, in \u001b[0;36m_find_and_load\u001b[1;34m(name, import_)\u001b[0m\n",
      "File \u001b[1;32m<frozen importlib._bootstrap>:1147\u001b[0m, in \u001b[0;36m_find_and_load_unlocked\u001b[1;34m(name, import_)\u001b[0m\n",
      "File \u001b[1;32m<frozen importlib._bootstrap>:690\u001b[0m, in \u001b[0;36m_load_unlocked\u001b[1;34m(spec)\u001b[0m\n",
      "File \u001b[1;32m<frozen importlib._bootstrap_external>:940\u001b[0m, in \u001b[0;36mexec_module\u001b[1;34m(self, module)\u001b[0m\n",
      "File \u001b[1;32m<frozen importlib._bootstrap>:241\u001b[0m, in \u001b[0;36m_call_with_frames_removed\u001b[1;34m(f, *args, **kwds)\u001b[0m\n",
      "File \u001b[1;32mc:\\tools\\miniconda3\\envs\\mt5_prop_firm_nautilus_backtests\\Lib\\site-packages\\fsspec\\implementations\\github.py:1\u001b[0m\n\u001b[1;32m----> 1\u001b[0m \u001b[39mimport\u001b[39;00m \u001b[39mrequests\u001b[39;00m\n\u001b[0;32m      3\u001b[0m \u001b[39mfrom\u001b[39;00m \u001b[39m.\u001b[39;00m\u001b[39m.\u001b[39;00m\u001b[39mspec\u001b[39;00m \u001b[39mimport\u001b[39;00m AbstractFileSystem\n",
      "\u001b[1;31mModuleNotFoundError\u001b[0m: No module named 'requests'",
      "\nThe above exception was the direct cause of the following exception:\n",
      "\u001b[1;31mImportError\u001b[0m                               Traceback (most recent call last)",
      "\u001b[1;32mc:\\Users\\k0240\\Documents\\projects\\mt5_prop_firm_nautilus_backtests\\research.ipynb Cell 17\u001b[0m line \u001b[0;36m3\n\u001b[0;32m      <a href='vscode-notebook-cell:/c%3A/Users/k0240/Documents/projects/mt5_prop_firm_nautilus_backtests/research.ipynb#X24sZmlsZQ%3D%3D?line=0'>1</a>\u001b[0m \u001b[39m# maybe it doesn't like the provider?\u001b[39;00m\n\u001b[1;32m----> <a href='vscode-notebook-cell:/c%3A/Users/k0240/Documents/projects/mt5_prop_firm_nautilus_backtests/research.ipynb#X24sZmlsZQ%3D%3D?line=2'>3</a>\u001b[0m provider \u001b[39m=\u001b[39m TestDataProvider()\n",
      "File \u001b[1;32mc:\\tools\\miniconda3\\envs\\mt5_prop_firm_nautilus_backtests\\Lib\\site-packages\\nautilus_trader\\test_kit\\providers.py:565\u001b[0m, in \u001b[0;36mTestDataProvider.__init__\u001b[1;34m(self, branch)\u001b[0m\n\u001b[0;32m    563\u001b[0m \u001b[39mself\u001b[39m\u001b[39m.\u001b[39mfs: fsspec\u001b[39m.\u001b[39mAbstractFileSystem \u001b[39m|\u001b[39m \u001b[39mNone\u001b[39;00m \u001b[39m=\u001b[39m \u001b[39mNone\u001b[39;00m\n\u001b[0;32m    564\u001b[0m \u001b[39mself\u001b[39m\u001b[39m.\u001b[39mroot: \u001b[39mstr\u001b[39m \u001b[39m|\u001b[39m \u001b[39mNone\u001b[39;00m \u001b[39m=\u001b[39m \u001b[39mNone\u001b[39;00m\n\u001b[1;32m--> 565\u001b[0m \u001b[39mself\u001b[39m\u001b[39m.\u001b[39m_determine_filesystem()\n\u001b[0;32m    566\u001b[0m \u001b[39mself\u001b[39m\u001b[39m.\u001b[39mbranch \u001b[39m=\u001b[39m branch\n",
      "File \u001b[1;32mc:\\tools\\miniconda3\\envs\\mt5_prop_firm_nautilus_backtests\\Lib\\site-packages\\nautilus_trader\\test_kit\\providers.py:587\u001b[0m, in \u001b[0;36mTestDataProvider._determine_filesystem\u001b[1;34m(self)\u001b[0m\n\u001b[0;32m    585\u001b[0m \u001b[39mprint\u001b[39m(\u001b[39m\"\u001b[39m\u001b[39mCouldn\u001b[39m\u001b[39m'\u001b[39m\u001b[39mt find test data directory, test data will be pulled from GitHub\u001b[39m\u001b[39m\"\u001b[39m)\n\u001b[0;32m    586\u001b[0m \u001b[39mself\u001b[39m\u001b[39m.\u001b[39mroot \u001b[39m=\u001b[39m \u001b[39m\"\u001b[39m\u001b[39mtests/test_data\u001b[39m\u001b[39m\"\u001b[39m\n\u001b[1;32m--> 587\u001b[0m \u001b[39mself\u001b[39m\u001b[39m.\u001b[39mfs \u001b[39m=\u001b[39m fsspec\u001b[39m.\u001b[39mfilesystem(\u001b[39m\"\u001b[39m\u001b[39mgithub\u001b[39m\u001b[39m\"\u001b[39m, org\u001b[39m=\u001b[39m\u001b[39m\"\u001b[39m\u001b[39mnautechsystems\u001b[39m\u001b[39m\"\u001b[39m, repo\u001b[39m=\u001b[39m\u001b[39m\"\u001b[39m\u001b[39mnautilus_trader\u001b[39m\u001b[39m\"\u001b[39m)\n",
      "File \u001b[1;32mc:\\tools\\miniconda3\\envs\\mt5_prop_firm_nautilus_backtests\\Lib\\site-packages\\fsspec\\registry.py:266\u001b[0m, in \u001b[0;36mfilesystem\u001b[1;34m(protocol, **storage_options)\u001b[0m\n\u001b[0;32m    259\u001b[0m \u001b[39mif\u001b[39;00m protocol \u001b[39m==\u001b[39m \u001b[39m\"\u001b[39m\u001b[39marrow_hdfs\u001b[39m\u001b[39m\"\u001b[39m:\n\u001b[0;32m    260\u001b[0m     warnings\u001b[39m.\u001b[39mwarn(\n\u001b[0;32m    261\u001b[0m         \u001b[39m\"\u001b[39m\u001b[39mThe \u001b[39m\u001b[39m'\u001b[39m\u001b[39marrow_hdfs\u001b[39m\u001b[39m'\u001b[39m\u001b[39m protocol has been deprecated and will be \u001b[39m\u001b[39m\"\u001b[39m\n\u001b[0;32m    262\u001b[0m         \u001b[39m\"\u001b[39m\u001b[39mremoved in the future. Specify it as \u001b[39m\u001b[39m'\u001b[39m\u001b[39mhdfs\u001b[39m\u001b[39m'\u001b[39m\u001b[39m.\u001b[39m\u001b[39m\"\u001b[39m,\n\u001b[0;32m    263\u001b[0m         \u001b[39mDeprecationWarning\u001b[39;00m,\n\u001b[0;32m    264\u001b[0m     )\n\u001b[1;32m--> 266\u001b[0m \u001b[39mcls\u001b[39m \u001b[39m=\u001b[39m get_filesystem_class(protocol)\n\u001b[0;32m    267\u001b[0m \u001b[39mreturn\u001b[39;00m \u001b[39mcls\u001b[39m(\u001b[39m*\u001b[39m\u001b[39m*\u001b[39mstorage_options)\n",
      "File \u001b[1;32mc:\\tools\\miniconda3\\envs\\mt5_prop_firm_nautilus_backtests\\Lib\\site-packages\\fsspec\\registry.py:228\u001b[0m, in \u001b[0;36mget_filesystem_class\u001b[1;34m(protocol)\u001b[0m\n\u001b[0;32m    226\u001b[0m         register_implementation(protocol, _import_class(bit[\u001b[39m\"\u001b[39m\u001b[39mclass\u001b[39m\u001b[39m\"\u001b[39m]))\n\u001b[0;32m    227\u001b[0m     \u001b[39mexcept\u001b[39;00m \u001b[39mImportError\u001b[39;00m \u001b[39mas\u001b[39;00m e:\n\u001b[1;32m--> 228\u001b[0m         \u001b[39mraise\u001b[39;00m \u001b[39mImportError\u001b[39;00m(bit[\u001b[39m\"\u001b[39m\u001b[39merr\u001b[39m\u001b[39m\"\u001b[39m]) \u001b[39mfrom\u001b[39;00m \u001b[39me\u001b[39;00m\n\u001b[0;32m    229\u001b[0m \u001b[39mcls\u001b[39m \u001b[39m=\u001b[39m registry[protocol]\n\u001b[0;32m    230\u001b[0m \u001b[39mif\u001b[39;00m \u001b[39mgetattr\u001b[39m(\u001b[39mcls\u001b[39m, \u001b[39m\"\u001b[39m\u001b[39mprotocol\u001b[39m\u001b[39m\"\u001b[39m, \u001b[39mNone\u001b[39;00m) \u001b[39min\u001b[39;00m (\u001b[39m\"\u001b[39m\u001b[39mabstract\u001b[39m\u001b[39m\"\u001b[39m, \u001b[39mNone\u001b[39;00m):\n",
      "\u001b[1;31mImportError\u001b[0m: Install the requests package to use the github FS"
     ]
    }
   ],
   "source": [
    "# maybe it doesn't like the provider?\n",
    "\n",
    "provider = TestDataProvider()\n"
   ]
  },
  {
   "cell_type": "code",
   "execution_count": 18,
   "metadata": {},
   "outputs": [
    {
     "name": "stdout",
     "output_type": "stream",
     "text": [
      "c:\\tools\\miniconda3\\envs\\mt5_prop_firm_nautilus_backtests\\Lib\\site-packages\n"
     ]
    }
   ],
   "source": [
    "from nautilus_trader import PACKAGE_ROOT\n",
    "\n",
    "data_path = os.path.join(PACKAGE_ROOT)\n",
    "print(data_path)\n",
    "\n"
   ]
  },
  {
   "cell_type": "code",
   "execution_count": 23,
   "metadata": {},
   "outputs": [
    {
     "name": "stdout",
     "output_type": "stream",
     "text": [
      "adodbapi\n",
      "asttokens\n",
      "asttokens-2.0.5.dist-info\n",
      "backcall\n",
      "backcall-0.2.0.dist-info\n",
      "click\n",
      "click-8.1.7.dist-info\n",
      "colorama\n",
      "colorama-0.4.6.dist-info\n",
      "comm\n",
      "comm-0.1.2.dist-info\n",
      "contourpy\n",
      "contourpy-1.2.0.dist-info\n",
      "cycler\n",
      "cycler-0.12.1.dist-info\n",
      "Cython\n",
      "Cython-3.0.5.dist-info\n",
      "cython.py\n",
      "dateutil\n",
      "debugpy\n",
      "debugpy-1.6.7.dist-info\n",
      "decorator-5.1.1.dist-info\n",
      "decorator.py\n",
      "distutils-precedence.pth\n",
      "dotenv\n",
      "executing\n",
      "executing-0.8.3.dist-info\n",
      "fontTools\n",
      "fonttools-4.44.3.dist-info\n",
      "frozendict\n",
      "frozendict-2.3.8.dist-info\n",
      "fsspec\n",
      "fsspec-2023.6.0.dist-info\n",
      "importlib_metadata\n",
      "importlib_metadata-6.8.0.dist-info\n",
      "ipykernel\n",
      "ipykernel-6.25.0.dist-info\n",
      "ipykernel_launcher.py\n",
      "IPython\n",
      "ipython-8.15.0.dist-info\n",
      "isapi\n",
      "jedi\n",
      "jedi-0.18.1.dist-info\n",
      "jupyter.py\n",
      "jupyter_client\n",
      "jupyter_client-8.6.0.dist-info\n",
      "jupyter_core\n",
      "jupyter_core-5.5.0.dist-info\n",
      "kiwisolver\n",
      "kiwisolver-1.4.5.dist-info\n",
      "matplotlib\n",
      "matplotlib-3.8.2.dist-info\n",
      "matplotlib.libs\n",
      "matplotlib_inline\n",
      "matplotlib_inline-0.1.6.dist-info\n",
      "mpl_toolkits\n",
      "msgspec\n",
      "msgspec-0.18.4.dist-info\n",
      "nautilus_trader\n",
      "nautilus_trader-1.180.0.dist-info\n",
      "nest_asyncio-1.5.6.dist-info\n",
      "nest_asyncio.py\n",
      "packaging\n",
      "packaging-23.1.dist-info\n",
      "pandas_ta\n",
      "pandas_ta-0.3.14b0.dist-info\n",
      "parso\n",
      "parso-0.8.3.dist-info\n",
      "pickleshare-0.7.5.dist-info\n",
      "pickleshare.py\n",
      "PIL\n",
      "Pillow-10.1.0.dist-info\n",
      "pip\n",
      "pip-23.3-py3.11.egg-info\n",
      "pkg_resources\n",
      "platformdirs\n",
      "platformdirs-3.10.0.dist-info\n",
      "prompt_toolkit\n",
      "prompt_toolkit-3.0.36.dist-info\n",
      "psutil\n",
      "psutil-5.9.6.dist-info\n",
      "pure_eval\n",
      "pure_eval-0.2.2.dist-info\n",
      "pyarrow\n",
      "pyarrow-14.0.1.dist-info\n",
      "pygments\n",
      "Pygments-2.15.1.dist-info\n",
      "pylab.py\n",
      "pyparsing\n",
      "pyparsing-3.1.1.dist-info\n",
      "PySide6\n",
      "PySide6-6.6.0.dist-info\n",
      "PySide6_Addons-6.6.0.dist-info\n",
      "PySide6_Essentials-6.6.0.dist-info\n",
      "pythoncom.py\n",
      "pythonwin\n",
      "python_dateutil-2.8.2.dist-info\n",
      "python_dotenv-1.0.0.dist-info\n",
      "pywin32-305.1-py3.11.egg-info\n",
      "pywin32.pth\n",
      "pywin32.version.txt\n",
      "pywin32_system32\n",
      "pyximport\n",
      "pyzmq-25.1.0.dist-info\n",
      "README.txt\n",
      "setuptools\n",
      "setuptools-68.0.0-py3.11.egg-info\n",
      "shiboken6\n",
      "shiboken6-6.6.0.dist-info\n",
      "six-1.16.0.dist-info\n",
      "six.py\n",
      "stack_data\n",
      "stack_data-0.2.0.dist-info\n",
      "toml\n",
      "toml-0.10.2.dist-info\n",
      "tornado\n",
      "tornado-6.3.3.dist-info\n",
      "tqdm\n",
      "tqdm-4.66.1.dist-info\n",
      "traitlets\n",
      "traitlets-5.7.1.dist-info\n",
      "wcwidth\n",
      "wcwidth-0.2.5.dist-info\n",
      "wheel\n",
      "wheel-0.41.2.dist-info\n",
      "win32\n",
      "win32com\n",
      "win32comext\n",
      "zipp\n",
      "zipp-3.17.0.dist-info\n",
      "zmq\n",
      "_distutils_hack\n",
      "__pycache__\n"
     ]
    }
   ],
   "source": [
    "contents = os.listdir(data_path)\n",
    "for str in contents: print(str)"
   ]
  },
  {
   "cell_type": "code",
   "execution_count": 24,
   "metadata": {},
   "outputs": [
    {
     "name": "stdout",
     "output_type": "stream",
     "text": [
      "Couldn't find test data directory, test data will be pulled from GitHub\n"
     ]
    },
    {
     "ename": "ImportError",
     "evalue": "Install the requests package to use the github FS",
     "output_type": "error",
     "traceback": [
      "\u001b[1;31m---------------------------------------------------------------------------\u001b[0m",
      "\u001b[1;31mModuleNotFoundError\u001b[0m                       Traceback (most recent call last)",
      "File \u001b[1;32mc:\\tools\\miniconda3\\envs\\mt5_prop_firm_nautilus_backtests\\Lib\\site-packages\\fsspec\\registry.py:226\u001b[0m, in \u001b[0;36mget_filesystem_class\u001b[1;34m(protocol)\u001b[0m\n\u001b[0;32m    225\u001b[0m \u001b[39mtry\u001b[39;00m:\n\u001b[1;32m--> 226\u001b[0m     register_implementation(protocol, _import_class(bit[\u001b[39m\"\u001b[39m\u001b[39mclass\u001b[39m\u001b[39m\"\u001b[39m]))\n\u001b[0;32m    227\u001b[0m \u001b[39mexcept\u001b[39;00m \u001b[39mImportError\u001b[39;00m \u001b[39mas\u001b[39;00m e:\n",
      "File \u001b[1;32mc:\\tools\\miniconda3\\envs\\mt5_prop_firm_nautilus_backtests\\Lib\\site-packages\\fsspec\\registry.py:249\u001b[0m, in \u001b[0;36m_import_class\u001b[1;34m(cls, minv)\u001b[0m\n\u001b[0;32m    248\u001b[0m mod, name \u001b[39m=\u001b[39m \u001b[39mcls\u001b[39m\u001b[39m.\u001b[39mrsplit(\u001b[39m\"\u001b[39m\u001b[39m.\u001b[39m\u001b[39m\"\u001b[39m, \u001b[39m1\u001b[39m)\n\u001b[1;32m--> 249\u001b[0m mod \u001b[39m=\u001b[39m importlib\u001b[39m.\u001b[39mimport_module(mod)\n\u001b[0;32m    250\u001b[0m \u001b[39mreturn\u001b[39;00m \u001b[39mgetattr\u001b[39m(mod, name)\n",
      "File \u001b[1;32mc:\\tools\\miniconda3\\envs\\mt5_prop_firm_nautilus_backtests\\Lib\\importlib\\__init__.py:126\u001b[0m, in \u001b[0;36mimport_module\u001b[1;34m(name, package)\u001b[0m\n\u001b[0;32m    125\u001b[0m         level \u001b[39m+\u001b[39m\u001b[39m=\u001b[39m \u001b[39m1\u001b[39m\n\u001b[1;32m--> 126\u001b[0m \u001b[39mreturn\u001b[39;00m _bootstrap\u001b[39m.\u001b[39m_gcd_import(name[level:], package, level)\n",
      "File \u001b[1;32m<frozen importlib._bootstrap>:1204\u001b[0m, in \u001b[0;36m_gcd_import\u001b[1;34m(name, package, level)\u001b[0m\n",
      "File \u001b[1;32m<frozen importlib._bootstrap>:1176\u001b[0m, in \u001b[0;36m_find_and_load\u001b[1;34m(name, import_)\u001b[0m\n",
      "File \u001b[1;32m<frozen importlib._bootstrap>:1147\u001b[0m, in \u001b[0;36m_find_and_load_unlocked\u001b[1;34m(name, import_)\u001b[0m\n",
      "File \u001b[1;32m<frozen importlib._bootstrap>:690\u001b[0m, in \u001b[0;36m_load_unlocked\u001b[1;34m(spec)\u001b[0m\n",
      "File \u001b[1;32m<frozen importlib._bootstrap_external>:940\u001b[0m, in \u001b[0;36mexec_module\u001b[1;34m(self, module)\u001b[0m\n",
      "File \u001b[1;32m<frozen importlib._bootstrap>:241\u001b[0m, in \u001b[0;36m_call_with_frames_removed\u001b[1;34m(f, *args, **kwds)\u001b[0m\n",
      "File \u001b[1;32mc:\\tools\\miniconda3\\envs\\mt5_prop_firm_nautilus_backtests\\Lib\\site-packages\\fsspec\\implementations\\github.py:1\u001b[0m\n\u001b[1;32m----> 1\u001b[0m \u001b[39mimport\u001b[39;00m \u001b[39mrequests\u001b[39;00m\n\u001b[0;32m      3\u001b[0m \u001b[39mfrom\u001b[39;00m \u001b[39m.\u001b[39;00m\u001b[39m.\u001b[39;00m\u001b[39mspec\u001b[39;00m \u001b[39mimport\u001b[39;00m AbstractFileSystem\n",
      "\u001b[1;31mModuleNotFoundError\u001b[0m: No module named 'requests'",
      "\nThe above exception was the direct cause of the following exception:\n",
      "\u001b[1;31mImportError\u001b[0m                               Traceback (most recent call last)",
      "\u001b[1;32mc:\\Users\\k0240\\Documents\\projects\\mt5_prop_firm_nautilus_backtests\\research.ipynb Cell 20\u001b[0m line \u001b[0;36m4\n\u001b[0;32m      <a href='vscode-notebook-cell:/c%3A/Users/k0240/Documents/projects/mt5_prop_firm_nautilus_backtests/research.ipynb#X30sZmlsZQ%3D%3D?line=0'>1</a>\u001b[0m \u001b[39m# maybe there are missing imports?\u001b[39;00m\n\u001b[0;32m      <a href='vscode-notebook-cell:/c%3A/Users/k0240/Documents/projects/mt5_prop_firm_nautilus_backtests/research.ipynb#X30sZmlsZQ%3D%3D?line=2'>3</a>\u001b[0m \u001b[39mfrom\u001b[39;00m \u001b[39mdecimal\u001b[39;00m \u001b[39mimport\u001b[39;00m Decimal\n\u001b[1;32m----> <a href='vscode-notebook-cell:/c%3A/Users/k0240/Documents/projects/mt5_prop_firm_nautilus_backtests/research.ipynb#X30sZmlsZQ%3D%3D?line=3'>4</a>\u001b[0m provider \u001b[39m=\u001b[39m TestDataProvider()\n",
      "File \u001b[1;32mc:\\tools\\miniconda3\\envs\\mt5_prop_firm_nautilus_backtests\\Lib\\site-packages\\nautilus_trader\\test_kit\\providers.py:565\u001b[0m, in \u001b[0;36mTestDataProvider.__init__\u001b[1;34m(self, branch)\u001b[0m\n\u001b[0;32m    563\u001b[0m \u001b[39mself\u001b[39m\u001b[39m.\u001b[39mfs: fsspec\u001b[39m.\u001b[39mAbstractFileSystem \u001b[39m|\u001b[39m \u001b[39mNone\u001b[39;00m \u001b[39m=\u001b[39m \u001b[39mNone\u001b[39;00m\n\u001b[0;32m    564\u001b[0m \u001b[39mself\u001b[39m\u001b[39m.\u001b[39mroot: \u001b[39mstr\u001b[39m \u001b[39m|\u001b[39m \u001b[39mNone\u001b[39;00m \u001b[39m=\u001b[39m \u001b[39mNone\u001b[39;00m\n\u001b[1;32m--> 565\u001b[0m \u001b[39mself\u001b[39m\u001b[39m.\u001b[39m_determine_filesystem()\n\u001b[0;32m    566\u001b[0m \u001b[39mself\u001b[39m\u001b[39m.\u001b[39mbranch \u001b[39m=\u001b[39m branch\n",
      "File \u001b[1;32mc:\\tools\\miniconda3\\envs\\mt5_prop_firm_nautilus_backtests\\Lib\\site-packages\\nautilus_trader\\test_kit\\providers.py:587\u001b[0m, in \u001b[0;36mTestDataProvider._determine_filesystem\u001b[1;34m(self)\u001b[0m\n\u001b[0;32m    585\u001b[0m \u001b[39mprint\u001b[39m(\u001b[39m\"\u001b[39m\u001b[39mCouldn\u001b[39m\u001b[39m'\u001b[39m\u001b[39mt find test data directory, test data will be pulled from GitHub\u001b[39m\u001b[39m\"\u001b[39m)\n\u001b[0;32m    586\u001b[0m \u001b[39mself\u001b[39m\u001b[39m.\u001b[39mroot \u001b[39m=\u001b[39m \u001b[39m\"\u001b[39m\u001b[39mtests/test_data\u001b[39m\u001b[39m\"\u001b[39m\n\u001b[1;32m--> 587\u001b[0m \u001b[39mself\u001b[39m\u001b[39m.\u001b[39mfs \u001b[39m=\u001b[39m fsspec\u001b[39m.\u001b[39mfilesystem(\u001b[39m\"\u001b[39m\u001b[39mgithub\u001b[39m\u001b[39m\"\u001b[39m, org\u001b[39m=\u001b[39m\u001b[39m\"\u001b[39m\u001b[39mnautechsystems\u001b[39m\u001b[39m\"\u001b[39m, repo\u001b[39m=\u001b[39m\u001b[39m\"\u001b[39m\u001b[39mnautilus_trader\u001b[39m\u001b[39m\"\u001b[39m)\n",
      "File \u001b[1;32mc:\\tools\\miniconda3\\envs\\mt5_prop_firm_nautilus_backtests\\Lib\\site-packages\\fsspec\\registry.py:266\u001b[0m, in \u001b[0;36mfilesystem\u001b[1;34m(protocol, **storage_options)\u001b[0m\n\u001b[0;32m    259\u001b[0m \u001b[39mif\u001b[39;00m protocol \u001b[39m==\u001b[39m \u001b[39m\"\u001b[39m\u001b[39marrow_hdfs\u001b[39m\u001b[39m\"\u001b[39m:\n\u001b[0;32m    260\u001b[0m     warnings\u001b[39m.\u001b[39mwarn(\n\u001b[0;32m    261\u001b[0m         \u001b[39m\"\u001b[39m\u001b[39mThe \u001b[39m\u001b[39m'\u001b[39m\u001b[39marrow_hdfs\u001b[39m\u001b[39m'\u001b[39m\u001b[39m protocol has been deprecated and will be \u001b[39m\u001b[39m\"\u001b[39m\n\u001b[0;32m    262\u001b[0m         \u001b[39m\"\u001b[39m\u001b[39mremoved in the future. Specify it as \u001b[39m\u001b[39m'\u001b[39m\u001b[39mhdfs\u001b[39m\u001b[39m'\u001b[39m\u001b[39m.\u001b[39m\u001b[39m\"\u001b[39m,\n\u001b[0;32m    263\u001b[0m         \u001b[39mDeprecationWarning\u001b[39;00m,\n\u001b[0;32m    264\u001b[0m     )\n\u001b[1;32m--> 266\u001b[0m \u001b[39mcls\u001b[39m \u001b[39m=\u001b[39m get_filesystem_class(protocol)\n\u001b[0;32m    267\u001b[0m \u001b[39mreturn\u001b[39;00m \u001b[39mcls\u001b[39m(\u001b[39m*\u001b[39m\u001b[39m*\u001b[39mstorage_options)\n",
      "File \u001b[1;32mc:\\tools\\miniconda3\\envs\\mt5_prop_firm_nautilus_backtests\\Lib\\site-packages\\fsspec\\registry.py:228\u001b[0m, in \u001b[0;36mget_filesystem_class\u001b[1;34m(protocol)\u001b[0m\n\u001b[0;32m    226\u001b[0m         register_implementation(protocol, _import_class(bit[\u001b[39m\"\u001b[39m\u001b[39mclass\u001b[39m\u001b[39m\"\u001b[39m]))\n\u001b[0;32m    227\u001b[0m     \u001b[39mexcept\u001b[39;00m \u001b[39mImportError\u001b[39;00m \u001b[39mas\u001b[39;00m e:\n\u001b[1;32m--> 228\u001b[0m         \u001b[39mraise\u001b[39;00m \u001b[39mImportError\u001b[39;00m(bit[\u001b[39m\"\u001b[39m\u001b[39merr\u001b[39m\u001b[39m\"\u001b[39m]) \u001b[39mfrom\u001b[39;00m \u001b[39me\u001b[39;00m\n\u001b[0;32m    229\u001b[0m \u001b[39mcls\u001b[39m \u001b[39m=\u001b[39m registry[protocol]\n\u001b[0;32m    230\u001b[0m \u001b[39mif\u001b[39;00m \u001b[39mgetattr\u001b[39m(\u001b[39mcls\u001b[39m, \u001b[39m\"\u001b[39m\u001b[39mprotocol\u001b[39m\u001b[39m\"\u001b[39m, \u001b[39mNone\u001b[39;00m) \u001b[39min\u001b[39;00m (\u001b[39m\"\u001b[39m\u001b[39mabstract\u001b[39m\u001b[39m\"\u001b[39m, \u001b[39mNone\u001b[39;00m):\n",
      "\u001b[1;31mImportError\u001b[0m: Install the requests package to use the github FS"
     ]
    }
   ],
   "source": [
    "# maybe there are missing imports?\n",
    "\n",
    "from decimal import Decimal\n",
    "provider = TestDataProvider()"
   ]
  },
  {
   "cell_type": "code",
   "execution_count": 25,
   "metadata": {},
   "outputs": [
    {
     "name": "stdout",
     "output_type": "stream",
     "text": [
      "Couldn't find test data directory, test data will be pulled from GitHub\n"
     ]
    },
    {
     "ename": "ImportError",
     "evalue": "Install the requests package to use the github FS",
     "output_type": "error",
     "traceback": [
      "\u001b[1;31m---------------------------------------------------------------------------\u001b[0m",
      "\u001b[1;31mModuleNotFoundError\u001b[0m                       Traceback (most recent call last)",
      "File \u001b[1;32mc:\\tools\\miniconda3\\envs\\mt5_prop_firm_nautilus_backtests\\Lib\\site-packages\\fsspec\\registry.py:226\u001b[0m, in \u001b[0;36mget_filesystem_class\u001b[1;34m(protocol)\u001b[0m\n\u001b[0;32m    225\u001b[0m \u001b[39mtry\u001b[39;00m:\n\u001b[1;32m--> 226\u001b[0m     register_implementation(protocol, _import_class(bit[\u001b[39m\"\u001b[39m\u001b[39mclass\u001b[39m\u001b[39m\"\u001b[39m]))\n\u001b[0;32m    227\u001b[0m \u001b[39mexcept\u001b[39;00m \u001b[39mImportError\u001b[39;00m \u001b[39mas\u001b[39;00m e:\n",
      "File \u001b[1;32mc:\\tools\\miniconda3\\envs\\mt5_prop_firm_nautilus_backtests\\Lib\\site-packages\\fsspec\\registry.py:249\u001b[0m, in \u001b[0;36m_import_class\u001b[1;34m(cls, minv)\u001b[0m\n\u001b[0;32m    248\u001b[0m mod, name \u001b[39m=\u001b[39m \u001b[39mcls\u001b[39m\u001b[39m.\u001b[39mrsplit(\u001b[39m\"\u001b[39m\u001b[39m.\u001b[39m\u001b[39m\"\u001b[39m, \u001b[39m1\u001b[39m)\n\u001b[1;32m--> 249\u001b[0m mod \u001b[39m=\u001b[39m importlib\u001b[39m.\u001b[39mimport_module(mod)\n\u001b[0;32m    250\u001b[0m \u001b[39mreturn\u001b[39;00m \u001b[39mgetattr\u001b[39m(mod, name)\n",
      "File \u001b[1;32mc:\\tools\\miniconda3\\envs\\mt5_prop_firm_nautilus_backtests\\Lib\\importlib\\__init__.py:126\u001b[0m, in \u001b[0;36mimport_module\u001b[1;34m(name, package)\u001b[0m\n\u001b[0;32m    125\u001b[0m         level \u001b[39m+\u001b[39m\u001b[39m=\u001b[39m \u001b[39m1\u001b[39m\n\u001b[1;32m--> 126\u001b[0m \u001b[39mreturn\u001b[39;00m _bootstrap\u001b[39m.\u001b[39m_gcd_import(name[level:], package, level)\n",
      "File \u001b[1;32m<frozen importlib._bootstrap>:1204\u001b[0m, in \u001b[0;36m_gcd_import\u001b[1;34m(name, package, level)\u001b[0m\n",
      "File \u001b[1;32m<frozen importlib._bootstrap>:1176\u001b[0m, in \u001b[0;36m_find_and_load\u001b[1;34m(name, import_)\u001b[0m\n",
      "File \u001b[1;32m<frozen importlib._bootstrap>:1147\u001b[0m, in \u001b[0;36m_find_and_load_unlocked\u001b[1;34m(name, import_)\u001b[0m\n",
      "File \u001b[1;32m<frozen importlib._bootstrap>:690\u001b[0m, in \u001b[0;36m_load_unlocked\u001b[1;34m(spec)\u001b[0m\n",
      "File \u001b[1;32m<frozen importlib._bootstrap_external>:940\u001b[0m, in \u001b[0;36mexec_module\u001b[1;34m(self, module)\u001b[0m\n",
      "File \u001b[1;32m<frozen importlib._bootstrap>:241\u001b[0m, in \u001b[0;36m_call_with_frames_removed\u001b[1;34m(f, *args, **kwds)\u001b[0m\n",
      "File \u001b[1;32mc:\\tools\\miniconda3\\envs\\mt5_prop_firm_nautilus_backtests\\Lib\\site-packages\\fsspec\\implementations\\github.py:1\u001b[0m\n\u001b[1;32m----> 1\u001b[0m \u001b[39mimport\u001b[39;00m \u001b[39mrequests\u001b[39;00m\n\u001b[0;32m      3\u001b[0m \u001b[39mfrom\u001b[39;00m \u001b[39m.\u001b[39;00m\u001b[39m.\u001b[39;00m\u001b[39mspec\u001b[39;00m \u001b[39mimport\u001b[39;00m AbstractFileSystem\n",
      "\u001b[1;31mModuleNotFoundError\u001b[0m: No module named 'requests'",
      "\nThe above exception was the direct cause of the following exception:\n",
      "\u001b[1;31mImportError\u001b[0m                               Traceback (most recent call last)",
      "\u001b[1;32mc:\\Users\\k0240\\Documents\\projects\\mt5_prop_firm_nautilus_backtests\\research.ipynb Cell 21\u001b[0m line \u001b[0;36m3\n\u001b[0;32m      <a href='vscode-notebook-cell:/c%3A/Users/k0240/Documents/projects/mt5_prop_firm_nautilus_backtests/research.ipynb#X31sZmlsZQ%3D%3D?line=0'>1</a>\u001b[0m \u001b[39m# time missing import\u001b[39;00m\n\u001b[0;32m      <a href='vscode-notebook-cell:/c%3A/Users/k0240/Documents/projects/mt5_prop_firm_nautilus_backtests/research.ipynb#X31sZmlsZQ%3D%3D?line=1'>2</a>\u001b[0m \u001b[39mimport\u001b[39;00m \u001b[39mtime\u001b[39;00m\n\u001b[1;32m----> <a href='vscode-notebook-cell:/c%3A/Users/k0240/Documents/projects/mt5_prop_firm_nautilus_backtests/research.ipynb#X31sZmlsZQ%3D%3D?line=2'>3</a>\u001b[0m provider \u001b[39m=\u001b[39m TestDataProvider()\n",
      "File \u001b[1;32mc:\\tools\\miniconda3\\envs\\mt5_prop_firm_nautilus_backtests\\Lib\\site-packages\\nautilus_trader\\test_kit\\providers.py:565\u001b[0m, in \u001b[0;36mTestDataProvider.__init__\u001b[1;34m(self, branch)\u001b[0m\n\u001b[0;32m    563\u001b[0m \u001b[39mself\u001b[39m\u001b[39m.\u001b[39mfs: fsspec\u001b[39m.\u001b[39mAbstractFileSystem \u001b[39m|\u001b[39m \u001b[39mNone\u001b[39;00m \u001b[39m=\u001b[39m \u001b[39mNone\u001b[39;00m\n\u001b[0;32m    564\u001b[0m \u001b[39mself\u001b[39m\u001b[39m.\u001b[39mroot: \u001b[39mstr\u001b[39m \u001b[39m|\u001b[39m \u001b[39mNone\u001b[39;00m \u001b[39m=\u001b[39m \u001b[39mNone\u001b[39;00m\n\u001b[1;32m--> 565\u001b[0m \u001b[39mself\u001b[39m\u001b[39m.\u001b[39m_determine_filesystem()\n\u001b[0;32m    566\u001b[0m \u001b[39mself\u001b[39m\u001b[39m.\u001b[39mbranch \u001b[39m=\u001b[39m branch\n",
      "File \u001b[1;32mc:\\tools\\miniconda3\\envs\\mt5_prop_firm_nautilus_backtests\\Lib\\site-packages\\nautilus_trader\\test_kit\\providers.py:587\u001b[0m, in \u001b[0;36mTestDataProvider._determine_filesystem\u001b[1;34m(self)\u001b[0m\n\u001b[0;32m    585\u001b[0m \u001b[39mprint\u001b[39m(\u001b[39m\"\u001b[39m\u001b[39mCouldn\u001b[39m\u001b[39m'\u001b[39m\u001b[39mt find test data directory, test data will be pulled from GitHub\u001b[39m\u001b[39m\"\u001b[39m)\n\u001b[0;32m    586\u001b[0m \u001b[39mself\u001b[39m\u001b[39m.\u001b[39mroot \u001b[39m=\u001b[39m \u001b[39m\"\u001b[39m\u001b[39mtests/test_data\u001b[39m\u001b[39m\"\u001b[39m\n\u001b[1;32m--> 587\u001b[0m \u001b[39mself\u001b[39m\u001b[39m.\u001b[39mfs \u001b[39m=\u001b[39m fsspec\u001b[39m.\u001b[39mfilesystem(\u001b[39m\"\u001b[39m\u001b[39mgithub\u001b[39m\u001b[39m\"\u001b[39m, org\u001b[39m=\u001b[39m\u001b[39m\"\u001b[39m\u001b[39mnautechsystems\u001b[39m\u001b[39m\"\u001b[39m, repo\u001b[39m=\u001b[39m\u001b[39m\"\u001b[39m\u001b[39mnautilus_trader\u001b[39m\u001b[39m\"\u001b[39m)\n",
      "File \u001b[1;32mc:\\tools\\miniconda3\\envs\\mt5_prop_firm_nautilus_backtests\\Lib\\site-packages\\fsspec\\registry.py:266\u001b[0m, in \u001b[0;36mfilesystem\u001b[1;34m(protocol, **storage_options)\u001b[0m\n\u001b[0;32m    259\u001b[0m \u001b[39mif\u001b[39;00m protocol \u001b[39m==\u001b[39m \u001b[39m\"\u001b[39m\u001b[39marrow_hdfs\u001b[39m\u001b[39m\"\u001b[39m:\n\u001b[0;32m    260\u001b[0m     warnings\u001b[39m.\u001b[39mwarn(\n\u001b[0;32m    261\u001b[0m         \u001b[39m\"\u001b[39m\u001b[39mThe \u001b[39m\u001b[39m'\u001b[39m\u001b[39marrow_hdfs\u001b[39m\u001b[39m'\u001b[39m\u001b[39m protocol has been deprecated and will be \u001b[39m\u001b[39m\"\u001b[39m\n\u001b[0;32m    262\u001b[0m         \u001b[39m\"\u001b[39m\u001b[39mremoved in the future. Specify it as \u001b[39m\u001b[39m'\u001b[39m\u001b[39mhdfs\u001b[39m\u001b[39m'\u001b[39m\u001b[39m.\u001b[39m\u001b[39m\"\u001b[39m,\n\u001b[0;32m    263\u001b[0m         \u001b[39mDeprecationWarning\u001b[39;00m,\n\u001b[0;32m    264\u001b[0m     )\n\u001b[1;32m--> 266\u001b[0m \u001b[39mcls\u001b[39m \u001b[39m=\u001b[39m get_filesystem_class(protocol)\n\u001b[0;32m    267\u001b[0m \u001b[39mreturn\u001b[39;00m \u001b[39mcls\u001b[39m(\u001b[39m*\u001b[39m\u001b[39m*\u001b[39mstorage_options)\n",
      "File \u001b[1;32mc:\\tools\\miniconda3\\envs\\mt5_prop_firm_nautilus_backtests\\Lib\\site-packages\\fsspec\\registry.py:228\u001b[0m, in \u001b[0;36mget_filesystem_class\u001b[1;34m(protocol)\u001b[0m\n\u001b[0;32m    226\u001b[0m         register_implementation(protocol, _import_class(bit[\u001b[39m\"\u001b[39m\u001b[39mclass\u001b[39m\u001b[39m\"\u001b[39m]))\n\u001b[0;32m    227\u001b[0m     \u001b[39mexcept\u001b[39;00m \u001b[39mImportError\u001b[39;00m \u001b[39mas\u001b[39;00m e:\n\u001b[1;32m--> 228\u001b[0m         \u001b[39mraise\u001b[39;00m \u001b[39mImportError\u001b[39;00m(bit[\u001b[39m\"\u001b[39m\u001b[39merr\u001b[39m\u001b[39m\"\u001b[39m]) \u001b[39mfrom\u001b[39;00m \u001b[39me\u001b[39;00m\n\u001b[0;32m    229\u001b[0m \u001b[39mcls\u001b[39m \u001b[39m=\u001b[39m registry[protocol]\n\u001b[0;32m    230\u001b[0m \u001b[39mif\u001b[39;00m \u001b[39mgetattr\u001b[39m(\u001b[39mcls\u001b[39m, \u001b[39m\"\u001b[39m\u001b[39mprotocol\u001b[39m\u001b[39m\"\u001b[39m, \u001b[39mNone\u001b[39;00m) \u001b[39min\u001b[39;00m (\u001b[39m\"\u001b[39m\u001b[39mabstract\u001b[39m\u001b[39m\"\u001b[39m, \u001b[39mNone\u001b[39;00m):\n",
      "\u001b[1;31mImportError\u001b[0m: Install the requests package to use the github FS"
     ]
    }
   ],
   "source": [
    "# time missing import\n",
    "import time\n",
    "provider = TestDataProvider()"
   ]
  },
  {
   "cell_type": "code",
   "execution_count": 26,
   "metadata": {},
   "outputs": [
    {
     "name": "stdout",
     "output_type": "stream",
     "text": [
      "Couldn't find test data directory, test data will be pulled from GitHub\n"
     ]
    },
    {
     "ename": "ImportError",
     "evalue": "Install the requests package to use the github FS",
     "output_type": "error",
     "traceback": [
      "\u001b[1;31m---------------------------------------------------------------------------\u001b[0m",
      "\u001b[1;31mModuleNotFoundError\u001b[0m                       Traceback (most recent call last)",
      "File \u001b[1;32mc:\\tools\\miniconda3\\envs\\mt5_prop_firm_nautilus_backtests\\Lib\\site-packages\\fsspec\\registry.py:226\u001b[0m, in \u001b[0;36mget_filesystem_class\u001b[1;34m(protocol)\u001b[0m\n\u001b[0;32m    225\u001b[0m \u001b[39mtry\u001b[39;00m:\n\u001b[1;32m--> 226\u001b[0m     register_implementation(protocol, _import_class(bit[\u001b[39m\"\u001b[39m\u001b[39mclass\u001b[39m\u001b[39m\"\u001b[39m]))\n\u001b[0;32m    227\u001b[0m \u001b[39mexcept\u001b[39;00m \u001b[39mImportError\u001b[39;00m \u001b[39mas\u001b[39;00m e:\n",
      "File \u001b[1;32mc:\\tools\\miniconda3\\envs\\mt5_prop_firm_nautilus_backtests\\Lib\\site-packages\\fsspec\\registry.py:249\u001b[0m, in \u001b[0;36m_import_class\u001b[1;34m(cls, minv)\u001b[0m\n\u001b[0;32m    248\u001b[0m mod, name \u001b[39m=\u001b[39m \u001b[39mcls\u001b[39m\u001b[39m.\u001b[39mrsplit(\u001b[39m\"\u001b[39m\u001b[39m.\u001b[39m\u001b[39m\"\u001b[39m, \u001b[39m1\u001b[39m)\n\u001b[1;32m--> 249\u001b[0m mod \u001b[39m=\u001b[39m importlib\u001b[39m.\u001b[39mimport_module(mod)\n\u001b[0;32m    250\u001b[0m \u001b[39mreturn\u001b[39;00m \u001b[39mgetattr\u001b[39m(mod, name)\n",
      "File \u001b[1;32mc:\\tools\\miniconda3\\envs\\mt5_prop_firm_nautilus_backtests\\Lib\\importlib\\__init__.py:126\u001b[0m, in \u001b[0;36mimport_module\u001b[1;34m(name, package)\u001b[0m\n\u001b[0;32m    125\u001b[0m         level \u001b[39m+\u001b[39m\u001b[39m=\u001b[39m \u001b[39m1\u001b[39m\n\u001b[1;32m--> 126\u001b[0m \u001b[39mreturn\u001b[39;00m _bootstrap\u001b[39m.\u001b[39m_gcd_import(name[level:], package, level)\n",
      "File \u001b[1;32m<frozen importlib._bootstrap>:1204\u001b[0m, in \u001b[0;36m_gcd_import\u001b[1;34m(name, package, level)\u001b[0m\n",
      "File \u001b[1;32m<frozen importlib._bootstrap>:1176\u001b[0m, in \u001b[0;36m_find_and_load\u001b[1;34m(name, import_)\u001b[0m\n",
      "File \u001b[1;32m<frozen importlib._bootstrap>:1147\u001b[0m, in \u001b[0;36m_find_and_load_unlocked\u001b[1;34m(name, import_)\u001b[0m\n",
      "File \u001b[1;32m<frozen importlib._bootstrap>:690\u001b[0m, in \u001b[0;36m_load_unlocked\u001b[1;34m(spec)\u001b[0m\n",
      "File \u001b[1;32m<frozen importlib._bootstrap_external>:940\u001b[0m, in \u001b[0;36mexec_module\u001b[1;34m(self, module)\u001b[0m\n",
      "File \u001b[1;32m<frozen importlib._bootstrap>:241\u001b[0m, in \u001b[0;36m_call_with_frames_removed\u001b[1;34m(f, *args, **kwds)\u001b[0m\n",
      "File \u001b[1;32mc:\\tools\\miniconda3\\envs\\mt5_prop_firm_nautilus_backtests\\Lib\\site-packages\\fsspec\\implementations\\github.py:1\u001b[0m\n\u001b[1;32m----> 1\u001b[0m \u001b[39mimport\u001b[39;00m \u001b[39mrequests\u001b[39;00m\n\u001b[0;32m      3\u001b[0m \u001b[39mfrom\u001b[39;00m \u001b[39m.\u001b[39;00m\u001b[39m.\u001b[39;00m\u001b[39mspec\u001b[39;00m \u001b[39mimport\u001b[39;00m AbstractFileSystem\n",
      "\u001b[1;31mModuleNotFoundError\u001b[0m: No module named 'requests'",
      "\nThe above exception was the direct cause of the following exception:\n",
      "\u001b[1;31mImportError\u001b[0m                               Traceback (most recent call last)",
      "\u001b[1;32mc:\\Users\\k0240\\Documents\\projects\\mt5_prop_firm_nautilus_backtests\\research.ipynb Cell 22\u001b[0m line \u001b[0;36m5\n\u001b[0;32m      <a href='vscode-notebook-cell:/c%3A/Users/k0240/Documents/projects/mt5_prop_firm_nautilus_backtests/research.ipynb#X32sZmlsZQ%3D%3D?line=2'>3</a>\u001b[0m \u001b[39mfrom\u001b[39;00m \u001b[39mnautilus_trader\u001b[39;00m\u001b[39m.\u001b[39;00m\u001b[39mbacktest\u001b[39;00m\u001b[39m.\u001b[39;00m\u001b[39mengine\u001b[39;00m \u001b[39mimport\u001b[39;00m BacktestEngine\n\u001b[0;32m      <a href='vscode-notebook-cell:/c%3A/Users/k0240/Documents/projects/mt5_prop_firm_nautilus_backtests/research.ipynb#X32sZmlsZQ%3D%3D?line=3'>4</a>\u001b[0m \u001b[39mfrom\u001b[39;00m \u001b[39mnautilus_trader\u001b[39;00m\u001b[39m.\u001b[39;00m\u001b[39mbacktest\u001b[39;00m\u001b[39m.\u001b[39;00m\u001b[39mengine\u001b[39;00m \u001b[39mimport\u001b[39;00m BacktestEngineConfig\n\u001b[1;32m----> <a href='vscode-notebook-cell:/c%3A/Users/k0240/Documents/projects/mt5_prop_firm_nautilus_backtests/research.ipynb#X32sZmlsZQ%3D%3D?line=4'>5</a>\u001b[0m provider \u001b[39m=\u001b[39m TestDataProvider()\n",
      "File \u001b[1;32mc:\\tools\\miniconda3\\envs\\mt5_prop_firm_nautilus_backtests\\Lib\\site-packages\\nautilus_trader\\test_kit\\providers.py:565\u001b[0m, in \u001b[0;36mTestDataProvider.__init__\u001b[1;34m(self, branch)\u001b[0m\n\u001b[0;32m    563\u001b[0m \u001b[39mself\u001b[39m\u001b[39m.\u001b[39mfs: fsspec\u001b[39m.\u001b[39mAbstractFileSystem \u001b[39m|\u001b[39m \u001b[39mNone\u001b[39;00m \u001b[39m=\u001b[39m \u001b[39mNone\u001b[39;00m\n\u001b[0;32m    564\u001b[0m \u001b[39mself\u001b[39m\u001b[39m.\u001b[39mroot: \u001b[39mstr\u001b[39m \u001b[39m|\u001b[39m \u001b[39mNone\u001b[39;00m \u001b[39m=\u001b[39m \u001b[39mNone\u001b[39;00m\n\u001b[1;32m--> 565\u001b[0m \u001b[39mself\u001b[39m\u001b[39m.\u001b[39m_determine_filesystem()\n\u001b[0;32m    566\u001b[0m \u001b[39mself\u001b[39m\u001b[39m.\u001b[39mbranch \u001b[39m=\u001b[39m branch\n",
      "File \u001b[1;32mc:\\tools\\miniconda3\\envs\\mt5_prop_firm_nautilus_backtests\\Lib\\site-packages\\nautilus_trader\\test_kit\\providers.py:587\u001b[0m, in \u001b[0;36mTestDataProvider._determine_filesystem\u001b[1;34m(self)\u001b[0m\n\u001b[0;32m    585\u001b[0m \u001b[39mprint\u001b[39m(\u001b[39m\"\u001b[39m\u001b[39mCouldn\u001b[39m\u001b[39m'\u001b[39m\u001b[39mt find test data directory, test data will be pulled from GitHub\u001b[39m\u001b[39m\"\u001b[39m)\n\u001b[0;32m    586\u001b[0m \u001b[39mself\u001b[39m\u001b[39m.\u001b[39mroot \u001b[39m=\u001b[39m \u001b[39m\"\u001b[39m\u001b[39mtests/test_data\u001b[39m\u001b[39m\"\u001b[39m\n\u001b[1;32m--> 587\u001b[0m \u001b[39mself\u001b[39m\u001b[39m.\u001b[39mfs \u001b[39m=\u001b[39m fsspec\u001b[39m.\u001b[39mfilesystem(\u001b[39m\"\u001b[39m\u001b[39mgithub\u001b[39m\u001b[39m\"\u001b[39m, org\u001b[39m=\u001b[39m\u001b[39m\"\u001b[39m\u001b[39mnautechsystems\u001b[39m\u001b[39m\"\u001b[39m, repo\u001b[39m=\u001b[39m\u001b[39m\"\u001b[39m\u001b[39mnautilus_trader\u001b[39m\u001b[39m\"\u001b[39m)\n",
      "File \u001b[1;32mc:\\tools\\miniconda3\\envs\\mt5_prop_firm_nautilus_backtests\\Lib\\site-packages\\fsspec\\registry.py:266\u001b[0m, in \u001b[0;36mfilesystem\u001b[1;34m(protocol, **storage_options)\u001b[0m\n\u001b[0;32m    259\u001b[0m \u001b[39mif\u001b[39;00m protocol \u001b[39m==\u001b[39m \u001b[39m\"\u001b[39m\u001b[39marrow_hdfs\u001b[39m\u001b[39m\"\u001b[39m:\n\u001b[0;32m    260\u001b[0m     warnings\u001b[39m.\u001b[39mwarn(\n\u001b[0;32m    261\u001b[0m         \u001b[39m\"\u001b[39m\u001b[39mThe \u001b[39m\u001b[39m'\u001b[39m\u001b[39marrow_hdfs\u001b[39m\u001b[39m'\u001b[39m\u001b[39m protocol has been deprecated and will be \u001b[39m\u001b[39m\"\u001b[39m\n\u001b[0;32m    262\u001b[0m         \u001b[39m\"\u001b[39m\u001b[39mremoved in the future. Specify it as \u001b[39m\u001b[39m'\u001b[39m\u001b[39mhdfs\u001b[39m\u001b[39m'\u001b[39m\u001b[39m.\u001b[39m\u001b[39m\"\u001b[39m,\n\u001b[0;32m    263\u001b[0m         \u001b[39mDeprecationWarning\u001b[39;00m,\n\u001b[0;32m    264\u001b[0m     )\n\u001b[1;32m--> 266\u001b[0m \u001b[39mcls\u001b[39m \u001b[39m=\u001b[39m get_filesystem_class(protocol)\n\u001b[0;32m    267\u001b[0m \u001b[39mreturn\u001b[39;00m \u001b[39mcls\u001b[39m(\u001b[39m*\u001b[39m\u001b[39m*\u001b[39mstorage_options)\n",
      "File \u001b[1;32mc:\\tools\\miniconda3\\envs\\mt5_prop_firm_nautilus_backtests\\Lib\\site-packages\\fsspec\\registry.py:228\u001b[0m, in \u001b[0;36mget_filesystem_class\u001b[1;34m(protocol)\u001b[0m\n\u001b[0;32m    226\u001b[0m         register_implementation(protocol, _import_class(bit[\u001b[39m\"\u001b[39m\u001b[39mclass\u001b[39m\u001b[39m\"\u001b[39m]))\n\u001b[0;32m    227\u001b[0m     \u001b[39mexcept\u001b[39;00m \u001b[39mImportError\u001b[39;00m \u001b[39mas\u001b[39;00m e:\n\u001b[1;32m--> 228\u001b[0m         \u001b[39mraise\u001b[39;00m \u001b[39mImportError\u001b[39;00m(bit[\u001b[39m\"\u001b[39m\u001b[39merr\u001b[39m\u001b[39m\"\u001b[39m]) \u001b[39mfrom\u001b[39;00m \u001b[39me\u001b[39;00m\n\u001b[0;32m    229\u001b[0m \u001b[39mcls\u001b[39m \u001b[39m=\u001b[39m registry[protocol]\n\u001b[0;32m    230\u001b[0m \u001b[39mif\u001b[39;00m \u001b[39mgetattr\u001b[39m(\u001b[39mcls\u001b[39m, \u001b[39m\"\u001b[39m\u001b[39mprotocol\u001b[39m\u001b[39m\"\u001b[39m, \u001b[39mNone\u001b[39;00m) \u001b[39min\u001b[39;00m (\u001b[39m\"\u001b[39m\u001b[39mabstract\u001b[39m\u001b[39m\"\u001b[39m, \u001b[39mNone\u001b[39;00m):\n",
      "\u001b[1;31mImportError\u001b[0m: Install the requests package to use the github FS"
     ]
    }
   ],
   "source": [
    "# backtesting imports\n",
    "\n",
    "from nautilus_trader.backtest.engine import BacktestEngine\n",
    "from nautilus_trader.backtest.engine import BacktestEngineConfig\n",
    "provider = TestDataProvider()"
   ]
  },
  {
   "cell_type": "code",
   "execution_count": 27,
   "metadata": {},
   "outputs": [
    {
     "name": "stdout",
     "output_type": "stream",
     "text": [
      "Couldn't find test data directory, test data will be pulled from GitHub\n"
     ]
    },
    {
     "ename": "ImportError",
     "evalue": "Install the requests package to use the github FS",
     "output_type": "error",
     "traceback": [
      "\u001b[1;31m---------------------------------------------------------------------------\u001b[0m",
      "\u001b[1;31mModuleNotFoundError\u001b[0m                       Traceback (most recent call last)",
      "File \u001b[1;32mc:\\tools\\miniconda3\\envs\\mt5_prop_firm_nautilus_backtests\\Lib\\site-packages\\fsspec\\registry.py:226\u001b[0m, in \u001b[0;36mget_filesystem_class\u001b[1;34m(protocol)\u001b[0m\n\u001b[0;32m    225\u001b[0m \u001b[39mtry\u001b[39;00m:\n\u001b[1;32m--> 226\u001b[0m     register_implementation(protocol, _import_class(bit[\u001b[39m\"\u001b[39m\u001b[39mclass\u001b[39m\u001b[39m\"\u001b[39m]))\n\u001b[0;32m    227\u001b[0m \u001b[39mexcept\u001b[39;00m \u001b[39mImportError\u001b[39;00m \u001b[39mas\u001b[39;00m e:\n",
      "File \u001b[1;32mc:\\tools\\miniconda3\\envs\\mt5_prop_firm_nautilus_backtests\\Lib\\site-packages\\fsspec\\registry.py:249\u001b[0m, in \u001b[0;36m_import_class\u001b[1;34m(cls, minv)\u001b[0m\n\u001b[0;32m    248\u001b[0m mod, name \u001b[39m=\u001b[39m \u001b[39mcls\u001b[39m\u001b[39m.\u001b[39mrsplit(\u001b[39m\"\u001b[39m\u001b[39m.\u001b[39m\u001b[39m\"\u001b[39m, \u001b[39m1\u001b[39m)\n\u001b[1;32m--> 249\u001b[0m mod \u001b[39m=\u001b[39m importlib\u001b[39m.\u001b[39mimport_module(mod)\n\u001b[0;32m    250\u001b[0m \u001b[39mreturn\u001b[39;00m \u001b[39mgetattr\u001b[39m(mod, name)\n",
      "File \u001b[1;32mc:\\tools\\miniconda3\\envs\\mt5_prop_firm_nautilus_backtests\\Lib\\importlib\\__init__.py:126\u001b[0m, in \u001b[0;36mimport_module\u001b[1;34m(name, package)\u001b[0m\n\u001b[0;32m    125\u001b[0m         level \u001b[39m+\u001b[39m\u001b[39m=\u001b[39m \u001b[39m1\u001b[39m\n\u001b[1;32m--> 126\u001b[0m \u001b[39mreturn\u001b[39;00m _bootstrap\u001b[39m.\u001b[39m_gcd_import(name[level:], package, level)\n",
      "File \u001b[1;32m<frozen importlib._bootstrap>:1204\u001b[0m, in \u001b[0;36m_gcd_import\u001b[1;34m(name, package, level)\u001b[0m\n",
      "File \u001b[1;32m<frozen importlib._bootstrap>:1176\u001b[0m, in \u001b[0;36m_find_and_load\u001b[1;34m(name, import_)\u001b[0m\n",
      "File \u001b[1;32m<frozen importlib._bootstrap>:1147\u001b[0m, in \u001b[0;36m_find_and_load_unlocked\u001b[1;34m(name, import_)\u001b[0m\n",
      "File \u001b[1;32m<frozen importlib._bootstrap>:690\u001b[0m, in \u001b[0;36m_load_unlocked\u001b[1;34m(spec)\u001b[0m\n",
      "File \u001b[1;32m<frozen importlib._bootstrap_external>:940\u001b[0m, in \u001b[0;36mexec_module\u001b[1;34m(self, module)\u001b[0m\n",
      "File \u001b[1;32m<frozen importlib._bootstrap>:241\u001b[0m, in \u001b[0;36m_call_with_frames_removed\u001b[1;34m(f, *args, **kwds)\u001b[0m\n",
      "File \u001b[1;32mc:\\tools\\miniconda3\\envs\\mt5_prop_firm_nautilus_backtests\\Lib\\site-packages\\fsspec\\implementations\\github.py:1\u001b[0m\n\u001b[1;32m----> 1\u001b[0m \u001b[39mimport\u001b[39;00m \u001b[39mrequests\u001b[39;00m\n\u001b[0;32m      3\u001b[0m \u001b[39mfrom\u001b[39;00m \u001b[39m.\u001b[39;00m\u001b[39m.\u001b[39;00m\u001b[39mspec\u001b[39;00m \u001b[39mimport\u001b[39;00m AbstractFileSystem\n",
      "\u001b[1;31mModuleNotFoundError\u001b[0m: No module named 'requests'",
      "\nThe above exception was the direct cause of the following exception:\n",
      "\u001b[1;31mImportError\u001b[0m                               Traceback (most recent call last)",
      "\u001b[1;32mc:\\Users\\k0240\\Documents\\projects\\mt5_prop_firm_nautilus_backtests\\research.ipynb Cell 23\u001b[0m line \u001b[0;36m5\n\u001b[0;32m      <a href='vscode-notebook-cell:/c%3A/Users/k0240/Documents/projects/mt5_prop_firm_nautilus_backtests/research.ipynb#X33sZmlsZQ%3D%3D?line=2'>3</a>\u001b[0m \u001b[39mfrom\u001b[39;00m \u001b[39mnautilus_trader\u001b[39;00m\u001b[39m.\u001b[39;00m\u001b[39mmodel\u001b[39;00m\u001b[39m.\u001b[39;00m\u001b[39menums\u001b[39;00m \u001b[39mimport\u001b[39;00m AccountType\n\u001b[0;32m      <a href='vscode-notebook-cell:/c%3A/Users/k0240/Documents/projects/mt5_prop_firm_nautilus_backtests/research.ipynb#X33sZmlsZQ%3D%3D?line=3'>4</a>\u001b[0m \u001b[39mfrom\u001b[39;00m \u001b[39mnautilus_trader\u001b[39;00m\u001b[39m.\u001b[39;00m\u001b[39mmodel\u001b[39;00m\u001b[39m.\u001b[39;00m\u001b[39menums\u001b[39;00m \u001b[39mimport\u001b[39;00m OmsType\n\u001b[1;32m----> <a href='vscode-notebook-cell:/c%3A/Users/k0240/Documents/projects/mt5_prop_firm_nautilus_backtests/research.ipynb#X33sZmlsZQ%3D%3D?line=4'>5</a>\u001b[0m provider \u001b[39m=\u001b[39m TestDataProvider()\n",
      "File \u001b[1;32mc:\\tools\\miniconda3\\envs\\mt5_prop_firm_nautilus_backtests\\Lib\\site-packages\\nautilus_trader\\test_kit\\providers.py:565\u001b[0m, in \u001b[0;36mTestDataProvider.__init__\u001b[1;34m(self, branch)\u001b[0m\n\u001b[0;32m    563\u001b[0m \u001b[39mself\u001b[39m\u001b[39m.\u001b[39mfs: fsspec\u001b[39m.\u001b[39mAbstractFileSystem \u001b[39m|\u001b[39m \u001b[39mNone\u001b[39;00m \u001b[39m=\u001b[39m \u001b[39mNone\u001b[39;00m\n\u001b[0;32m    564\u001b[0m \u001b[39mself\u001b[39m\u001b[39m.\u001b[39mroot: \u001b[39mstr\u001b[39m \u001b[39m|\u001b[39m \u001b[39mNone\u001b[39;00m \u001b[39m=\u001b[39m \u001b[39mNone\u001b[39;00m\n\u001b[1;32m--> 565\u001b[0m \u001b[39mself\u001b[39m\u001b[39m.\u001b[39m_determine_filesystem()\n\u001b[0;32m    566\u001b[0m \u001b[39mself\u001b[39m\u001b[39m.\u001b[39mbranch \u001b[39m=\u001b[39m branch\n",
      "File \u001b[1;32mc:\\tools\\miniconda3\\envs\\mt5_prop_firm_nautilus_backtests\\Lib\\site-packages\\nautilus_trader\\test_kit\\providers.py:587\u001b[0m, in \u001b[0;36mTestDataProvider._determine_filesystem\u001b[1;34m(self)\u001b[0m\n\u001b[0;32m    585\u001b[0m \u001b[39mprint\u001b[39m(\u001b[39m\"\u001b[39m\u001b[39mCouldn\u001b[39m\u001b[39m'\u001b[39m\u001b[39mt find test data directory, test data will be pulled from GitHub\u001b[39m\u001b[39m\"\u001b[39m)\n\u001b[0;32m    586\u001b[0m \u001b[39mself\u001b[39m\u001b[39m.\u001b[39mroot \u001b[39m=\u001b[39m \u001b[39m\"\u001b[39m\u001b[39mtests/test_data\u001b[39m\u001b[39m\"\u001b[39m\n\u001b[1;32m--> 587\u001b[0m \u001b[39mself\u001b[39m\u001b[39m.\u001b[39mfs \u001b[39m=\u001b[39m fsspec\u001b[39m.\u001b[39mfilesystem(\u001b[39m\"\u001b[39m\u001b[39mgithub\u001b[39m\u001b[39m\"\u001b[39m, org\u001b[39m=\u001b[39m\u001b[39m\"\u001b[39m\u001b[39mnautechsystems\u001b[39m\u001b[39m\"\u001b[39m, repo\u001b[39m=\u001b[39m\u001b[39m\"\u001b[39m\u001b[39mnautilus_trader\u001b[39m\u001b[39m\"\u001b[39m)\n",
      "File \u001b[1;32mc:\\tools\\miniconda3\\envs\\mt5_prop_firm_nautilus_backtests\\Lib\\site-packages\\fsspec\\registry.py:266\u001b[0m, in \u001b[0;36mfilesystem\u001b[1;34m(protocol, **storage_options)\u001b[0m\n\u001b[0;32m    259\u001b[0m \u001b[39mif\u001b[39;00m protocol \u001b[39m==\u001b[39m \u001b[39m\"\u001b[39m\u001b[39marrow_hdfs\u001b[39m\u001b[39m\"\u001b[39m:\n\u001b[0;32m    260\u001b[0m     warnings\u001b[39m.\u001b[39mwarn(\n\u001b[0;32m    261\u001b[0m         \u001b[39m\"\u001b[39m\u001b[39mThe \u001b[39m\u001b[39m'\u001b[39m\u001b[39marrow_hdfs\u001b[39m\u001b[39m'\u001b[39m\u001b[39m protocol has been deprecated and will be \u001b[39m\u001b[39m\"\u001b[39m\n\u001b[0;32m    262\u001b[0m         \u001b[39m\"\u001b[39m\u001b[39mremoved in the future. Specify it as \u001b[39m\u001b[39m'\u001b[39m\u001b[39mhdfs\u001b[39m\u001b[39m'\u001b[39m\u001b[39m.\u001b[39m\u001b[39m\"\u001b[39m,\n\u001b[0;32m    263\u001b[0m         \u001b[39mDeprecationWarning\u001b[39;00m,\n\u001b[0;32m    264\u001b[0m     )\n\u001b[1;32m--> 266\u001b[0m \u001b[39mcls\u001b[39m \u001b[39m=\u001b[39m get_filesystem_class(protocol)\n\u001b[0;32m    267\u001b[0m \u001b[39mreturn\u001b[39;00m \u001b[39mcls\u001b[39m(\u001b[39m*\u001b[39m\u001b[39m*\u001b[39mstorage_options)\n",
      "File \u001b[1;32mc:\\tools\\miniconda3\\envs\\mt5_prop_firm_nautilus_backtests\\Lib\\site-packages\\fsspec\\registry.py:228\u001b[0m, in \u001b[0;36mget_filesystem_class\u001b[1;34m(protocol)\u001b[0m\n\u001b[0;32m    226\u001b[0m         register_implementation(protocol, _import_class(bit[\u001b[39m\"\u001b[39m\u001b[39mclass\u001b[39m\u001b[39m\"\u001b[39m]))\n\u001b[0;32m    227\u001b[0m     \u001b[39mexcept\u001b[39;00m \u001b[39mImportError\u001b[39;00m \u001b[39mas\u001b[39;00m e:\n\u001b[1;32m--> 228\u001b[0m         \u001b[39mraise\u001b[39;00m \u001b[39mImportError\u001b[39;00m(bit[\u001b[39m\"\u001b[39m\u001b[39merr\u001b[39m\u001b[39m\"\u001b[39m]) \u001b[39mfrom\u001b[39;00m \u001b[39me\u001b[39;00m\n\u001b[0;32m    229\u001b[0m \u001b[39mcls\u001b[39m \u001b[39m=\u001b[39m registry[protocol]\n\u001b[0;32m    230\u001b[0m \u001b[39mif\u001b[39;00m \u001b[39mgetattr\u001b[39m(\u001b[39mcls\u001b[39m, \u001b[39m\"\u001b[39m\u001b[39mprotocol\u001b[39m\u001b[39m\"\u001b[39m, \u001b[39mNone\u001b[39;00m) \u001b[39min\u001b[39;00m (\u001b[39m\"\u001b[39m\u001b[39mabstract\u001b[39m\u001b[39m\"\u001b[39m, \u001b[39mNone\u001b[39;00m):\n",
      "\u001b[1;31mImportError\u001b[0m: Install the requests package to use the github FS"
     ]
    }
   ],
   "source": [
    "# model enums imports\n",
    "\n",
    "from nautilus_trader.model.enums import AccountType\n",
    "from nautilus_trader.model.enums import OmsType\n",
    "provider = TestDataProvider()"
   ]
  },
  {
   "cell_type": "code",
   "execution_count": 28,
   "metadata": {},
   "outputs": [
    {
     "name": "stdout",
     "output_type": "stream",
     "text": [
      "Couldn't find test data directory, test data will be pulled from GitHub\n"
     ]
    },
    {
     "ename": "ImportError",
     "evalue": "Install the requests package to use the github FS",
     "output_type": "error",
     "traceback": [
      "\u001b[1;31m---------------------------------------------------------------------------\u001b[0m",
      "\u001b[1;31mModuleNotFoundError\u001b[0m                       Traceback (most recent call last)",
      "File \u001b[1;32mc:\\tools\\miniconda3\\envs\\mt5_prop_firm_nautilus_backtests\\Lib\\site-packages\\fsspec\\registry.py:226\u001b[0m, in \u001b[0;36mget_filesystem_class\u001b[1;34m(protocol)\u001b[0m\n\u001b[0;32m    225\u001b[0m \u001b[39mtry\u001b[39;00m:\n\u001b[1;32m--> 226\u001b[0m     register_implementation(protocol, _import_class(bit[\u001b[39m\"\u001b[39m\u001b[39mclass\u001b[39m\u001b[39m\"\u001b[39m]))\n\u001b[0;32m    227\u001b[0m \u001b[39mexcept\u001b[39;00m \u001b[39mImportError\u001b[39;00m \u001b[39mas\u001b[39;00m e:\n",
      "File \u001b[1;32mc:\\tools\\miniconda3\\envs\\mt5_prop_firm_nautilus_backtests\\Lib\\site-packages\\fsspec\\registry.py:249\u001b[0m, in \u001b[0;36m_import_class\u001b[1;34m(cls, minv)\u001b[0m\n\u001b[0;32m    248\u001b[0m mod, name \u001b[39m=\u001b[39m \u001b[39mcls\u001b[39m\u001b[39m.\u001b[39mrsplit(\u001b[39m\"\u001b[39m\u001b[39m.\u001b[39m\u001b[39m\"\u001b[39m, \u001b[39m1\u001b[39m)\n\u001b[1;32m--> 249\u001b[0m mod \u001b[39m=\u001b[39m importlib\u001b[39m.\u001b[39mimport_module(mod)\n\u001b[0;32m    250\u001b[0m \u001b[39mreturn\u001b[39;00m \u001b[39mgetattr\u001b[39m(mod, name)\n",
      "File \u001b[1;32mc:\\tools\\miniconda3\\envs\\mt5_prop_firm_nautilus_backtests\\Lib\\importlib\\__init__.py:126\u001b[0m, in \u001b[0;36mimport_module\u001b[1;34m(name, package)\u001b[0m\n\u001b[0;32m    125\u001b[0m         level \u001b[39m+\u001b[39m\u001b[39m=\u001b[39m \u001b[39m1\u001b[39m\n\u001b[1;32m--> 126\u001b[0m \u001b[39mreturn\u001b[39;00m _bootstrap\u001b[39m.\u001b[39m_gcd_import(name[level:], package, level)\n",
      "File \u001b[1;32m<frozen importlib._bootstrap>:1204\u001b[0m, in \u001b[0;36m_gcd_import\u001b[1;34m(name, package, level)\u001b[0m\n",
      "File \u001b[1;32m<frozen importlib._bootstrap>:1176\u001b[0m, in \u001b[0;36m_find_and_load\u001b[1;34m(name, import_)\u001b[0m\n",
      "File \u001b[1;32m<frozen importlib._bootstrap>:1147\u001b[0m, in \u001b[0;36m_find_and_load_unlocked\u001b[1;34m(name, import_)\u001b[0m\n",
      "File \u001b[1;32m<frozen importlib._bootstrap>:690\u001b[0m, in \u001b[0;36m_load_unlocked\u001b[1;34m(spec)\u001b[0m\n",
      "File \u001b[1;32m<frozen importlib._bootstrap_external>:940\u001b[0m, in \u001b[0;36mexec_module\u001b[1;34m(self, module)\u001b[0m\n",
      "File \u001b[1;32m<frozen importlib._bootstrap>:241\u001b[0m, in \u001b[0;36m_call_with_frames_removed\u001b[1;34m(f, *args, **kwds)\u001b[0m\n",
      "File \u001b[1;32mc:\\tools\\miniconda3\\envs\\mt5_prop_firm_nautilus_backtests\\Lib\\site-packages\\fsspec\\implementations\\github.py:1\u001b[0m\n\u001b[1;32m----> 1\u001b[0m \u001b[39mimport\u001b[39;00m \u001b[39mrequests\u001b[39;00m\n\u001b[0;32m      3\u001b[0m \u001b[39mfrom\u001b[39;00m \u001b[39m.\u001b[39;00m\u001b[39m.\u001b[39;00m\u001b[39mspec\u001b[39;00m \u001b[39mimport\u001b[39;00m AbstractFileSystem\n",
      "\u001b[1;31mModuleNotFoundError\u001b[0m: No module named 'requests'",
      "\nThe above exception was the direct cause of the following exception:\n",
      "\u001b[1;31mImportError\u001b[0m                               Traceback (most recent call last)",
      "\u001b[1;32mc:\\Users\\k0240\\Documents\\projects\\mt5_prop_firm_nautilus_backtests\\research.ipynb Cell 24\u001b[0m line \u001b[0;36m4\n\u001b[0;32m      <a href='vscode-notebook-cell:/c%3A/Users/k0240/Documents/projects/mt5_prop_firm_nautilus_backtests/research.ipynb#X34sZmlsZQ%3D%3D?line=0'>1</a>\u001b[0m \u001b[39m# venue import\u001b[39;00m\n\u001b[0;32m      <a href='vscode-notebook-cell:/c%3A/Users/k0240/Documents/projects/mt5_prop_firm_nautilus_backtests/research.ipynb#X34sZmlsZQ%3D%3D?line=2'>3</a>\u001b[0m \u001b[39mfrom\u001b[39;00m \u001b[39mnautilus_trader\u001b[39;00m\u001b[39m.\u001b[39;00m\u001b[39mmodel\u001b[39;00m\u001b[39m.\u001b[39;00m\u001b[39midentifiers\u001b[39;00m \u001b[39mimport\u001b[39;00m Venue\n\u001b[1;32m----> <a href='vscode-notebook-cell:/c%3A/Users/k0240/Documents/projects/mt5_prop_firm_nautilus_backtests/research.ipynb#X34sZmlsZQ%3D%3D?line=3'>4</a>\u001b[0m provider \u001b[39m=\u001b[39m TestDataProvider()\n",
      "File \u001b[1;32mc:\\tools\\miniconda3\\envs\\mt5_prop_firm_nautilus_backtests\\Lib\\site-packages\\nautilus_trader\\test_kit\\providers.py:565\u001b[0m, in \u001b[0;36mTestDataProvider.__init__\u001b[1;34m(self, branch)\u001b[0m\n\u001b[0;32m    563\u001b[0m \u001b[39mself\u001b[39m\u001b[39m.\u001b[39mfs: fsspec\u001b[39m.\u001b[39mAbstractFileSystem \u001b[39m|\u001b[39m \u001b[39mNone\u001b[39;00m \u001b[39m=\u001b[39m \u001b[39mNone\u001b[39;00m\n\u001b[0;32m    564\u001b[0m \u001b[39mself\u001b[39m\u001b[39m.\u001b[39mroot: \u001b[39mstr\u001b[39m \u001b[39m|\u001b[39m \u001b[39mNone\u001b[39;00m \u001b[39m=\u001b[39m \u001b[39mNone\u001b[39;00m\n\u001b[1;32m--> 565\u001b[0m \u001b[39mself\u001b[39m\u001b[39m.\u001b[39m_determine_filesystem()\n\u001b[0;32m    566\u001b[0m \u001b[39mself\u001b[39m\u001b[39m.\u001b[39mbranch \u001b[39m=\u001b[39m branch\n",
      "File \u001b[1;32mc:\\tools\\miniconda3\\envs\\mt5_prop_firm_nautilus_backtests\\Lib\\site-packages\\nautilus_trader\\test_kit\\providers.py:587\u001b[0m, in \u001b[0;36mTestDataProvider._determine_filesystem\u001b[1;34m(self)\u001b[0m\n\u001b[0;32m    585\u001b[0m \u001b[39mprint\u001b[39m(\u001b[39m\"\u001b[39m\u001b[39mCouldn\u001b[39m\u001b[39m'\u001b[39m\u001b[39mt find test data directory, test data will be pulled from GitHub\u001b[39m\u001b[39m\"\u001b[39m)\n\u001b[0;32m    586\u001b[0m \u001b[39mself\u001b[39m\u001b[39m.\u001b[39mroot \u001b[39m=\u001b[39m \u001b[39m\"\u001b[39m\u001b[39mtests/test_data\u001b[39m\u001b[39m\"\u001b[39m\n\u001b[1;32m--> 587\u001b[0m \u001b[39mself\u001b[39m\u001b[39m.\u001b[39mfs \u001b[39m=\u001b[39m fsspec\u001b[39m.\u001b[39mfilesystem(\u001b[39m\"\u001b[39m\u001b[39mgithub\u001b[39m\u001b[39m\"\u001b[39m, org\u001b[39m=\u001b[39m\u001b[39m\"\u001b[39m\u001b[39mnautechsystems\u001b[39m\u001b[39m\"\u001b[39m, repo\u001b[39m=\u001b[39m\u001b[39m\"\u001b[39m\u001b[39mnautilus_trader\u001b[39m\u001b[39m\"\u001b[39m)\n",
      "File \u001b[1;32mc:\\tools\\miniconda3\\envs\\mt5_prop_firm_nautilus_backtests\\Lib\\site-packages\\fsspec\\registry.py:266\u001b[0m, in \u001b[0;36mfilesystem\u001b[1;34m(protocol, **storage_options)\u001b[0m\n\u001b[0;32m    259\u001b[0m \u001b[39mif\u001b[39;00m protocol \u001b[39m==\u001b[39m \u001b[39m\"\u001b[39m\u001b[39marrow_hdfs\u001b[39m\u001b[39m\"\u001b[39m:\n\u001b[0;32m    260\u001b[0m     warnings\u001b[39m.\u001b[39mwarn(\n\u001b[0;32m    261\u001b[0m         \u001b[39m\"\u001b[39m\u001b[39mThe \u001b[39m\u001b[39m'\u001b[39m\u001b[39marrow_hdfs\u001b[39m\u001b[39m'\u001b[39m\u001b[39m protocol has been deprecated and will be \u001b[39m\u001b[39m\"\u001b[39m\n\u001b[0;32m    262\u001b[0m         \u001b[39m\"\u001b[39m\u001b[39mremoved in the future. Specify it as \u001b[39m\u001b[39m'\u001b[39m\u001b[39mhdfs\u001b[39m\u001b[39m'\u001b[39m\u001b[39m.\u001b[39m\u001b[39m\"\u001b[39m,\n\u001b[0;32m    263\u001b[0m         \u001b[39mDeprecationWarning\u001b[39;00m,\n\u001b[0;32m    264\u001b[0m     )\n\u001b[1;32m--> 266\u001b[0m \u001b[39mcls\u001b[39m \u001b[39m=\u001b[39m get_filesystem_class(protocol)\n\u001b[0;32m    267\u001b[0m \u001b[39mreturn\u001b[39;00m \u001b[39mcls\u001b[39m(\u001b[39m*\u001b[39m\u001b[39m*\u001b[39mstorage_options)\n",
      "File \u001b[1;32mc:\\tools\\miniconda3\\envs\\mt5_prop_firm_nautilus_backtests\\Lib\\site-packages\\fsspec\\registry.py:228\u001b[0m, in \u001b[0;36mget_filesystem_class\u001b[1;34m(protocol)\u001b[0m\n\u001b[0;32m    226\u001b[0m         register_implementation(protocol, _import_class(bit[\u001b[39m\"\u001b[39m\u001b[39mclass\u001b[39m\u001b[39m\"\u001b[39m]))\n\u001b[0;32m    227\u001b[0m     \u001b[39mexcept\u001b[39;00m \u001b[39mImportError\u001b[39;00m \u001b[39mas\u001b[39;00m e:\n\u001b[1;32m--> 228\u001b[0m         \u001b[39mraise\u001b[39;00m \u001b[39mImportError\u001b[39;00m(bit[\u001b[39m\"\u001b[39m\u001b[39merr\u001b[39m\u001b[39m\"\u001b[39m]) \u001b[39mfrom\u001b[39;00m \u001b[39me\u001b[39;00m\n\u001b[0;32m    229\u001b[0m \u001b[39mcls\u001b[39m \u001b[39m=\u001b[39m registry[protocol]\n\u001b[0;32m    230\u001b[0m \u001b[39mif\u001b[39;00m \u001b[39mgetattr\u001b[39m(\u001b[39mcls\u001b[39m, \u001b[39m\"\u001b[39m\u001b[39mprotocol\u001b[39m\u001b[39m\"\u001b[39m, \u001b[39mNone\u001b[39;00m) \u001b[39min\u001b[39;00m (\u001b[39m\"\u001b[39m\u001b[39mabstract\u001b[39m\u001b[39m\"\u001b[39m, \u001b[39mNone\u001b[39;00m):\n",
      "\u001b[1;31mImportError\u001b[0m: Install the requests package to use the github FS"
     ]
    }
   ],
   "source": [
    "# venue import\n",
    "\n",
    "from nautilus_trader.model.identifiers import Venue\n",
    "provider = TestDataProvider()"
   ]
  },
  {
   "cell_type": "code",
   "execution_count": 30,
   "metadata": {},
   "outputs": [
    {
     "name": "stdout",
     "output_type": "stream",
     "text": [
      "Couldn't find test data directory, test data will be pulled from GitHub\n"
     ]
    },
    {
     "ename": "ImportError",
     "evalue": "Install the requests package to use the github FS",
     "output_type": "error",
     "traceback": [
      "\u001b[1;31m---------------------------------------------------------------------------\u001b[0m",
      "\u001b[1;31mModuleNotFoundError\u001b[0m                       Traceback (most recent call last)",
      "File \u001b[1;32mc:\\tools\\miniconda3\\envs\\mt5_prop_firm_nautilus_backtests\\Lib\\site-packages\\fsspec\\registry.py:226\u001b[0m, in \u001b[0;36mget_filesystem_class\u001b[1;34m(protocol)\u001b[0m\n\u001b[0;32m    225\u001b[0m \u001b[39mtry\u001b[39;00m:\n\u001b[1;32m--> 226\u001b[0m     register_implementation(protocol, _import_class(bit[\u001b[39m\"\u001b[39m\u001b[39mclass\u001b[39m\u001b[39m\"\u001b[39m]))\n\u001b[0;32m    227\u001b[0m \u001b[39mexcept\u001b[39;00m \u001b[39mImportError\u001b[39;00m \u001b[39mas\u001b[39;00m e:\n",
      "File \u001b[1;32mc:\\tools\\miniconda3\\envs\\mt5_prop_firm_nautilus_backtests\\Lib\\site-packages\\fsspec\\registry.py:249\u001b[0m, in \u001b[0;36m_import_class\u001b[1;34m(cls, minv)\u001b[0m\n\u001b[0;32m    248\u001b[0m mod, name \u001b[39m=\u001b[39m \u001b[39mcls\u001b[39m\u001b[39m.\u001b[39mrsplit(\u001b[39m\"\u001b[39m\u001b[39m.\u001b[39m\u001b[39m\"\u001b[39m, \u001b[39m1\u001b[39m)\n\u001b[1;32m--> 249\u001b[0m mod \u001b[39m=\u001b[39m importlib\u001b[39m.\u001b[39mimport_module(mod)\n\u001b[0;32m    250\u001b[0m \u001b[39mreturn\u001b[39;00m \u001b[39mgetattr\u001b[39m(mod, name)\n",
      "File \u001b[1;32mc:\\tools\\miniconda3\\envs\\mt5_prop_firm_nautilus_backtests\\Lib\\importlib\\__init__.py:126\u001b[0m, in \u001b[0;36mimport_module\u001b[1;34m(name, package)\u001b[0m\n\u001b[0;32m    125\u001b[0m         level \u001b[39m+\u001b[39m\u001b[39m=\u001b[39m \u001b[39m1\u001b[39m\n\u001b[1;32m--> 126\u001b[0m \u001b[39mreturn\u001b[39;00m _bootstrap\u001b[39m.\u001b[39m_gcd_import(name[level:], package, level)\n",
      "File \u001b[1;32m<frozen importlib._bootstrap>:1204\u001b[0m, in \u001b[0;36m_gcd_import\u001b[1;34m(name, package, level)\u001b[0m\n",
      "File \u001b[1;32m<frozen importlib._bootstrap>:1176\u001b[0m, in \u001b[0;36m_find_and_load\u001b[1;34m(name, import_)\u001b[0m\n",
      "File \u001b[1;32m<frozen importlib._bootstrap>:1147\u001b[0m, in \u001b[0;36m_find_and_load_unlocked\u001b[1;34m(name, import_)\u001b[0m\n",
      "File \u001b[1;32m<frozen importlib._bootstrap>:690\u001b[0m, in \u001b[0;36m_load_unlocked\u001b[1;34m(spec)\u001b[0m\n",
      "File \u001b[1;32m<frozen importlib._bootstrap_external>:940\u001b[0m, in \u001b[0;36mexec_module\u001b[1;34m(self, module)\u001b[0m\n",
      "File \u001b[1;32m<frozen importlib._bootstrap>:241\u001b[0m, in \u001b[0;36m_call_with_frames_removed\u001b[1;34m(f, *args, **kwds)\u001b[0m\n",
      "File \u001b[1;32mc:\\tools\\miniconda3\\envs\\mt5_prop_firm_nautilus_backtests\\Lib\\site-packages\\fsspec\\implementations\\github.py:1\u001b[0m\n\u001b[1;32m----> 1\u001b[0m \u001b[39mimport\u001b[39;00m \u001b[39mrequests\u001b[39;00m\n\u001b[0;32m      3\u001b[0m \u001b[39mfrom\u001b[39;00m \u001b[39m.\u001b[39;00m\u001b[39m.\u001b[39;00m\u001b[39mspec\u001b[39;00m \u001b[39mimport\u001b[39;00m AbstractFileSystem\n",
      "\u001b[1;31mModuleNotFoundError\u001b[0m: No module named 'requests'",
      "\nThe above exception was the direct cause of the following exception:\n",
      "\u001b[1;31mImportError\u001b[0m                               Traceback (most recent call last)",
      "\u001b[1;32mc:\\Users\\k0240\\Documents\\projects\\mt5_prop_firm_nautilus_backtests\\research.ipynb Cell 25\u001b[0m line \u001b[0;36m4\n\u001b[0;32m      <a href='vscode-notebook-cell:/c%3A/Users/k0240/Documents/projects/mt5_prop_firm_nautilus_backtests/research.ipynb#X35sZmlsZQ%3D%3D?line=0'>1</a>\u001b[0m \u001b[39mfrom\u001b[39;00m \u001b[39mnautilus_trader\u001b[39;00m\u001b[39m.\u001b[39;00m\u001b[39mtest_kit\u001b[39;00m\u001b[39m.\u001b[39;00m\u001b[39mproviders\u001b[39;00m \u001b[39mimport\u001b[39;00m TestDataProvider\n\u001b[0;32m      <a href='vscode-notebook-cell:/c%3A/Users/k0240/Documents/projects/mt5_prop_firm_nautilus_backtests/research.ipynb#X35sZmlsZQ%3D%3D?line=1'>2</a>\u001b[0m \u001b[39mfrom\u001b[39;00m \u001b[39mnautilus_trader\u001b[39;00m\u001b[39m.\u001b[39;00m\u001b[39mtest_kit\u001b[39;00m\u001b[39m.\u001b[39;00m\u001b[39mproviders\u001b[39;00m \u001b[39mimport\u001b[39;00m TestInstrumentProvider\n\u001b[1;32m----> <a href='vscode-notebook-cell:/c%3A/Users/k0240/Documents/projects/mt5_prop_firm_nautilus_backtests/research.ipynb#X35sZmlsZQ%3D%3D?line=3'>4</a>\u001b[0m provider \u001b[39m=\u001b[39m TestDataProvider()\n",
      "File \u001b[1;32mc:\\tools\\miniconda3\\envs\\mt5_prop_firm_nautilus_backtests\\Lib\\site-packages\\nautilus_trader\\test_kit\\providers.py:565\u001b[0m, in \u001b[0;36mTestDataProvider.__init__\u001b[1;34m(self, branch)\u001b[0m\n\u001b[0;32m    563\u001b[0m \u001b[39mself\u001b[39m\u001b[39m.\u001b[39mfs: fsspec\u001b[39m.\u001b[39mAbstractFileSystem \u001b[39m|\u001b[39m \u001b[39mNone\u001b[39;00m \u001b[39m=\u001b[39m \u001b[39mNone\u001b[39;00m\n\u001b[0;32m    564\u001b[0m \u001b[39mself\u001b[39m\u001b[39m.\u001b[39mroot: \u001b[39mstr\u001b[39m \u001b[39m|\u001b[39m \u001b[39mNone\u001b[39;00m \u001b[39m=\u001b[39m \u001b[39mNone\u001b[39;00m\n\u001b[1;32m--> 565\u001b[0m \u001b[39mself\u001b[39m\u001b[39m.\u001b[39m_determine_filesystem()\n\u001b[0;32m    566\u001b[0m \u001b[39mself\u001b[39m\u001b[39m.\u001b[39mbranch \u001b[39m=\u001b[39m branch\n",
      "File \u001b[1;32mc:\\tools\\miniconda3\\envs\\mt5_prop_firm_nautilus_backtests\\Lib\\site-packages\\nautilus_trader\\test_kit\\providers.py:587\u001b[0m, in \u001b[0;36mTestDataProvider._determine_filesystem\u001b[1;34m(self)\u001b[0m\n\u001b[0;32m    585\u001b[0m \u001b[39mprint\u001b[39m(\u001b[39m\"\u001b[39m\u001b[39mCouldn\u001b[39m\u001b[39m'\u001b[39m\u001b[39mt find test data directory, test data will be pulled from GitHub\u001b[39m\u001b[39m\"\u001b[39m)\n\u001b[0;32m    586\u001b[0m \u001b[39mself\u001b[39m\u001b[39m.\u001b[39mroot \u001b[39m=\u001b[39m \u001b[39m\"\u001b[39m\u001b[39mtests/test_data\u001b[39m\u001b[39m\"\u001b[39m\n\u001b[1;32m--> 587\u001b[0m \u001b[39mself\u001b[39m\u001b[39m.\u001b[39mfs \u001b[39m=\u001b[39m fsspec\u001b[39m.\u001b[39mfilesystem(\u001b[39m\"\u001b[39m\u001b[39mgithub\u001b[39m\u001b[39m\"\u001b[39m, org\u001b[39m=\u001b[39m\u001b[39m\"\u001b[39m\u001b[39mnautechsystems\u001b[39m\u001b[39m\"\u001b[39m, repo\u001b[39m=\u001b[39m\u001b[39m\"\u001b[39m\u001b[39mnautilus_trader\u001b[39m\u001b[39m\"\u001b[39m)\n",
      "File \u001b[1;32mc:\\tools\\miniconda3\\envs\\mt5_prop_firm_nautilus_backtests\\Lib\\site-packages\\fsspec\\registry.py:266\u001b[0m, in \u001b[0;36mfilesystem\u001b[1;34m(protocol, **storage_options)\u001b[0m\n\u001b[0;32m    259\u001b[0m \u001b[39mif\u001b[39;00m protocol \u001b[39m==\u001b[39m \u001b[39m\"\u001b[39m\u001b[39marrow_hdfs\u001b[39m\u001b[39m\"\u001b[39m:\n\u001b[0;32m    260\u001b[0m     warnings\u001b[39m.\u001b[39mwarn(\n\u001b[0;32m    261\u001b[0m         \u001b[39m\"\u001b[39m\u001b[39mThe \u001b[39m\u001b[39m'\u001b[39m\u001b[39marrow_hdfs\u001b[39m\u001b[39m'\u001b[39m\u001b[39m protocol has been deprecated and will be \u001b[39m\u001b[39m\"\u001b[39m\n\u001b[0;32m    262\u001b[0m         \u001b[39m\"\u001b[39m\u001b[39mremoved in the future. Specify it as \u001b[39m\u001b[39m'\u001b[39m\u001b[39mhdfs\u001b[39m\u001b[39m'\u001b[39m\u001b[39m.\u001b[39m\u001b[39m\"\u001b[39m,\n\u001b[0;32m    263\u001b[0m         \u001b[39mDeprecationWarning\u001b[39;00m,\n\u001b[0;32m    264\u001b[0m     )\n\u001b[1;32m--> 266\u001b[0m \u001b[39mcls\u001b[39m \u001b[39m=\u001b[39m get_filesystem_class(protocol)\n\u001b[0;32m    267\u001b[0m \u001b[39mreturn\u001b[39;00m \u001b[39mcls\u001b[39m(\u001b[39m*\u001b[39m\u001b[39m*\u001b[39mstorage_options)\n",
      "File \u001b[1;32mc:\\tools\\miniconda3\\envs\\mt5_prop_firm_nautilus_backtests\\Lib\\site-packages\\fsspec\\registry.py:228\u001b[0m, in \u001b[0;36mget_filesystem_class\u001b[1;34m(protocol)\u001b[0m\n\u001b[0;32m    226\u001b[0m         register_implementation(protocol, _import_class(bit[\u001b[39m\"\u001b[39m\u001b[39mclass\u001b[39m\u001b[39m\"\u001b[39m]))\n\u001b[0;32m    227\u001b[0m     \u001b[39mexcept\u001b[39;00m \u001b[39mImportError\u001b[39;00m \u001b[39mas\u001b[39;00m e:\n\u001b[1;32m--> 228\u001b[0m         \u001b[39mraise\u001b[39;00m \u001b[39mImportError\u001b[39;00m(bit[\u001b[39m\"\u001b[39m\u001b[39merr\u001b[39m\u001b[39m\"\u001b[39m]) \u001b[39mfrom\u001b[39;00m \u001b[39me\u001b[39;00m\n\u001b[0;32m    229\u001b[0m \u001b[39mcls\u001b[39m \u001b[39m=\u001b[39m registry[protocol]\n\u001b[0;32m    230\u001b[0m \u001b[39mif\u001b[39;00m \u001b[39mgetattr\u001b[39m(\u001b[39mcls\u001b[39m, \u001b[39m\"\u001b[39m\u001b[39mprotocol\u001b[39m\u001b[39m\"\u001b[39m, \u001b[39mNone\u001b[39;00m) \u001b[39min\u001b[39;00m (\u001b[39m\"\u001b[39m\u001b[39mabstract\u001b[39m\u001b[39m\"\u001b[39m, \u001b[39mNone\u001b[39;00m):\n",
      "\u001b[1;31mImportError\u001b[0m: Install the requests package to use the github FS"
     ]
    }
   ],
   "source": [
    "from nautilus_trader.test_kit.providers import TestDataProvider\n",
    "from nautilus_trader.test_kit.providers import TestInstrumentProvider\n",
    "\n",
    "provider = TestDataProvider()"
   ]
  },
  {
   "cell_type": "code",
   "execution_count": 31,
   "metadata": {},
   "outputs": [
    {
     "name": "stdout",
     "output_type": "stream",
     "text": [
      "Couldn't find test data directory, test data will be pulled from GitHub\n"
     ]
    },
    {
     "ename": "ImportError",
     "evalue": "Install the requests package to use the github FS",
     "output_type": "error",
     "traceback": [
      "\u001b[1;31m---------------------------------------------------------------------------\u001b[0m",
      "\u001b[1;31mModuleNotFoundError\u001b[0m                       Traceback (most recent call last)",
      "File \u001b[1;32mc:\\tools\\miniconda3\\envs\\mt5_prop_firm_nautilus_backtests\\Lib\\site-packages\\fsspec\\registry.py:226\u001b[0m, in \u001b[0;36mget_filesystem_class\u001b[1;34m(protocol)\u001b[0m\n\u001b[0;32m    225\u001b[0m \u001b[39mtry\u001b[39;00m:\n\u001b[1;32m--> 226\u001b[0m     register_implementation(protocol, _import_class(bit[\u001b[39m\"\u001b[39m\u001b[39mclass\u001b[39m\u001b[39m\"\u001b[39m]))\n\u001b[0;32m    227\u001b[0m \u001b[39mexcept\u001b[39;00m \u001b[39mImportError\u001b[39;00m \u001b[39mas\u001b[39;00m e:\n",
      "File \u001b[1;32mc:\\tools\\miniconda3\\envs\\mt5_prop_firm_nautilus_backtests\\Lib\\site-packages\\fsspec\\registry.py:249\u001b[0m, in \u001b[0;36m_import_class\u001b[1;34m(cls, minv)\u001b[0m\n\u001b[0;32m    248\u001b[0m mod, name \u001b[39m=\u001b[39m \u001b[39mcls\u001b[39m\u001b[39m.\u001b[39mrsplit(\u001b[39m\"\u001b[39m\u001b[39m.\u001b[39m\u001b[39m\"\u001b[39m, \u001b[39m1\u001b[39m)\n\u001b[1;32m--> 249\u001b[0m mod \u001b[39m=\u001b[39m importlib\u001b[39m.\u001b[39mimport_module(mod)\n\u001b[0;32m    250\u001b[0m \u001b[39mreturn\u001b[39;00m \u001b[39mgetattr\u001b[39m(mod, name)\n",
      "File \u001b[1;32mc:\\tools\\miniconda3\\envs\\mt5_prop_firm_nautilus_backtests\\Lib\\importlib\\__init__.py:126\u001b[0m, in \u001b[0;36mimport_module\u001b[1;34m(name, package)\u001b[0m\n\u001b[0;32m    125\u001b[0m         level \u001b[39m+\u001b[39m\u001b[39m=\u001b[39m \u001b[39m1\u001b[39m\n\u001b[1;32m--> 126\u001b[0m \u001b[39mreturn\u001b[39;00m _bootstrap\u001b[39m.\u001b[39m_gcd_import(name[level:], package, level)\n",
      "File \u001b[1;32m<frozen importlib._bootstrap>:1204\u001b[0m, in \u001b[0;36m_gcd_import\u001b[1;34m(name, package, level)\u001b[0m\n",
      "File \u001b[1;32m<frozen importlib._bootstrap>:1176\u001b[0m, in \u001b[0;36m_find_and_load\u001b[1;34m(name, import_)\u001b[0m\n",
      "File \u001b[1;32m<frozen importlib._bootstrap>:1147\u001b[0m, in \u001b[0;36m_find_and_load_unlocked\u001b[1;34m(name, import_)\u001b[0m\n",
      "File \u001b[1;32m<frozen importlib._bootstrap>:690\u001b[0m, in \u001b[0;36m_load_unlocked\u001b[1;34m(spec)\u001b[0m\n",
      "File \u001b[1;32m<frozen importlib._bootstrap_external>:940\u001b[0m, in \u001b[0;36mexec_module\u001b[1;34m(self, module)\u001b[0m\n",
      "File \u001b[1;32m<frozen importlib._bootstrap>:241\u001b[0m, in \u001b[0;36m_call_with_frames_removed\u001b[1;34m(f, *args, **kwds)\u001b[0m\n",
      "File \u001b[1;32mc:\\tools\\miniconda3\\envs\\mt5_prop_firm_nautilus_backtests\\Lib\\site-packages\\fsspec\\implementations\\github.py:1\u001b[0m\n\u001b[1;32m----> 1\u001b[0m \u001b[39mimport\u001b[39;00m \u001b[39mrequests\u001b[39;00m\n\u001b[0;32m      3\u001b[0m \u001b[39mfrom\u001b[39;00m \u001b[39m.\u001b[39;00m\u001b[39m.\u001b[39;00m\u001b[39mspec\u001b[39;00m \u001b[39mimport\u001b[39;00m AbstractFileSystem\n",
      "\u001b[1;31mModuleNotFoundError\u001b[0m: No module named 'requests'",
      "\nThe above exception was the direct cause of the following exception:\n",
      "\u001b[1;31mImportError\u001b[0m                               Traceback (most recent call last)",
      "\u001b[1;32mc:\\Users\\k0240\\Documents\\projects\\mt5_prop_firm_nautilus_backtests\\research.ipynb Cell 26\u001b[0m line \u001b[0;36m4\n\u001b[0;32m      <a href='vscode-notebook-cell:/c%3A/Users/k0240/Documents/projects/mt5_prop_firm_nautilus_backtests/research.ipynb#X36sZmlsZQ%3D%3D?line=0'>1</a>\u001b[0m \u001b[39m# Money import\u001b[39;00m\n\u001b[0;32m      <a href='vscode-notebook-cell:/c%3A/Users/k0240/Documents/projects/mt5_prop_firm_nautilus_backtests/research.ipynb#X36sZmlsZQ%3D%3D?line=2'>3</a>\u001b[0m \u001b[39mfrom\u001b[39;00m \u001b[39mnautilus_trader\u001b[39;00m\u001b[39m.\u001b[39;00m\u001b[39mmodel\u001b[39;00m\u001b[39m.\u001b[39;00m\u001b[39mobjects\u001b[39;00m \u001b[39mimport\u001b[39;00m Money\n\u001b[1;32m----> <a href='vscode-notebook-cell:/c%3A/Users/k0240/Documents/projects/mt5_prop_firm_nautilus_backtests/research.ipynb#X36sZmlsZQ%3D%3D?line=3'>4</a>\u001b[0m provider \u001b[39m=\u001b[39m TestDataProvider()\n",
      "File \u001b[1;32mc:\\tools\\miniconda3\\envs\\mt5_prop_firm_nautilus_backtests\\Lib\\site-packages\\nautilus_trader\\test_kit\\providers.py:565\u001b[0m, in \u001b[0;36mTestDataProvider.__init__\u001b[1;34m(self, branch)\u001b[0m\n\u001b[0;32m    563\u001b[0m \u001b[39mself\u001b[39m\u001b[39m.\u001b[39mfs: fsspec\u001b[39m.\u001b[39mAbstractFileSystem \u001b[39m|\u001b[39m \u001b[39mNone\u001b[39;00m \u001b[39m=\u001b[39m \u001b[39mNone\u001b[39;00m\n\u001b[0;32m    564\u001b[0m \u001b[39mself\u001b[39m\u001b[39m.\u001b[39mroot: \u001b[39mstr\u001b[39m \u001b[39m|\u001b[39m \u001b[39mNone\u001b[39;00m \u001b[39m=\u001b[39m \u001b[39mNone\u001b[39;00m\n\u001b[1;32m--> 565\u001b[0m \u001b[39mself\u001b[39m\u001b[39m.\u001b[39m_determine_filesystem()\n\u001b[0;32m    566\u001b[0m \u001b[39mself\u001b[39m\u001b[39m.\u001b[39mbranch \u001b[39m=\u001b[39m branch\n",
      "File \u001b[1;32mc:\\tools\\miniconda3\\envs\\mt5_prop_firm_nautilus_backtests\\Lib\\site-packages\\nautilus_trader\\test_kit\\providers.py:587\u001b[0m, in \u001b[0;36mTestDataProvider._determine_filesystem\u001b[1;34m(self)\u001b[0m\n\u001b[0;32m    585\u001b[0m \u001b[39mprint\u001b[39m(\u001b[39m\"\u001b[39m\u001b[39mCouldn\u001b[39m\u001b[39m'\u001b[39m\u001b[39mt find test data directory, test data will be pulled from GitHub\u001b[39m\u001b[39m\"\u001b[39m)\n\u001b[0;32m    586\u001b[0m \u001b[39mself\u001b[39m\u001b[39m.\u001b[39mroot \u001b[39m=\u001b[39m \u001b[39m\"\u001b[39m\u001b[39mtests/test_data\u001b[39m\u001b[39m\"\u001b[39m\n\u001b[1;32m--> 587\u001b[0m \u001b[39mself\u001b[39m\u001b[39m.\u001b[39mfs \u001b[39m=\u001b[39m fsspec\u001b[39m.\u001b[39mfilesystem(\u001b[39m\"\u001b[39m\u001b[39mgithub\u001b[39m\u001b[39m\"\u001b[39m, org\u001b[39m=\u001b[39m\u001b[39m\"\u001b[39m\u001b[39mnautechsystems\u001b[39m\u001b[39m\"\u001b[39m, repo\u001b[39m=\u001b[39m\u001b[39m\"\u001b[39m\u001b[39mnautilus_trader\u001b[39m\u001b[39m\"\u001b[39m)\n",
      "File \u001b[1;32mc:\\tools\\miniconda3\\envs\\mt5_prop_firm_nautilus_backtests\\Lib\\site-packages\\fsspec\\registry.py:266\u001b[0m, in \u001b[0;36mfilesystem\u001b[1;34m(protocol, **storage_options)\u001b[0m\n\u001b[0;32m    259\u001b[0m \u001b[39mif\u001b[39;00m protocol \u001b[39m==\u001b[39m \u001b[39m\"\u001b[39m\u001b[39marrow_hdfs\u001b[39m\u001b[39m\"\u001b[39m:\n\u001b[0;32m    260\u001b[0m     warnings\u001b[39m.\u001b[39mwarn(\n\u001b[0;32m    261\u001b[0m         \u001b[39m\"\u001b[39m\u001b[39mThe \u001b[39m\u001b[39m'\u001b[39m\u001b[39marrow_hdfs\u001b[39m\u001b[39m'\u001b[39m\u001b[39m protocol has been deprecated and will be \u001b[39m\u001b[39m\"\u001b[39m\n\u001b[0;32m    262\u001b[0m         \u001b[39m\"\u001b[39m\u001b[39mremoved in the future. Specify it as \u001b[39m\u001b[39m'\u001b[39m\u001b[39mhdfs\u001b[39m\u001b[39m'\u001b[39m\u001b[39m.\u001b[39m\u001b[39m\"\u001b[39m,\n\u001b[0;32m    263\u001b[0m         \u001b[39mDeprecationWarning\u001b[39;00m,\n\u001b[0;32m    264\u001b[0m     )\n\u001b[1;32m--> 266\u001b[0m \u001b[39mcls\u001b[39m \u001b[39m=\u001b[39m get_filesystem_class(protocol)\n\u001b[0;32m    267\u001b[0m \u001b[39mreturn\u001b[39;00m \u001b[39mcls\u001b[39m(\u001b[39m*\u001b[39m\u001b[39m*\u001b[39mstorage_options)\n",
      "File \u001b[1;32mc:\\tools\\miniconda3\\envs\\mt5_prop_firm_nautilus_backtests\\Lib\\site-packages\\fsspec\\registry.py:228\u001b[0m, in \u001b[0;36mget_filesystem_class\u001b[1;34m(protocol)\u001b[0m\n\u001b[0;32m    226\u001b[0m         register_implementation(protocol, _import_class(bit[\u001b[39m\"\u001b[39m\u001b[39mclass\u001b[39m\u001b[39m\"\u001b[39m]))\n\u001b[0;32m    227\u001b[0m     \u001b[39mexcept\u001b[39;00m \u001b[39mImportError\u001b[39;00m \u001b[39mas\u001b[39;00m e:\n\u001b[1;32m--> 228\u001b[0m         \u001b[39mraise\u001b[39;00m \u001b[39mImportError\u001b[39;00m(bit[\u001b[39m\"\u001b[39m\u001b[39merr\u001b[39m\u001b[39m\"\u001b[39m]) \u001b[39mfrom\u001b[39;00m \u001b[39me\u001b[39;00m\n\u001b[0;32m    229\u001b[0m \u001b[39mcls\u001b[39m \u001b[39m=\u001b[39m registry[protocol]\n\u001b[0;32m    230\u001b[0m \u001b[39mif\u001b[39;00m \u001b[39mgetattr\u001b[39m(\u001b[39mcls\u001b[39m, \u001b[39m\"\u001b[39m\u001b[39mprotocol\u001b[39m\u001b[39m\"\u001b[39m, \u001b[39mNone\u001b[39;00m) \u001b[39min\u001b[39;00m (\u001b[39m\"\u001b[39m\u001b[39mabstract\u001b[39m\u001b[39m\"\u001b[39m, \u001b[39mNone\u001b[39;00m):\n",
      "\u001b[1;31mImportError\u001b[0m: Install the requests package to use the github FS"
     ]
    }
   ],
   "source": [
    "# Money import\n",
    "\n",
    "from nautilus_trader.model.objects import Money\n",
    "provider = TestDataProvider()"
   ]
  },
  {
   "cell_type": "code",
   "execution_count": 32,
   "metadata": {},
   "outputs": [
    {
     "name": "stdout",
     "output_type": "stream",
     "text": [
      "Couldn't find test data directory, test data will be pulled from GitHub\n"
     ]
    },
    {
     "ename": "ImportError",
     "evalue": "Install the requests package to use the github FS",
     "output_type": "error",
     "traceback": [
      "\u001b[1;31m---------------------------------------------------------------------------\u001b[0m",
      "\u001b[1;31mModuleNotFoundError\u001b[0m                       Traceback (most recent call last)",
      "File \u001b[1;32mc:\\tools\\miniconda3\\envs\\mt5_prop_firm_nautilus_backtests\\Lib\\site-packages\\fsspec\\registry.py:226\u001b[0m, in \u001b[0;36mget_filesystem_class\u001b[1;34m(protocol)\u001b[0m\n\u001b[0;32m    225\u001b[0m \u001b[39mtry\u001b[39;00m:\n\u001b[1;32m--> 226\u001b[0m     register_implementation(protocol, _import_class(bit[\u001b[39m\"\u001b[39m\u001b[39mclass\u001b[39m\u001b[39m\"\u001b[39m]))\n\u001b[0;32m    227\u001b[0m \u001b[39mexcept\u001b[39;00m \u001b[39mImportError\u001b[39;00m \u001b[39mas\u001b[39;00m e:\n",
      "File \u001b[1;32mc:\\tools\\miniconda3\\envs\\mt5_prop_firm_nautilus_backtests\\Lib\\site-packages\\fsspec\\registry.py:249\u001b[0m, in \u001b[0;36m_import_class\u001b[1;34m(cls, minv)\u001b[0m\n\u001b[0;32m    248\u001b[0m mod, name \u001b[39m=\u001b[39m \u001b[39mcls\u001b[39m\u001b[39m.\u001b[39mrsplit(\u001b[39m\"\u001b[39m\u001b[39m.\u001b[39m\u001b[39m\"\u001b[39m, \u001b[39m1\u001b[39m)\n\u001b[1;32m--> 249\u001b[0m mod \u001b[39m=\u001b[39m importlib\u001b[39m.\u001b[39mimport_module(mod)\n\u001b[0;32m    250\u001b[0m \u001b[39mreturn\u001b[39;00m \u001b[39mgetattr\u001b[39m(mod, name)\n",
      "File \u001b[1;32mc:\\tools\\miniconda3\\envs\\mt5_prop_firm_nautilus_backtests\\Lib\\importlib\\__init__.py:126\u001b[0m, in \u001b[0;36mimport_module\u001b[1;34m(name, package)\u001b[0m\n\u001b[0;32m    125\u001b[0m         level \u001b[39m+\u001b[39m\u001b[39m=\u001b[39m \u001b[39m1\u001b[39m\n\u001b[1;32m--> 126\u001b[0m \u001b[39mreturn\u001b[39;00m _bootstrap\u001b[39m.\u001b[39m_gcd_import(name[level:], package, level)\n",
      "File \u001b[1;32m<frozen importlib._bootstrap>:1204\u001b[0m, in \u001b[0;36m_gcd_import\u001b[1;34m(name, package, level)\u001b[0m\n",
      "File \u001b[1;32m<frozen importlib._bootstrap>:1176\u001b[0m, in \u001b[0;36m_find_and_load\u001b[1;34m(name, import_)\u001b[0m\n",
      "File \u001b[1;32m<frozen importlib._bootstrap>:1147\u001b[0m, in \u001b[0;36m_find_and_load_unlocked\u001b[1;34m(name, import_)\u001b[0m\n",
      "File \u001b[1;32m<frozen importlib._bootstrap>:690\u001b[0m, in \u001b[0;36m_load_unlocked\u001b[1;34m(spec)\u001b[0m\n",
      "File \u001b[1;32m<frozen importlib._bootstrap_external>:940\u001b[0m, in \u001b[0;36mexec_module\u001b[1;34m(self, module)\u001b[0m\n",
      "File \u001b[1;32m<frozen importlib._bootstrap>:241\u001b[0m, in \u001b[0;36m_call_with_frames_removed\u001b[1;34m(f, *args, **kwds)\u001b[0m\n",
      "File \u001b[1;32mc:\\tools\\miniconda3\\envs\\mt5_prop_firm_nautilus_backtests\\Lib\\site-packages\\fsspec\\implementations\\github.py:1\u001b[0m\n\u001b[1;32m----> 1\u001b[0m \u001b[39mimport\u001b[39;00m \u001b[39mrequests\u001b[39;00m\n\u001b[0;32m      3\u001b[0m \u001b[39mfrom\u001b[39;00m \u001b[39m.\u001b[39;00m\u001b[39m.\u001b[39;00m\u001b[39mspec\u001b[39;00m \u001b[39mimport\u001b[39;00m AbstractFileSystem\n",
      "\u001b[1;31mModuleNotFoundError\u001b[0m: No module named 'requests'",
      "\nThe above exception was the direct cause of the following exception:\n",
      "\u001b[1;31mImportError\u001b[0m                               Traceback (most recent call last)",
      "\u001b[1;32mc:\\Users\\k0240\\Documents\\projects\\mt5_prop_firm_nautilus_backtests\\research.ipynb Cell 27\u001b[0m line \u001b[0;36m2\n\u001b[0;32m     <a href='vscode-notebook-cell:/c%3A/Users/k0240/Documents/projects/mt5_prop_firm_nautilus_backtests/research.ipynb#X40sZmlsZQ%3D%3D?line=19'>20</a>\u001b[0m \u001b[39mfrom\u001b[39;00m \u001b[39mnautilus_trader\u001b[39;00m\u001b[39m.\u001b[39;00m\u001b[39mtest_kit\u001b[39;00m\u001b[39m.\u001b[39;00m\u001b[39mproviders\u001b[39;00m \u001b[39mimport\u001b[39;00m TestDataProvider\n\u001b[0;32m     <a href='vscode-notebook-cell:/c%3A/Users/k0240/Documents/projects/mt5_prop_firm_nautilus_backtests/research.ipynb#X40sZmlsZQ%3D%3D?line=20'>21</a>\u001b[0m \u001b[39mfrom\u001b[39;00m \u001b[39mnautilus_trader\u001b[39;00m\u001b[39m.\u001b[39;00m\u001b[39mtest_kit\u001b[39;00m\u001b[39m.\u001b[39;00m\u001b[39mproviders\u001b[39;00m \u001b[39mimport\u001b[39;00m TestInstrumentProvider\n\u001b[1;32m---> <a href='vscode-notebook-cell:/c%3A/Users/k0240/Documents/projects/mt5_prop_firm_nautilus_backtests/research.ipynb#X40sZmlsZQ%3D%3D?line=22'>23</a>\u001b[0m provider \u001b[39m=\u001b[39m TestDataProvider()\n",
      "File \u001b[1;32mc:\\tools\\miniconda3\\envs\\mt5_prop_firm_nautilus_backtests\\Lib\\site-packages\\nautilus_trader\\test_kit\\providers.py:565\u001b[0m, in \u001b[0;36mTestDataProvider.__init__\u001b[1;34m(self, branch)\u001b[0m\n\u001b[0;32m    563\u001b[0m \u001b[39mself\u001b[39m\u001b[39m.\u001b[39mfs: fsspec\u001b[39m.\u001b[39mAbstractFileSystem \u001b[39m|\u001b[39m \u001b[39mNone\u001b[39;00m \u001b[39m=\u001b[39m \u001b[39mNone\u001b[39;00m\n\u001b[0;32m    564\u001b[0m \u001b[39mself\u001b[39m\u001b[39m.\u001b[39mroot: \u001b[39mstr\u001b[39m \u001b[39m|\u001b[39m \u001b[39mNone\u001b[39;00m \u001b[39m=\u001b[39m \u001b[39mNone\u001b[39;00m\n\u001b[1;32m--> 565\u001b[0m \u001b[39mself\u001b[39m\u001b[39m.\u001b[39m_determine_filesystem()\n\u001b[0;32m    566\u001b[0m \u001b[39mself\u001b[39m\u001b[39m.\u001b[39mbranch \u001b[39m=\u001b[39m branch\n",
      "File \u001b[1;32mc:\\tools\\miniconda3\\envs\\mt5_prop_firm_nautilus_backtests\\Lib\\site-packages\\nautilus_trader\\test_kit\\providers.py:587\u001b[0m, in \u001b[0;36mTestDataProvider._determine_filesystem\u001b[1;34m(self)\u001b[0m\n\u001b[0;32m    585\u001b[0m \u001b[39mprint\u001b[39m(\u001b[39m\"\u001b[39m\u001b[39mCouldn\u001b[39m\u001b[39m'\u001b[39m\u001b[39mt find test data directory, test data will be pulled from GitHub\u001b[39m\u001b[39m\"\u001b[39m)\n\u001b[0;32m    586\u001b[0m \u001b[39mself\u001b[39m\u001b[39m.\u001b[39mroot \u001b[39m=\u001b[39m \u001b[39m\"\u001b[39m\u001b[39mtests/test_data\u001b[39m\u001b[39m\"\u001b[39m\n\u001b[1;32m--> 587\u001b[0m \u001b[39mself\u001b[39m\u001b[39m.\u001b[39mfs \u001b[39m=\u001b[39m fsspec\u001b[39m.\u001b[39mfilesystem(\u001b[39m\"\u001b[39m\u001b[39mgithub\u001b[39m\u001b[39m\"\u001b[39m, org\u001b[39m=\u001b[39m\u001b[39m\"\u001b[39m\u001b[39mnautechsystems\u001b[39m\u001b[39m\"\u001b[39m, repo\u001b[39m=\u001b[39m\u001b[39m\"\u001b[39m\u001b[39mnautilus_trader\u001b[39m\u001b[39m\"\u001b[39m)\n",
      "File \u001b[1;32mc:\\tools\\miniconda3\\envs\\mt5_prop_firm_nautilus_backtests\\Lib\\site-packages\\fsspec\\registry.py:266\u001b[0m, in \u001b[0;36mfilesystem\u001b[1;34m(protocol, **storage_options)\u001b[0m\n\u001b[0;32m    259\u001b[0m \u001b[39mif\u001b[39;00m protocol \u001b[39m==\u001b[39m \u001b[39m\"\u001b[39m\u001b[39marrow_hdfs\u001b[39m\u001b[39m\"\u001b[39m:\n\u001b[0;32m    260\u001b[0m     warnings\u001b[39m.\u001b[39mwarn(\n\u001b[0;32m    261\u001b[0m         \u001b[39m\"\u001b[39m\u001b[39mThe \u001b[39m\u001b[39m'\u001b[39m\u001b[39marrow_hdfs\u001b[39m\u001b[39m'\u001b[39m\u001b[39m protocol has been deprecated and will be \u001b[39m\u001b[39m\"\u001b[39m\n\u001b[0;32m    262\u001b[0m         \u001b[39m\"\u001b[39m\u001b[39mremoved in the future. Specify it as \u001b[39m\u001b[39m'\u001b[39m\u001b[39mhdfs\u001b[39m\u001b[39m'\u001b[39m\u001b[39m.\u001b[39m\u001b[39m\"\u001b[39m,\n\u001b[0;32m    263\u001b[0m         \u001b[39mDeprecationWarning\u001b[39;00m,\n\u001b[0;32m    264\u001b[0m     )\n\u001b[1;32m--> 266\u001b[0m \u001b[39mcls\u001b[39m \u001b[39m=\u001b[39m get_filesystem_class(protocol)\n\u001b[0;32m    267\u001b[0m \u001b[39mreturn\u001b[39;00m \u001b[39mcls\u001b[39m(\u001b[39m*\u001b[39m\u001b[39m*\u001b[39mstorage_options)\n",
      "File \u001b[1;32mc:\\tools\\miniconda3\\envs\\mt5_prop_firm_nautilus_backtests\\Lib\\site-packages\\fsspec\\registry.py:228\u001b[0m, in \u001b[0;36mget_filesystem_class\u001b[1;34m(protocol)\u001b[0m\n\u001b[0;32m    226\u001b[0m         register_implementation(protocol, _import_class(bit[\u001b[39m\"\u001b[39m\u001b[39mclass\u001b[39m\u001b[39m\"\u001b[39m]))\n\u001b[0;32m    227\u001b[0m     \u001b[39mexcept\u001b[39;00m \u001b[39mImportError\u001b[39;00m \u001b[39mas\u001b[39;00m e:\n\u001b[1;32m--> 228\u001b[0m         \u001b[39mraise\u001b[39;00m \u001b[39mImportError\u001b[39;00m(bit[\u001b[39m\"\u001b[39m\u001b[39merr\u001b[39m\u001b[39m\"\u001b[39m]) \u001b[39mfrom\u001b[39;00m \u001b[39me\u001b[39;00m\n\u001b[0;32m    229\u001b[0m \u001b[39mcls\u001b[39m \u001b[39m=\u001b[39m registry[protocol]\n\u001b[0;32m    230\u001b[0m \u001b[39mif\u001b[39;00m \u001b[39mgetattr\u001b[39m(\u001b[39mcls\u001b[39m, \u001b[39m\"\u001b[39m\u001b[39mprotocol\u001b[39m\u001b[39m\"\u001b[39m, \u001b[39mNone\u001b[39;00m) \u001b[39min\u001b[39;00m (\u001b[39m\"\u001b[39m\u001b[39mabstract\u001b[39m\u001b[39m\"\u001b[39m, \u001b[39mNone\u001b[39;00m):\n",
      "\u001b[1;31mImportError\u001b[0m: Install the requests package to use the github FS"
     ]
    }
   ],
   "source": [
    "# import everything from docs\n",
    "\n",
    "import time\n",
    "from decimal import Decimal\n",
    "\n",
    "import pandas as pd\n",
    "\n",
    "from nautilus_trader.backtest.engine import BacktestEngine\n",
    "from nautilus_trader.backtest.engine import BacktestEngineConfig\n",
    "from nautilus_trader.examples.algorithms.twap import TWAPExecAlgorithm\n",
    "from nautilus_trader.examples.strategies.ema_cross_twap import EMACrossTWAP\n",
    "from nautilus_trader.examples.strategies.ema_cross_twap import EMACrossTWAPConfig\n",
    "from nautilus_trader.model.currencies import ETH\n",
    "from nautilus_trader.model.currencies import USDT\n",
    "from nautilus_trader.model.enums import AccountType\n",
    "from nautilus_trader.model.enums import OmsType\n",
    "from nautilus_trader.model.identifiers import Venue\n",
    "from nautilus_trader.model.objects import Money\n",
    "from nautilus_trader.persistence.wranglers import TradeTickDataWrangler\n",
    "from nautilus_trader.test_kit.providers import TestDataProvider\n",
    "from nautilus_trader.test_kit.providers import TestInstrumentProvider\n",
    "\n",
    "provider = TestDataProvider()"
   ]
  },
  {
   "cell_type": "markdown",
   "metadata": {},
   "source": [
    "reinstall with  `pip install -U nautilus_trader` and try again"
   ]
  },
  {
   "cell_type": "code",
   "execution_count": 1,
   "metadata": {},
   "outputs": [
    {
     "name": "stdout",
     "output_type": "stream",
     "text": [
      "Couldn't find test data directory, test data will be pulled from GitHub\n"
     ]
    },
    {
     "ename": "ImportError",
     "evalue": "Install the requests package to use the github FS",
     "output_type": "error",
     "traceback": [
      "\u001b[1;31m---------------------------------------------------------------------------\u001b[0m",
      "\u001b[1;31mModuleNotFoundError\u001b[0m                       Traceback (most recent call last)",
      "File \u001b[1;32m~\\AppData\\Roaming\\Python\\Python311\\site-packages\\fsspec\\registry.py:226\u001b[0m, in \u001b[0;36mget_filesystem_class\u001b[1;34m(protocol)\u001b[0m\n\u001b[0;32m    225\u001b[0m \u001b[39mtry\u001b[39;00m:\n\u001b[1;32m--> 226\u001b[0m     register_implementation(protocol, _import_class(bit[\u001b[39m\"\u001b[39m\u001b[39mclass\u001b[39m\u001b[39m\"\u001b[39m]))\n\u001b[0;32m    227\u001b[0m \u001b[39mexcept\u001b[39;00m \u001b[39mImportError\u001b[39;00m \u001b[39mas\u001b[39;00m e:\n",
      "File \u001b[1;32m~\\AppData\\Roaming\\Python\\Python311\\site-packages\\fsspec\\registry.py:249\u001b[0m, in \u001b[0;36m_import_class\u001b[1;34m(cls, minv)\u001b[0m\n\u001b[0;32m    248\u001b[0m mod, name \u001b[39m=\u001b[39m \u001b[39mcls\u001b[39m\u001b[39m.\u001b[39mrsplit(\u001b[39m\"\u001b[39m\u001b[39m.\u001b[39m\u001b[39m\"\u001b[39m, \u001b[39m1\u001b[39m)\n\u001b[1;32m--> 249\u001b[0m mod \u001b[39m=\u001b[39m importlib\u001b[39m.\u001b[39mimport_module(mod)\n\u001b[0;32m    250\u001b[0m \u001b[39mreturn\u001b[39;00m \u001b[39mgetattr\u001b[39m(mod, name)\n",
      "File \u001b[1;32mc:\\tools\\miniconda3\\envs\\mt5_prop_firm_nautilus_backtests\\Lib\\importlib\\__init__.py:126\u001b[0m, in \u001b[0;36mimport_module\u001b[1;34m(name, package)\u001b[0m\n\u001b[0;32m    125\u001b[0m         level \u001b[39m+\u001b[39m\u001b[39m=\u001b[39m \u001b[39m1\u001b[39m\n\u001b[1;32m--> 126\u001b[0m \u001b[39mreturn\u001b[39;00m _bootstrap\u001b[39m.\u001b[39m_gcd_import(name[level:], package, level)\n",
      "File \u001b[1;32m<frozen importlib._bootstrap>:1204\u001b[0m, in \u001b[0;36m_gcd_import\u001b[1;34m(name, package, level)\u001b[0m\n",
      "File \u001b[1;32m<frozen importlib._bootstrap>:1176\u001b[0m, in \u001b[0;36m_find_and_load\u001b[1;34m(name, import_)\u001b[0m\n",
      "File \u001b[1;32m<frozen importlib._bootstrap>:1147\u001b[0m, in \u001b[0;36m_find_and_load_unlocked\u001b[1;34m(name, import_)\u001b[0m\n",
      "File \u001b[1;32m<frozen importlib._bootstrap>:690\u001b[0m, in \u001b[0;36m_load_unlocked\u001b[1;34m(spec)\u001b[0m\n",
      "File \u001b[1;32m<frozen importlib._bootstrap_external>:940\u001b[0m, in \u001b[0;36mexec_module\u001b[1;34m(self, module)\u001b[0m\n",
      "File \u001b[1;32m<frozen importlib._bootstrap>:241\u001b[0m, in \u001b[0;36m_call_with_frames_removed\u001b[1;34m(f, *args, **kwds)\u001b[0m\n",
      "File \u001b[1;32m~\\AppData\\Roaming\\Python\\Python311\\site-packages\\fsspec\\implementations\\github.py:1\u001b[0m\n\u001b[1;32m----> 1\u001b[0m \u001b[39mimport\u001b[39;00m \u001b[39mrequests\u001b[39;00m\n\u001b[0;32m      3\u001b[0m \u001b[39mfrom\u001b[39;00m \u001b[39m.\u001b[39;00m\u001b[39m.\u001b[39;00m\u001b[39mspec\u001b[39;00m \u001b[39mimport\u001b[39;00m AbstractFileSystem\n",
      "\u001b[1;31mModuleNotFoundError\u001b[0m: No module named 'requests'",
      "\nThe above exception was the direct cause of the following exception:\n",
      "\u001b[1;31mImportError\u001b[0m                               Traceback (most recent call last)",
      "\u001b[1;32mc:\\Users\\k0240\\Documents\\projects\\mt5_prop_firm_nautilus_backtests\\research.ipynb Cell 29\u001b[0m line \u001b[0;36m2\n\u001b[0;32m     <a href='vscode-notebook-cell:/c%3A/Users/k0240/Documents/projects/mt5_prop_firm_nautilus_backtests/research.ipynb#X42sZmlsZQ%3D%3D?line=21'>22</a>\u001b[0m \u001b[39mfrom\u001b[39;00m \u001b[39mnautilus_trader\u001b[39;00m\u001b[39m.\u001b[39;00m\u001b[39mtest_kit\u001b[39;00m\u001b[39m.\u001b[39;00m\u001b[39mproviders\u001b[39;00m \u001b[39mimport\u001b[39;00m TestDataProvider\n\u001b[0;32m     <a href='vscode-notebook-cell:/c%3A/Users/k0240/Documents/projects/mt5_prop_firm_nautilus_backtests/research.ipynb#X42sZmlsZQ%3D%3D?line=22'>23</a>\u001b[0m \u001b[39mfrom\u001b[39;00m \u001b[39mnautilus_trader\u001b[39;00m\u001b[39m.\u001b[39;00m\u001b[39mtest_kit\u001b[39;00m\u001b[39m.\u001b[39;00m\u001b[39mproviders\u001b[39;00m \u001b[39mimport\u001b[39;00m TestInstrumentProvider\n\u001b[1;32m---> <a href='vscode-notebook-cell:/c%3A/Users/k0240/Documents/projects/mt5_prop_firm_nautilus_backtests/research.ipynb#X42sZmlsZQ%3D%3D?line=24'>25</a>\u001b[0m provider \u001b[39m=\u001b[39m TestDataProvider()\n",
      "File \u001b[1;32m~\\AppData\\Roaming\\Python\\Python311\\site-packages\\nautilus_trader\\test_kit\\providers.py:565\u001b[0m, in \u001b[0;36mTestDataProvider.__init__\u001b[1;34m(self, branch)\u001b[0m\n\u001b[0;32m    563\u001b[0m \u001b[39mself\u001b[39m\u001b[39m.\u001b[39mfs: fsspec\u001b[39m.\u001b[39mAbstractFileSystem \u001b[39m|\u001b[39m \u001b[39mNone\u001b[39;00m \u001b[39m=\u001b[39m \u001b[39mNone\u001b[39;00m\n\u001b[0;32m    564\u001b[0m \u001b[39mself\u001b[39m\u001b[39m.\u001b[39mroot: \u001b[39mstr\u001b[39m \u001b[39m|\u001b[39m \u001b[39mNone\u001b[39;00m \u001b[39m=\u001b[39m \u001b[39mNone\u001b[39;00m\n\u001b[1;32m--> 565\u001b[0m \u001b[39mself\u001b[39m\u001b[39m.\u001b[39m_determine_filesystem()\n\u001b[0;32m    566\u001b[0m \u001b[39mself\u001b[39m\u001b[39m.\u001b[39mbranch \u001b[39m=\u001b[39m branch\n",
      "File \u001b[1;32m~\\AppData\\Roaming\\Python\\Python311\\site-packages\\nautilus_trader\\test_kit\\providers.py:587\u001b[0m, in \u001b[0;36mTestDataProvider._determine_filesystem\u001b[1;34m(self)\u001b[0m\n\u001b[0;32m    585\u001b[0m \u001b[39mprint\u001b[39m(\u001b[39m\"\u001b[39m\u001b[39mCouldn\u001b[39m\u001b[39m'\u001b[39m\u001b[39mt find test data directory, test data will be pulled from GitHub\u001b[39m\u001b[39m\"\u001b[39m)\n\u001b[0;32m    586\u001b[0m \u001b[39mself\u001b[39m\u001b[39m.\u001b[39mroot \u001b[39m=\u001b[39m \u001b[39m\"\u001b[39m\u001b[39mtests/test_data\u001b[39m\u001b[39m\"\u001b[39m\n\u001b[1;32m--> 587\u001b[0m \u001b[39mself\u001b[39m\u001b[39m.\u001b[39mfs \u001b[39m=\u001b[39m fsspec\u001b[39m.\u001b[39mfilesystem(\u001b[39m\"\u001b[39m\u001b[39mgithub\u001b[39m\u001b[39m\"\u001b[39m, org\u001b[39m=\u001b[39m\u001b[39m\"\u001b[39m\u001b[39mnautechsystems\u001b[39m\u001b[39m\"\u001b[39m, repo\u001b[39m=\u001b[39m\u001b[39m\"\u001b[39m\u001b[39mnautilus_trader\u001b[39m\u001b[39m\"\u001b[39m)\n",
      "File \u001b[1;32m~\\AppData\\Roaming\\Python\\Python311\\site-packages\\fsspec\\registry.py:266\u001b[0m, in \u001b[0;36mfilesystem\u001b[1;34m(protocol, **storage_options)\u001b[0m\n\u001b[0;32m    259\u001b[0m \u001b[39mif\u001b[39;00m protocol \u001b[39m==\u001b[39m \u001b[39m\"\u001b[39m\u001b[39marrow_hdfs\u001b[39m\u001b[39m\"\u001b[39m:\n\u001b[0;32m    260\u001b[0m     warnings\u001b[39m.\u001b[39mwarn(\n\u001b[0;32m    261\u001b[0m         \u001b[39m\"\u001b[39m\u001b[39mThe \u001b[39m\u001b[39m'\u001b[39m\u001b[39marrow_hdfs\u001b[39m\u001b[39m'\u001b[39m\u001b[39m protocol has been deprecated and will be \u001b[39m\u001b[39m\"\u001b[39m\n\u001b[0;32m    262\u001b[0m         \u001b[39m\"\u001b[39m\u001b[39mremoved in the future. Specify it as \u001b[39m\u001b[39m'\u001b[39m\u001b[39mhdfs\u001b[39m\u001b[39m'\u001b[39m\u001b[39m.\u001b[39m\u001b[39m\"\u001b[39m,\n\u001b[0;32m    263\u001b[0m         \u001b[39mDeprecationWarning\u001b[39;00m,\n\u001b[0;32m    264\u001b[0m     )\n\u001b[1;32m--> 266\u001b[0m \u001b[39mcls\u001b[39m \u001b[39m=\u001b[39m get_filesystem_class(protocol)\n\u001b[0;32m    267\u001b[0m \u001b[39mreturn\u001b[39;00m \u001b[39mcls\u001b[39m(\u001b[39m*\u001b[39m\u001b[39m*\u001b[39mstorage_options)\n",
      "File \u001b[1;32m~\\AppData\\Roaming\\Python\\Python311\\site-packages\\fsspec\\registry.py:228\u001b[0m, in \u001b[0;36mget_filesystem_class\u001b[1;34m(protocol)\u001b[0m\n\u001b[0;32m    226\u001b[0m         register_implementation(protocol, _import_class(bit[\u001b[39m\"\u001b[39m\u001b[39mclass\u001b[39m\u001b[39m\"\u001b[39m]))\n\u001b[0;32m    227\u001b[0m     \u001b[39mexcept\u001b[39;00m \u001b[39mImportError\u001b[39;00m \u001b[39mas\u001b[39;00m e:\n\u001b[1;32m--> 228\u001b[0m         \u001b[39mraise\u001b[39;00m \u001b[39mImportError\u001b[39;00m(bit[\u001b[39m\"\u001b[39m\u001b[39merr\u001b[39m\u001b[39m\"\u001b[39m]) \u001b[39mfrom\u001b[39;00m \u001b[39me\u001b[39;00m\n\u001b[0;32m    229\u001b[0m \u001b[39mcls\u001b[39m \u001b[39m=\u001b[39m registry[protocol]\n\u001b[0;32m    230\u001b[0m \u001b[39mif\u001b[39;00m \u001b[39mgetattr\u001b[39m(\u001b[39mcls\u001b[39m, \u001b[39m\"\u001b[39m\u001b[39mprotocol\u001b[39m\u001b[39m\"\u001b[39m, \u001b[39mNone\u001b[39;00m) \u001b[39min\u001b[39;00m (\u001b[39m\"\u001b[39m\u001b[39mabstract\u001b[39m\u001b[39m\"\u001b[39m, \u001b[39mNone\u001b[39;00m):\n",
      "\u001b[1;31mImportError\u001b[0m: Install the requests package to use the github FS"
     ]
    }
   ],
   "source": [
    "# doc example again\n",
    "\n",
    "# import everything from docs\n",
    "\n",
    "import time\n",
    "from decimal import Decimal\n",
    "\n",
    "import pandas as pd\n",
    "\n",
    "from nautilus_trader.backtest.engine import BacktestEngine\n",
    "from nautilus_trader.backtest.engine import BacktestEngineConfig\n",
    "from nautilus_trader.examples.algorithms.twap import TWAPExecAlgorithm\n",
    "from nautilus_trader.examples.strategies.ema_cross_twap import EMACrossTWAP\n",
    "from nautilus_trader.examples.strategies.ema_cross_twap import EMACrossTWAPConfig\n",
    "from nautilus_trader.model.currencies import ETH\n",
    "from nautilus_trader.model.currencies import USDT\n",
    "from nautilus_trader.model.enums import AccountType\n",
    "from nautilus_trader.model.enums import OmsType\n",
    "from nautilus_trader.model.identifiers import Venue\n",
    "from nautilus_trader.model.objects import Money\n",
    "from nautilus_trader.persistence.wranglers import TradeTickDataWrangler\n",
    "from nautilus_trader.test_kit.providers import TestDataProvider\n",
    "from nautilus_trader.test_kit.providers import TestInstrumentProvider\n",
    "\n",
    "provider = TestDataProvider()"
   ]
  },
  {
   "cell_type": "markdown",
   "metadata": {},
   "source": [
    "install with `pip install nautilus_trader-1.180.0-cp311-cp311-win_amd64.whl`"
   ]
  },
  {
   "cell_type": "code",
   "execution_count": 2,
   "metadata": {},
   "outputs": [
    {
     "name": "stdout",
     "output_type": "stream",
     "text": [
      "Couldn't find test data directory, test data will be pulled from GitHub\n"
     ]
    },
    {
     "ename": "ImportError",
     "evalue": "Install the requests package to use the github FS",
     "output_type": "error",
     "traceback": [
      "\u001b[1;31m---------------------------------------------------------------------------\u001b[0m",
      "\u001b[1;31mModuleNotFoundError\u001b[0m                       Traceback (most recent call last)",
      "File \u001b[1;32m~\\AppData\\Roaming\\Python\\Python311\\site-packages\\fsspec\\registry.py:226\u001b[0m, in \u001b[0;36mget_filesystem_class\u001b[1;34m(protocol)\u001b[0m\n\u001b[0;32m    225\u001b[0m \u001b[39mtry\u001b[39;00m:\n\u001b[1;32m--> 226\u001b[0m     register_implementation(protocol, _import_class(bit[\u001b[39m\"\u001b[39m\u001b[39mclass\u001b[39m\u001b[39m\"\u001b[39m]))\n\u001b[0;32m    227\u001b[0m \u001b[39mexcept\u001b[39;00m \u001b[39mImportError\u001b[39;00m \u001b[39mas\u001b[39;00m e:\n",
      "File \u001b[1;32m~\\AppData\\Roaming\\Python\\Python311\\site-packages\\fsspec\\registry.py:249\u001b[0m, in \u001b[0;36m_import_class\u001b[1;34m(cls, minv)\u001b[0m\n\u001b[0;32m    248\u001b[0m mod, name \u001b[39m=\u001b[39m \u001b[39mcls\u001b[39m\u001b[39m.\u001b[39mrsplit(\u001b[39m\"\u001b[39m\u001b[39m.\u001b[39m\u001b[39m\"\u001b[39m, \u001b[39m1\u001b[39m)\n\u001b[1;32m--> 249\u001b[0m mod \u001b[39m=\u001b[39m importlib\u001b[39m.\u001b[39mimport_module(mod)\n\u001b[0;32m    250\u001b[0m \u001b[39mreturn\u001b[39;00m \u001b[39mgetattr\u001b[39m(mod, name)\n",
      "File \u001b[1;32mc:\\tools\\miniconda3\\envs\\mt5_prop_firm_nautilus_backtests\\Lib\\importlib\\__init__.py:126\u001b[0m, in \u001b[0;36mimport_module\u001b[1;34m(name, package)\u001b[0m\n\u001b[0;32m    125\u001b[0m         level \u001b[39m+\u001b[39m\u001b[39m=\u001b[39m \u001b[39m1\u001b[39m\n\u001b[1;32m--> 126\u001b[0m \u001b[39mreturn\u001b[39;00m _bootstrap\u001b[39m.\u001b[39m_gcd_import(name[level:], package, level)\n",
      "File \u001b[1;32m<frozen importlib._bootstrap>:1204\u001b[0m, in \u001b[0;36m_gcd_import\u001b[1;34m(name, package, level)\u001b[0m\n",
      "File \u001b[1;32m<frozen importlib._bootstrap>:1176\u001b[0m, in \u001b[0;36m_find_and_load\u001b[1;34m(name, import_)\u001b[0m\n",
      "File \u001b[1;32m<frozen importlib._bootstrap>:1147\u001b[0m, in \u001b[0;36m_find_and_load_unlocked\u001b[1;34m(name, import_)\u001b[0m\n",
      "File \u001b[1;32m<frozen importlib._bootstrap>:690\u001b[0m, in \u001b[0;36m_load_unlocked\u001b[1;34m(spec)\u001b[0m\n",
      "File \u001b[1;32m<frozen importlib._bootstrap_external>:940\u001b[0m, in \u001b[0;36mexec_module\u001b[1;34m(self, module)\u001b[0m\n",
      "File \u001b[1;32m<frozen importlib._bootstrap>:241\u001b[0m, in \u001b[0;36m_call_with_frames_removed\u001b[1;34m(f, *args, **kwds)\u001b[0m\n",
      "File \u001b[1;32m~\\AppData\\Roaming\\Python\\Python311\\site-packages\\fsspec\\implementations\\github.py:1\u001b[0m\n\u001b[1;32m----> 1\u001b[0m \u001b[39mimport\u001b[39;00m \u001b[39mrequests\u001b[39;00m\n\u001b[0;32m      3\u001b[0m \u001b[39mfrom\u001b[39;00m \u001b[39m.\u001b[39;00m\u001b[39m.\u001b[39;00m\u001b[39mspec\u001b[39;00m \u001b[39mimport\u001b[39;00m AbstractFileSystem\n",
      "\u001b[1;31mModuleNotFoundError\u001b[0m: No module named 'requests'",
      "\nThe above exception was the direct cause of the following exception:\n",
      "\u001b[1;31mImportError\u001b[0m                               Traceback (most recent call last)",
      "\u001b[1;32mc:\\Users\\k0240\\Documents\\projects\\mt5_prop_firm_nautilus_backtests\\research.ipynb Cell 31\u001b[0m line \u001b[0;36m2\n\u001b[0;32m     <a href='vscode-notebook-cell:/c%3A/Users/k0240/Documents/projects/mt5_prop_firm_nautilus_backtests/research.ipynb#X43sZmlsZQ%3D%3D?line=21'>22</a>\u001b[0m \u001b[39mfrom\u001b[39;00m \u001b[39mnautilus_trader\u001b[39;00m\u001b[39m.\u001b[39;00m\u001b[39mtest_kit\u001b[39;00m\u001b[39m.\u001b[39;00m\u001b[39mproviders\u001b[39;00m \u001b[39mimport\u001b[39;00m TestDataProvider\n\u001b[0;32m     <a href='vscode-notebook-cell:/c%3A/Users/k0240/Documents/projects/mt5_prop_firm_nautilus_backtests/research.ipynb#X43sZmlsZQ%3D%3D?line=22'>23</a>\u001b[0m \u001b[39mfrom\u001b[39;00m \u001b[39mnautilus_trader\u001b[39;00m\u001b[39m.\u001b[39;00m\u001b[39mtest_kit\u001b[39;00m\u001b[39m.\u001b[39;00m\u001b[39mproviders\u001b[39;00m \u001b[39mimport\u001b[39;00m TestInstrumentProvider\n\u001b[1;32m---> <a href='vscode-notebook-cell:/c%3A/Users/k0240/Documents/projects/mt5_prop_firm_nautilus_backtests/research.ipynb#X43sZmlsZQ%3D%3D?line=24'>25</a>\u001b[0m provider \u001b[39m=\u001b[39m TestDataProvider()\n",
      "File \u001b[1;32m~\\AppData\\Roaming\\Python\\Python311\\site-packages\\nautilus_trader\\test_kit\\providers.py:565\u001b[0m, in \u001b[0;36mTestDataProvider.__init__\u001b[1;34m(self, branch)\u001b[0m\n\u001b[0;32m    563\u001b[0m \u001b[39mself\u001b[39m\u001b[39m.\u001b[39mfs: fsspec\u001b[39m.\u001b[39mAbstractFileSystem \u001b[39m|\u001b[39m \u001b[39mNone\u001b[39;00m \u001b[39m=\u001b[39m \u001b[39mNone\u001b[39;00m\n\u001b[0;32m    564\u001b[0m \u001b[39mself\u001b[39m\u001b[39m.\u001b[39mroot: \u001b[39mstr\u001b[39m \u001b[39m|\u001b[39m \u001b[39mNone\u001b[39;00m \u001b[39m=\u001b[39m \u001b[39mNone\u001b[39;00m\n\u001b[1;32m--> 565\u001b[0m \u001b[39mself\u001b[39m\u001b[39m.\u001b[39m_determine_filesystem()\n\u001b[0;32m    566\u001b[0m \u001b[39mself\u001b[39m\u001b[39m.\u001b[39mbranch \u001b[39m=\u001b[39m branch\n",
      "File \u001b[1;32m~\\AppData\\Roaming\\Python\\Python311\\site-packages\\nautilus_trader\\test_kit\\providers.py:587\u001b[0m, in \u001b[0;36mTestDataProvider._determine_filesystem\u001b[1;34m(self)\u001b[0m\n\u001b[0;32m    585\u001b[0m \u001b[39mprint\u001b[39m(\u001b[39m\"\u001b[39m\u001b[39mCouldn\u001b[39m\u001b[39m'\u001b[39m\u001b[39mt find test data directory, test data will be pulled from GitHub\u001b[39m\u001b[39m\"\u001b[39m)\n\u001b[0;32m    586\u001b[0m \u001b[39mself\u001b[39m\u001b[39m.\u001b[39mroot \u001b[39m=\u001b[39m \u001b[39m\"\u001b[39m\u001b[39mtests/test_data\u001b[39m\u001b[39m\"\u001b[39m\n\u001b[1;32m--> 587\u001b[0m \u001b[39mself\u001b[39m\u001b[39m.\u001b[39mfs \u001b[39m=\u001b[39m fsspec\u001b[39m.\u001b[39mfilesystem(\u001b[39m\"\u001b[39m\u001b[39mgithub\u001b[39m\u001b[39m\"\u001b[39m, org\u001b[39m=\u001b[39m\u001b[39m\"\u001b[39m\u001b[39mnautechsystems\u001b[39m\u001b[39m\"\u001b[39m, repo\u001b[39m=\u001b[39m\u001b[39m\"\u001b[39m\u001b[39mnautilus_trader\u001b[39m\u001b[39m\"\u001b[39m)\n",
      "File \u001b[1;32m~\\AppData\\Roaming\\Python\\Python311\\site-packages\\fsspec\\registry.py:266\u001b[0m, in \u001b[0;36mfilesystem\u001b[1;34m(protocol, **storage_options)\u001b[0m\n\u001b[0;32m    259\u001b[0m \u001b[39mif\u001b[39;00m protocol \u001b[39m==\u001b[39m \u001b[39m\"\u001b[39m\u001b[39marrow_hdfs\u001b[39m\u001b[39m\"\u001b[39m:\n\u001b[0;32m    260\u001b[0m     warnings\u001b[39m.\u001b[39mwarn(\n\u001b[0;32m    261\u001b[0m         \u001b[39m\"\u001b[39m\u001b[39mThe \u001b[39m\u001b[39m'\u001b[39m\u001b[39marrow_hdfs\u001b[39m\u001b[39m'\u001b[39m\u001b[39m protocol has been deprecated and will be \u001b[39m\u001b[39m\"\u001b[39m\n\u001b[0;32m    262\u001b[0m         \u001b[39m\"\u001b[39m\u001b[39mremoved in the future. Specify it as \u001b[39m\u001b[39m'\u001b[39m\u001b[39mhdfs\u001b[39m\u001b[39m'\u001b[39m\u001b[39m.\u001b[39m\u001b[39m\"\u001b[39m,\n\u001b[0;32m    263\u001b[0m         \u001b[39mDeprecationWarning\u001b[39;00m,\n\u001b[0;32m    264\u001b[0m     )\n\u001b[1;32m--> 266\u001b[0m \u001b[39mcls\u001b[39m \u001b[39m=\u001b[39m get_filesystem_class(protocol)\n\u001b[0;32m    267\u001b[0m \u001b[39mreturn\u001b[39;00m \u001b[39mcls\u001b[39m(\u001b[39m*\u001b[39m\u001b[39m*\u001b[39mstorage_options)\n",
      "File \u001b[1;32m~\\AppData\\Roaming\\Python\\Python311\\site-packages\\fsspec\\registry.py:228\u001b[0m, in \u001b[0;36mget_filesystem_class\u001b[1;34m(protocol)\u001b[0m\n\u001b[0;32m    226\u001b[0m         register_implementation(protocol, _import_class(bit[\u001b[39m\"\u001b[39m\u001b[39mclass\u001b[39m\u001b[39m\"\u001b[39m]))\n\u001b[0;32m    227\u001b[0m     \u001b[39mexcept\u001b[39;00m \u001b[39mImportError\u001b[39;00m \u001b[39mas\u001b[39;00m e:\n\u001b[1;32m--> 228\u001b[0m         \u001b[39mraise\u001b[39;00m \u001b[39mImportError\u001b[39;00m(bit[\u001b[39m\"\u001b[39m\u001b[39merr\u001b[39m\u001b[39m\"\u001b[39m]) \u001b[39mfrom\u001b[39;00m \u001b[39me\u001b[39;00m\n\u001b[0;32m    229\u001b[0m \u001b[39mcls\u001b[39m \u001b[39m=\u001b[39m registry[protocol]\n\u001b[0;32m    230\u001b[0m \u001b[39mif\u001b[39;00m \u001b[39mgetattr\u001b[39m(\u001b[39mcls\u001b[39m, \u001b[39m\"\u001b[39m\u001b[39mprotocol\u001b[39m\u001b[39m\"\u001b[39m, \u001b[39mNone\u001b[39;00m) \u001b[39min\u001b[39;00m (\u001b[39m\"\u001b[39m\u001b[39mabstract\u001b[39m\u001b[39m\"\u001b[39m, \u001b[39mNone\u001b[39;00m):\n",
      "\u001b[1;31mImportError\u001b[0m: Install the requests package to use the github FS"
     ]
    }
   ],
   "source": [
    "# doc example again\n",
    "\n",
    "# import everything from docs\n",
    "\n",
    "import time\n",
    "from decimal import Decimal\n",
    "\n",
    "import pandas as pd\n",
    "\n",
    "from nautilus_trader.backtest.engine import BacktestEngine\n",
    "from nautilus_trader.backtest.engine import BacktestEngineConfig\n",
    "from nautilus_trader.examples.algorithms.twap import TWAPExecAlgorithm\n",
    "from nautilus_trader.examples.strategies.ema_cross_twap import EMACrossTWAP\n",
    "from nautilus_trader.examples.strategies.ema_cross_twap import EMACrossTWAPConfig\n",
    "from nautilus_trader.model.currencies import ETH\n",
    "from nautilus_trader.model.currencies import USDT\n",
    "from nautilus_trader.model.enums import AccountType\n",
    "from nautilus_trader.model.enums import OmsType\n",
    "from nautilus_trader.model.identifiers import Venue\n",
    "from nautilus_trader.model.objects import Money\n",
    "from nautilus_trader.persistence.wranglers import TradeTickDataWrangler\n",
    "from nautilus_trader.test_kit.providers import TestDataProvider\n",
    "from nautilus_trader.test_kit.providers import TestInstrumentProvider\n",
    "\n",
    "provider = TestDataProvider()"
   ]
  }
 ],
 "metadata": {
  "kernelspec": {
   "display_name": "mt5_prop_firm_nautilus_backtests",
   "language": "python",
   "name": "python3"
  },
  "language_info": {
   "codemirror_mode": {
    "name": "ipython",
    "version": 3
   },
   "file_extension": ".py",
   "mimetype": "text/x-python",
   "name": "python",
   "nbconvert_exporter": "python",
   "pygments_lexer": "ipython3",
   "version": "3.11.5"
  }
 },
 "nbformat": 4,
 "nbformat_minor": 2
}
