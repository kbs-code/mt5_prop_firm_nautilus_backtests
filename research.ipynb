{
 "cells": [
  {
   "cell_type": "code",
   "execution_count": 1,
   "metadata": {},
   "outputs": [],
   "source": [
    "import os\n",
    "import pandas as pd\n",
    "from nautilus_trader.persistence.wranglers import BarDataWrangler\n",
    "from nautilus_trader.persistence.loaders import CSVBarDataLoader\n",
    "from nautilus_trader.test_kit.providers import TestDataProvider\n",
    "from nautilus_trader.test_kit.providers import TestInstrumentProvider\n",
    "from nautilus_trader.model.data import BarType"
   ]
  },
  {
   "cell_type": "code",
   "execution_count": 28,
   "metadata": {},
   "outputs": [
    {
     "ename": "ValueError",
     "evalue": "Error parsing `BarType` from 'EUR/USD.FX_OHLCV_DAILY', invalid token: '' at position 0",
     "output_type": "error",
     "traceback": [
      "\u001b[1;31m---------------------------------------------------------------------------\u001b[0m",
      "\u001b[1;31mValueError\u001b[0m                                Traceback (most recent call last)",
      "\u001b[1;32mc:\\Users\\k0240\\Documents\\projects\\mt5_prop_firm_nautilus_backtests\\research.ipynb Cell 2\u001b[0m line \u001b[0;36m3\n\u001b[0;32m      <a href='vscode-notebook-cell:/c%3A/Users/k0240/Documents/projects/mt5_prop_firm_nautilus_backtests/research.ipynb#W2sZmlsZQ%3D%3D?line=0'>1</a>\u001b[0m \u001b[39m# try 1\u001b[39;00m\n\u001b[0;32m      <a href='vscode-notebook-cell:/c%3A/Users/k0240/Documents/projects/mt5_prop_firm_nautilus_backtests/research.ipynb#W2sZmlsZQ%3D%3D?line=1'>2</a>\u001b[0m wrangler \u001b[39m=\u001b[39m BarDataWrangler(\n\u001b[1;32m----> <a href='vscode-notebook-cell:/c%3A/Users/k0240/Documents/projects/mt5_prop_firm_nautilus_backtests/research.ipynb#W2sZmlsZQ%3D%3D?line=2'>3</a>\u001b[0m   bar_type\u001b[39m=\u001b[39mBarType\u001b[39m.\u001b[39mfrom_str(\u001b[39m\"\u001b[39m\u001b[39mEUR/USD.FX_OHLCV_DAILY\u001b[39m\u001b[39m\"\u001b[39m),\n\u001b[0;32m      <a href='vscode-notebook-cell:/c%3A/Users/k0240/Documents/projects/mt5_prop_firm_nautilus_backtests/research.ipynb#W2sZmlsZQ%3D%3D?line=3'>4</a>\u001b[0m   instrument\u001b[39m=\u001b[39m\u001b[39m\"\u001b[39m\u001b[39mEURUSD\u001b[39m\u001b[39m\"\u001b[39m)\n\u001b[0;32m      <a href='vscode-notebook-cell:/c%3A/Users/k0240/Documents/projects/mt5_prop_firm_nautilus_backtests/research.ipynb#W2sZmlsZQ%3D%3D?line=4'>5</a>\u001b[0m df \u001b[39m=\u001b[39m CSVBarDataLoader\u001b[39m.\u001b[39mload(data_path)\n\u001b[0;32m      <a href='vscode-notebook-cell:/c%3A/Users/k0240/Documents/projects/mt5_prop_firm_nautilus_backtests/research.ipynb#W2sZmlsZQ%3D%3D?line=5'>6</a>\u001b[0m bars \u001b[39m=\u001b[39m wrangler\u001b[39m.\u001b[39mprocess_bar_data(df)\n",
      "File \u001b[1;32mc:\\tools\\miniconda3\\envs\\mt5_prop_firm_nautilus_backtests\\Lib\\site-packages\\nautilus_trader\\model\\data\\bar.pyx:612\u001b[0m, in \u001b[0;36mnautilus_trader.model.data.bar.BarType.from_str\u001b[1;34m()\u001b[0m\n",
      "File \u001b[1;32mc:\\tools\\miniconda3\\envs\\mt5_prop_firm_nautilus_backtests\\Lib\\site-packages\\nautilus_trader\\model\\data\\bar.pyx:550\u001b[0m, in \u001b[0;36mnautilus_trader.model.data.bar.BarType.from_str_c\u001b[1;34m()\u001b[0m\n",
      "\u001b[1;31mValueError\u001b[0m: Error parsing `BarType` from 'EUR/USD.FX_OHLCV_DAILY', invalid token: '' at position 0"
     ]
    }
   ],
   "source": [
    "# try 1\n",
    "wrangler = BarDataWrangler(\n",
    "  bar_type=BarType.from_str(\"EUR/USD.FX_OHLCV_DAILY\"),\n",
    "  instrument=\"EURUSD\")\n",
    "df = CSVBarDataLoader.load(data_path)\n",
    "bars = wrangler.process_bar_data(df)"
   ]
  },
  {
   "cell_type": "code",
   "execution_count": 29,
   "metadata": {},
   "outputs": [
    {
     "name": "stdout",
     "output_type": "stream",
     "text": [
      "Couldn't find test data directory, test data will be pulled from GitHub\n"
     ]
    },
    {
     "ename": "ImportError",
     "evalue": "Install the requests package to use the github FS",
     "output_type": "error",
     "traceback": [
      "\u001b[1;31m---------------------------------------------------------------------------\u001b[0m",
      "\u001b[1;31mModuleNotFoundError\u001b[0m                       Traceback (most recent call last)",
      "File \u001b[1;32mc:\\tools\\miniconda3\\envs\\mt5_prop_firm_nautilus_backtests\\Lib\\site-packages\\fsspec\\registry.py:226\u001b[0m, in \u001b[0;36mget_filesystem_class\u001b[1;34m(protocol)\u001b[0m\n\u001b[0;32m    225\u001b[0m \u001b[39mtry\u001b[39;00m:\n\u001b[1;32m--> 226\u001b[0m     register_implementation(protocol, _import_class(bit[\u001b[39m\"\u001b[39m\u001b[39mclass\u001b[39m\u001b[39m\"\u001b[39m]))\n\u001b[0;32m    227\u001b[0m \u001b[39mexcept\u001b[39;00m \u001b[39mImportError\u001b[39;00m \u001b[39mas\u001b[39;00m e:\n",
      "File \u001b[1;32mc:\\tools\\miniconda3\\envs\\mt5_prop_firm_nautilus_backtests\\Lib\\site-packages\\fsspec\\registry.py:249\u001b[0m, in \u001b[0;36m_import_class\u001b[1;34m(cls, minv)\u001b[0m\n\u001b[0;32m    248\u001b[0m mod, name \u001b[39m=\u001b[39m \u001b[39mcls\u001b[39m\u001b[39m.\u001b[39mrsplit(\u001b[39m\"\u001b[39m\u001b[39m.\u001b[39m\u001b[39m\"\u001b[39m, \u001b[39m1\u001b[39m)\n\u001b[1;32m--> 249\u001b[0m mod \u001b[39m=\u001b[39m importlib\u001b[39m.\u001b[39mimport_module(mod)\n\u001b[0;32m    250\u001b[0m \u001b[39mreturn\u001b[39;00m \u001b[39mgetattr\u001b[39m(mod, name)\n",
      "File \u001b[1;32mc:\\tools\\miniconda3\\envs\\mt5_prop_firm_nautilus_backtests\\Lib\\importlib\\__init__.py:126\u001b[0m, in \u001b[0;36mimport_module\u001b[1;34m(name, package)\u001b[0m\n\u001b[0;32m    125\u001b[0m         level \u001b[39m+\u001b[39m\u001b[39m=\u001b[39m \u001b[39m1\u001b[39m\n\u001b[1;32m--> 126\u001b[0m \u001b[39mreturn\u001b[39;00m _bootstrap\u001b[39m.\u001b[39m_gcd_import(name[level:], package, level)\n",
      "File \u001b[1;32m<frozen importlib._bootstrap>:1204\u001b[0m, in \u001b[0;36m_gcd_import\u001b[1;34m(name, package, level)\u001b[0m\n",
      "File \u001b[1;32m<frozen importlib._bootstrap>:1176\u001b[0m, in \u001b[0;36m_find_and_load\u001b[1;34m(name, import_)\u001b[0m\n",
      "File \u001b[1;32m<frozen importlib._bootstrap>:1147\u001b[0m, in \u001b[0;36m_find_and_load_unlocked\u001b[1;34m(name, import_)\u001b[0m\n",
      "File \u001b[1;32m<frozen importlib._bootstrap>:690\u001b[0m, in \u001b[0;36m_load_unlocked\u001b[1;34m(spec)\u001b[0m\n",
      "File \u001b[1;32m<frozen importlib._bootstrap_external>:940\u001b[0m, in \u001b[0;36mexec_module\u001b[1;34m(self, module)\u001b[0m\n",
      "File \u001b[1;32m<frozen importlib._bootstrap>:241\u001b[0m, in \u001b[0;36m_call_with_frames_removed\u001b[1;34m(f, *args, **kwds)\u001b[0m\n",
      "File \u001b[1;32mc:\\tools\\miniconda3\\envs\\mt5_prop_firm_nautilus_backtests\\Lib\\site-packages\\fsspec\\implementations\\github.py:1\u001b[0m\n\u001b[1;32m----> 1\u001b[0m \u001b[39mimport\u001b[39;00m \u001b[39mrequests\u001b[39;00m\n\u001b[0;32m      3\u001b[0m \u001b[39mfrom\u001b[39;00m \u001b[39m.\u001b[39;00m\u001b[39m.\u001b[39;00m\u001b[39mspec\u001b[39;00m \u001b[39mimport\u001b[39;00m AbstractFileSystem\n",
      "\u001b[1;31mModuleNotFoundError\u001b[0m: No module named 'requests'",
      "\nThe above exception was the direct cause of the following exception:\n",
      "\u001b[1;31mImportError\u001b[0m                               Traceback (most recent call last)",
      "\u001b[1;32mc:\\Users\\k0240\\Documents\\projects\\mt5_prop_firm_nautilus_backtests\\research.ipynb Cell 3\u001b[0m line \u001b[0;36m2\n\u001b[0;32m      <a href='vscode-notebook-cell:/c%3A/Users/k0240/Documents/projects/mt5_prop_firm_nautilus_backtests/research.ipynb#W3sZmlsZQ%3D%3D?line=0'>1</a>\u001b[0m \u001b[39m# try 2 \u001b[39;00m\n\u001b[1;32m----> <a href='vscode-notebook-cell:/c%3A/Users/k0240/Documents/projects/mt5_prop_firm_nautilus_backtests/research.ipynb#W3sZmlsZQ%3D%3D?line=1'>2</a>\u001b[0m provider \u001b[39m=\u001b[39m TestDataProvider()\n\u001b[0;32m      <a href='vscode-notebook-cell:/c%3A/Users/k0240/Documents/projects/mt5_prop_firm_nautilus_backtests/research.ipynb#W3sZmlsZQ%3D%3D?line=2'>3</a>\u001b[0m data_path \u001b[39m=\u001b[39m \u001b[39m\"\u001b[39m\u001b[39m./data/EURUSD.csv\u001b[39m\u001b[39m\"\u001b[39m\n\u001b[0;32m      <a href='vscode-notebook-cell:/c%3A/Users/k0240/Documents/projects/mt5_prop_firm_nautilus_backtests/research.ipynb#W3sZmlsZQ%3D%3D?line=3'>4</a>\u001b[0m bars \u001b[39m=\u001b[39m provider\u001b[39m.\u001b[39mread_csv(data_path)\n",
      "File \u001b[1;32mc:\\tools\\miniconda3\\envs\\mt5_prop_firm_nautilus_backtests\\Lib\\site-packages\\nautilus_trader\\test_kit\\providers.py:565\u001b[0m, in \u001b[0;36mTestDataProvider.__init__\u001b[1;34m(self, branch)\u001b[0m\n\u001b[0;32m    563\u001b[0m \u001b[39mself\u001b[39m\u001b[39m.\u001b[39mfs: fsspec\u001b[39m.\u001b[39mAbstractFileSystem \u001b[39m|\u001b[39m \u001b[39mNone\u001b[39;00m \u001b[39m=\u001b[39m \u001b[39mNone\u001b[39;00m\n\u001b[0;32m    564\u001b[0m \u001b[39mself\u001b[39m\u001b[39m.\u001b[39mroot: \u001b[39mstr\u001b[39m \u001b[39m|\u001b[39m \u001b[39mNone\u001b[39;00m \u001b[39m=\u001b[39m \u001b[39mNone\u001b[39;00m\n\u001b[1;32m--> 565\u001b[0m \u001b[39mself\u001b[39m\u001b[39m.\u001b[39m_determine_filesystem()\n\u001b[0;32m    566\u001b[0m \u001b[39mself\u001b[39m\u001b[39m.\u001b[39mbranch \u001b[39m=\u001b[39m branch\n",
      "File \u001b[1;32mc:\\tools\\miniconda3\\envs\\mt5_prop_firm_nautilus_backtests\\Lib\\site-packages\\nautilus_trader\\test_kit\\providers.py:587\u001b[0m, in \u001b[0;36mTestDataProvider._determine_filesystem\u001b[1;34m(self)\u001b[0m\n\u001b[0;32m    585\u001b[0m \u001b[39mprint\u001b[39m(\u001b[39m\"\u001b[39m\u001b[39mCouldn\u001b[39m\u001b[39m'\u001b[39m\u001b[39mt find test data directory, test data will be pulled from GitHub\u001b[39m\u001b[39m\"\u001b[39m)\n\u001b[0;32m    586\u001b[0m \u001b[39mself\u001b[39m\u001b[39m.\u001b[39mroot \u001b[39m=\u001b[39m \u001b[39m\"\u001b[39m\u001b[39mtests/test_data\u001b[39m\u001b[39m\"\u001b[39m\n\u001b[1;32m--> 587\u001b[0m \u001b[39mself\u001b[39m\u001b[39m.\u001b[39mfs \u001b[39m=\u001b[39m fsspec\u001b[39m.\u001b[39mfilesystem(\u001b[39m\"\u001b[39m\u001b[39mgithub\u001b[39m\u001b[39m\"\u001b[39m, org\u001b[39m=\u001b[39m\u001b[39m\"\u001b[39m\u001b[39mnautechsystems\u001b[39m\u001b[39m\"\u001b[39m, repo\u001b[39m=\u001b[39m\u001b[39m\"\u001b[39m\u001b[39mnautilus_trader\u001b[39m\u001b[39m\"\u001b[39m)\n",
      "File \u001b[1;32mc:\\tools\\miniconda3\\envs\\mt5_prop_firm_nautilus_backtests\\Lib\\site-packages\\fsspec\\registry.py:266\u001b[0m, in \u001b[0;36mfilesystem\u001b[1;34m(protocol, **storage_options)\u001b[0m\n\u001b[0;32m    259\u001b[0m \u001b[39mif\u001b[39;00m protocol \u001b[39m==\u001b[39m \u001b[39m\"\u001b[39m\u001b[39marrow_hdfs\u001b[39m\u001b[39m\"\u001b[39m:\n\u001b[0;32m    260\u001b[0m     warnings\u001b[39m.\u001b[39mwarn(\n\u001b[0;32m    261\u001b[0m         \u001b[39m\"\u001b[39m\u001b[39mThe \u001b[39m\u001b[39m'\u001b[39m\u001b[39marrow_hdfs\u001b[39m\u001b[39m'\u001b[39m\u001b[39m protocol has been deprecated and will be \u001b[39m\u001b[39m\"\u001b[39m\n\u001b[0;32m    262\u001b[0m         \u001b[39m\"\u001b[39m\u001b[39mremoved in the future. Specify it as \u001b[39m\u001b[39m'\u001b[39m\u001b[39mhdfs\u001b[39m\u001b[39m'\u001b[39m\u001b[39m.\u001b[39m\u001b[39m\"\u001b[39m,\n\u001b[0;32m    263\u001b[0m         \u001b[39mDeprecationWarning\u001b[39;00m,\n\u001b[0;32m    264\u001b[0m     )\n\u001b[1;32m--> 266\u001b[0m \u001b[39mcls\u001b[39m \u001b[39m=\u001b[39m get_filesystem_class(protocol)\n\u001b[0;32m    267\u001b[0m \u001b[39mreturn\u001b[39;00m \u001b[39mcls\u001b[39m(\u001b[39m*\u001b[39m\u001b[39m*\u001b[39mstorage_options)\n",
      "File \u001b[1;32mc:\\tools\\miniconda3\\envs\\mt5_prop_firm_nautilus_backtests\\Lib\\site-packages\\fsspec\\registry.py:228\u001b[0m, in \u001b[0;36mget_filesystem_class\u001b[1;34m(protocol)\u001b[0m\n\u001b[0;32m    226\u001b[0m         register_implementation(protocol, _import_class(bit[\u001b[39m\"\u001b[39m\u001b[39mclass\u001b[39m\u001b[39m\"\u001b[39m]))\n\u001b[0;32m    227\u001b[0m     \u001b[39mexcept\u001b[39;00m \u001b[39mImportError\u001b[39;00m \u001b[39mas\u001b[39;00m e:\n\u001b[1;32m--> 228\u001b[0m         \u001b[39mraise\u001b[39;00m \u001b[39mImportError\u001b[39;00m(bit[\u001b[39m\"\u001b[39m\u001b[39merr\u001b[39m\u001b[39m\"\u001b[39m]) \u001b[39mfrom\u001b[39;00m \u001b[39me\u001b[39;00m\n\u001b[0;32m    229\u001b[0m \u001b[39mcls\u001b[39m \u001b[39m=\u001b[39m registry[protocol]\n\u001b[0;32m    230\u001b[0m \u001b[39mif\u001b[39;00m \u001b[39mgetattr\u001b[39m(\u001b[39mcls\u001b[39m, \u001b[39m\"\u001b[39m\u001b[39mprotocol\u001b[39m\u001b[39m\"\u001b[39m, \u001b[39mNone\u001b[39;00m) \u001b[39min\u001b[39;00m (\u001b[39m\"\u001b[39m\u001b[39mabstract\u001b[39m\u001b[39m\"\u001b[39m, \u001b[39mNone\u001b[39;00m):\n",
      "\u001b[1;31mImportError\u001b[0m: Install the requests package to use the github FS"
     ]
    }
   ],
   "source": [
    "# try 2 \n",
    "provider = TestDataProvider()\n",
    "data_path = \"./data/EURUSD.csv\"\n",
    "bars = provider.read_csv(data_path)"
   ]
  },
  {
   "cell_type": "code",
   "execution_count": 30,
   "metadata": {},
   "outputs": [
    {
     "ename": "TypeError",
     "evalue": "__init__() takes exactly 2 positional arguments (1 given)",
     "output_type": "error",
     "traceback": [
      "\u001b[1;31m---------------------------------------------------------------------------\u001b[0m",
      "\u001b[1;31mTypeError\u001b[0m                                 Traceback (most recent call last)",
      "\u001b[1;32mc:\\Users\\k0240\\Documents\\projects\\mt5_prop_firm_nautilus_backtests\\research.ipynb Cell 4\u001b[0m line \u001b[0;36m5\n\u001b[0;32m      <a href='vscode-notebook-cell:/c%3A/Users/k0240/Documents/projects/mt5_prop_firm_nautilus_backtests/research.ipynb#W4sZmlsZQ%3D%3D?line=2'>3</a>\u001b[0m df \u001b[39m=\u001b[39m pd\u001b[39m.\u001b[39mread_csv(data_path)\n\u001b[0;32m      <a href='vscode-notebook-cell:/c%3A/Users/k0240/Documents/projects/mt5_prop_firm_nautilus_backtests/research.ipynb#W4sZmlsZQ%3D%3D?line=3'>4</a>\u001b[0m EURUSD \u001b[39m=\u001b[39m TestInstrumentProvider\u001b[39m.\u001b[39mdefault_fx_ccy(\u001b[39m\"\u001b[39m\u001b[39mEUR/USD\u001b[39m\u001b[39m\"\u001b[39m)\n\u001b[1;32m----> <a href='vscode-notebook-cell:/c%3A/Users/k0240/Documents/projects/mt5_prop_firm_nautilus_backtests/research.ipynb#W4sZmlsZQ%3D%3D?line=4'>5</a>\u001b[0m wrangler \u001b[39m=\u001b[39m BarDataWrangler(EURUSD)\n\u001b[0;32m      <a href='vscode-notebook-cell:/c%3A/Users/k0240/Documents/projects/mt5_prop_firm_nautilus_backtests/research.ipynb#W4sZmlsZQ%3D%3D?line=5'>6</a>\u001b[0m bars \u001b[39m=\u001b[39m wrangler\u001b[39m.\u001b[39mprocess_bar_data(df)\n",
      "File \u001b[1;32mc:\\tools\\miniconda3\\envs\\mt5_prop_firm_nautilus_backtests\\Lib\\site-packages\\nautilus_trader\\persistence\\wranglers.pyx:555\u001b[0m, in \u001b[0;36mnautilus_trader.persistence.wranglers.BarDataWrangler.__init__\u001b[1;34m()\u001b[0m\n",
      "\u001b[1;31mTypeError\u001b[0m: __init__() takes exactly 2 positional arguments (1 given)"
     ]
    }
   ],
   "source": [
    "# try 3\n",
    "data_path = \"./data/EURUSD.csv\"\n",
    "df = pd.read_csv(data_path)\n",
    "EURUSD = TestInstrumentProvider.default_fx_ccy(\"EUR/USD\")\n",
    "wrangler = BarDataWrangler(EURUSD)\n",
    "bars = wrangler.process_bar_data(df)"
   ]
  },
  {
   "cell_type": "code",
   "execution_count": 39,
   "metadata": {},
   "outputs": [
    {
     "ename": "ValueError",
     "evalue": "Error parsing `BarType` from 'EUR/USD.FX_OHLCV_DAILY', invalid token: '' at position 0",
     "output_type": "error",
     "traceback": [
      "\u001b[1;31m---------------------------------------------------------------------------\u001b[0m",
      "\u001b[1;31mValueError\u001b[0m                                Traceback (most recent call last)",
      "\u001b[1;32mc:\\Users\\k0240\\Documents\\projects\\mt5_prop_firm_nautilus_backtests\\research.ipynb Cell 5\u001b[0m line \u001b[0;36m1\n\u001b[0;32m      <a href='vscode-notebook-cell:/c%3A/Users/k0240/Documents/projects/mt5_prop_firm_nautilus_backtests/research.ipynb#W1sZmlsZQ%3D%3D?line=8'>9</a>\u001b[0m \u001b[39m# data wrangler\u001b[39;00m\n\u001b[0;32m     <a href='vscode-notebook-cell:/c%3A/Users/k0240/Documents/projects/mt5_prop_firm_nautilus_backtests/research.ipynb#W1sZmlsZQ%3D%3D?line=9'>10</a>\u001b[0m instrument \u001b[39m=\u001b[39m TestInstrumentProvider\u001b[39m.\u001b[39mdefault_fx_ccy(\u001b[39m\"\u001b[39m\u001b[39mEUR/USD\u001b[39m\u001b[39m\"\u001b[39m)\n\u001b[0;32m     <a href='vscode-notebook-cell:/c%3A/Users/k0240/Documents/projects/mt5_prop_firm_nautilus_backtests/research.ipynb#W1sZmlsZQ%3D%3D?line=10'>11</a>\u001b[0m wrangler \u001b[39m=\u001b[39m BarDataWrangler(\n\u001b[1;32m---> <a href='vscode-notebook-cell:/c%3A/Users/k0240/Documents/projects/mt5_prop_firm_nautilus_backtests/research.ipynb#W1sZmlsZQ%3D%3D?line=11'>12</a>\u001b[0m   bar_type\u001b[39m=\u001b[39mBarType\u001b[39m.\u001b[39mfrom_str(\u001b[39m\"\u001b[39m\u001b[39mEUR/USD.FX_OHLCV_DAILY\u001b[39m\u001b[39m\"\u001b[39m),\n\u001b[0;32m     <a href='vscode-notebook-cell:/c%3A/Users/k0240/Documents/projects/mt5_prop_firm_nautilus_backtests/research.ipynb#W1sZmlsZQ%3D%3D?line=12'>13</a>\u001b[0m   instrument\u001b[39m=\u001b[39minstrument\n\u001b[0;32m     <a href='vscode-notebook-cell:/c%3A/Users/k0240/Documents/projects/mt5_prop_firm_nautilus_backtests/research.ipynb#W1sZmlsZQ%3D%3D?line=13'>14</a>\u001b[0m )\n\u001b[0;32m     <a href='vscode-notebook-cell:/c%3A/Users/k0240/Documents/projects/mt5_prop_firm_nautilus_backtests/research.ipynb#W1sZmlsZQ%3D%3D?line=15'>16</a>\u001b[0m bars \u001b[39m=\u001b[39m wrangler\u001b[39m.\u001b[39mprocess(df)\n",
      "File \u001b[1;32mc:\\tools\\miniconda3\\envs\\mt5_prop_firm_nautilus_backtests\\Lib\\site-packages\\nautilus_trader\\model\\data\\bar.pyx:612\u001b[0m, in \u001b[0;36mnautilus_trader.model.data.bar.BarType.from_str\u001b[1;34m()\u001b[0m\n",
      "File \u001b[1;32mc:\\tools\\miniconda3\\envs\\mt5_prop_firm_nautilus_backtests\\Lib\\site-packages\\nautilus_trader\\model\\data\\bar.pyx:550\u001b[0m, in \u001b[0;36mnautilus_trader.model.data.bar.BarType.from_str_c\u001b[1;34m()\u001b[0m\n",
      "\u001b[1;31mValueError\u001b[0m: Error parsing `BarType` from 'EUR/USD.FX_OHLCV_DAILY', invalid token: '' at position 0"
     ]
    }
   ],
   "source": [
    "# try 4\n",
    "\n",
    "# raw data\n",
    "data_path = os.path.join(\"./data/EURUSD.csv\")\n",
    "\n",
    "# data loader\n",
    "df = CSVBarDataLoader.load(data_path)\n",
    "\n",
    "# data wrangler\n",
    "instrument = InstrumentType.from_str(\"EUR/USD\")\n",
    "wrangler = BarDataWrangler(\n",
    "  bar_type=BarType.from_str(\"EUR/USD.FX_OHLCV_DAILY\"),\n",
    "  instrument=instrument\n",
    ")\n",
    "\n",
    "bars = wrangler.process(df)"
   ]
  },
  {
   "cell_type": "code",
   "execution_count": null,
   "metadata": {},
   "outputs": [],
   "source": [
    "# try 5\n",
    "\n",
    "# raw data\n",
    "data_path = os.path.join(\"./data/EURUSD.csv\")\n",
    "\n",
    "# data loader\n",
    "df = CSVBarDataLoader.load(data_path)\n",
    "\n",
    "# data wrangler\n",
    "instrument = InstrumentType.from_str(\"EUR/USD\")\n",
    "wrangler = BarDataWrangler(\n",
    "  bar_type=BarType.from_str(\"EUR/USD.FX_OHLCV_DAILY\"),\n",
    "  instrument=instrument\n",
    ")\n",
    "\n",
    "bars = wrangler.process(df)\n"
   ]
  },
  {
   "cell_type": "code",
   "execution_count": 4,
   "metadata": {},
   "outputs": [
    {
     "name": "stdout",
     "output_type": "stream",
     "text": [
      "Couldn't find test data directory, test data will be pulled from GitHub\n"
     ]
    },
    {
     "ename": "ImportError",
     "evalue": "Install the requests package to use the github FS",
     "output_type": "error",
     "traceback": [
      "\u001b[1;31m---------------------------------------------------------------------------\u001b[0m",
      "\u001b[1;31mModuleNotFoundError\u001b[0m                       Traceback (most recent call last)",
      "File \u001b[1;32mc:\\tools\\miniconda3\\envs\\mt5_prop_firm_nautilus_backtests\\Lib\\site-packages\\fsspec\\registry.py:226\u001b[0m, in \u001b[0;36mget_filesystem_class\u001b[1;34m(protocol)\u001b[0m\n\u001b[0;32m    225\u001b[0m \u001b[39mtry\u001b[39;00m:\n\u001b[1;32m--> 226\u001b[0m     register_implementation(protocol, _import_class(bit[\u001b[39m\"\u001b[39m\u001b[39mclass\u001b[39m\u001b[39m\"\u001b[39m]))\n\u001b[0;32m    227\u001b[0m \u001b[39mexcept\u001b[39;00m \u001b[39mImportError\u001b[39;00m \u001b[39mas\u001b[39;00m e:\n",
      "File \u001b[1;32mc:\\tools\\miniconda3\\envs\\mt5_prop_firm_nautilus_backtests\\Lib\\site-packages\\fsspec\\registry.py:249\u001b[0m, in \u001b[0;36m_import_class\u001b[1;34m(cls, minv)\u001b[0m\n\u001b[0;32m    248\u001b[0m mod, name \u001b[39m=\u001b[39m \u001b[39mcls\u001b[39m\u001b[39m.\u001b[39mrsplit(\u001b[39m\"\u001b[39m\u001b[39m.\u001b[39m\u001b[39m\"\u001b[39m, \u001b[39m1\u001b[39m)\n\u001b[1;32m--> 249\u001b[0m mod \u001b[39m=\u001b[39m importlib\u001b[39m.\u001b[39mimport_module(mod)\n\u001b[0;32m    250\u001b[0m \u001b[39mreturn\u001b[39;00m \u001b[39mgetattr\u001b[39m(mod, name)\n",
      "File \u001b[1;32mc:\\tools\\miniconda3\\envs\\mt5_prop_firm_nautilus_backtests\\Lib\\importlib\\__init__.py:126\u001b[0m, in \u001b[0;36mimport_module\u001b[1;34m(name, package)\u001b[0m\n\u001b[0;32m    125\u001b[0m         level \u001b[39m+\u001b[39m\u001b[39m=\u001b[39m \u001b[39m1\u001b[39m\n\u001b[1;32m--> 126\u001b[0m \u001b[39mreturn\u001b[39;00m _bootstrap\u001b[39m.\u001b[39m_gcd_import(name[level:], package, level)\n",
      "File \u001b[1;32m<frozen importlib._bootstrap>:1204\u001b[0m, in \u001b[0;36m_gcd_import\u001b[1;34m(name, package, level)\u001b[0m\n",
      "File \u001b[1;32m<frozen importlib._bootstrap>:1176\u001b[0m, in \u001b[0;36m_find_and_load\u001b[1;34m(name, import_)\u001b[0m\n",
      "File \u001b[1;32m<frozen importlib._bootstrap>:1147\u001b[0m, in \u001b[0;36m_find_and_load_unlocked\u001b[1;34m(name, import_)\u001b[0m\n",
      "File \u001b[1;32m<frozen importlib._bootstrap>:690\u001b[0m, in \u001b[0;36m_load_unlocked\u001b[1;34m(spec)\u001b[0m\n",
      "File \u001b[1;32m<frozen importlib._bootstrap_external>:940\u001b[0m, in \u001b[0;36mexec_module\u001b[1;34m(self, module)\u001b[0m\n",
      "File \u001b[1;32m<frozen importlib._bootstrap>:241\u001b[0m, in \u001b[0;36m_call_with_frames_removed\u001b[1;34m(f, *args, **kwds)\u001b[0m\n",
      "File \u001b[1;32mc:\\tools\\miniconda3\\envs\\mt5_prop_firm_nautilus_backtests\\Lib\\site-packages\\fsspec\\implementations\\github.py:1\u001b[0m\n\u001b[1;32m----> 1\u001b[0m \u001b[39mimport\u001b[39;00m \u001b[39mrequests\u001b[39;00m\n\u001b[0;32m      3\u001b[0m \u001b[39mfrom\u001b[39;00m \u001b[39m.\u001b[39;00m\u001b[39m.\u001b[39;00m\u001b[39mspec\u001b[39;00m \u001b[39mimport\u001b[39;00m AbstractFileSystem\n",
      "\u001b[1;31mModuleNotFoundError\u001b[0m: No module named 'requests'",
      "\nThe above exception was the direct cause of the following exception:\n",
      "\u001b[1;31mImportError\u001b[0m                               Traceback (most recent call last)",
      "\u001b[1;32mc:\\Users\\k0240\\Documents\\projects\\mt5_prop_firm_nautilus_backtests\\research.ipynb Cell 7\u001b[0m line \u001b[0;36m3\n\u001b[0;32m      <a href='vscode-notebook-cell:/c%3A/Users/k0240/Documents/projects/mt5_prop_firm_nautilus_backtests/research.ipynb#W6sZmlsZQ%3D%3D?line=0'>1</a>\u001b[0m \u001b[39m# try 6\u001b[39;00m\n\u001b[1;32m----> <a href='vscode-notebook-cell:/c%3A/Users/k0240/Documents/projects/mt5_prop_firm_nautilus_backtests/research.ipynb#W6sZmlsZQ%3D%3D?line=2'>3</a>\u001b[0m provider \u001b[39m=\u001b[39m TestDataProvider()\n\u001b[0;32m      <a href='vscode-notebook-cell:/c%3A/Users/k0240/Documents/projects/mt5_prop_firm_nautilus_backtests/research.ipynb#W6sZmlsZQ%3D%3D?line=4'>5</a>\u001b[0m data_path \u001b[39m=\u001b[39m \u001b[39m\"\u001b[39m\u001b[39m./data/EURUSD.csv\u001b[39m\u001b[39m\"\u001b[39m\n\u001b[0;32m      <a href='vscode-notebook-cell:/c%3A/Users/k0240/Documents/projects/mt5_prop_firm_nautilus_backtests/research.ipynb#W6sZmlsZQ%3D%3D?line=5'>6</a>\u001b[0m df \u001b[39m=\u001b[39m CSVBarDataLoader\u001b[39m.\u001b[39mload(data_path)\n",
      "File \u001b[1;32mc:\\tools\\miniconda3\\envs\\mt5_prop_firm_nautilus_backtests\\Lib\\site-packages\\nautilus_trader\\test_kit\\providers.py:565\u001b[0m, in \u001b[0;36mTestDataProvider.__init__\u001b[1;34m(self, branch)\u001b[0m\n\u001b[0;32m    563\u001b[0m \u001b[39mself\u001b[39m\u001b[39m.\u001b[39mfs: fsspec\u001b[39m.\u001b[39mAbstractFileSystem \u001b[39m|\u001b[39m \u001b[39mNone\u001b[39;00m \u001b[39m=\u001b[39m \u001b[39mNone\u001b[39;00m\n\u001b[0;32m    564\u001b[0m \u001b[39mself\u001b[39m\u001b[39m.\u001b[39mroot: \u001b[39mstr\u001b[39m \u001b[39m|\u001b[39m \u001b[39mNone\u001b[39;00m \u001b[39m=\u001b[39m \u001b[39mNone\u001b[39;00m\n\u001b[1;32m--> 565\u001b[0m \u001b[39mself\u001b[39m\u001b[39m.\u001b[39m_determine_filesystem()\n\u001b[0;32m    566\u001b[0m \u001b[39mself\u001b[39m\u001b[39m.\u001b[39mbranch \u001b[39m=\u001b[39m branch\n",
      "File \u001b[1;32mc:\\tools\\miniconda3\\envs\\mt5_prop_firm_nautilus_backtests\\Lib\\site-packages\\nautilus_trader\\test_kit\\providers.py:587\u001b[0m, in \u001b[0;36mTestDataProvider._determine_filesystem\u001b[1;34m(self)\u001b[0m\n\u001b[0;32m    585\u001b[0m \u001b[39mprint\u001b[39m(\u001b[39m\"\u001b[39m\u001b[39mCouldn\u001b[39m\u001b[39m'\u001b[39m\u001b[39mt find test data directory, test data will be pulled from GitHub\u001b[39m\u001b[39m\"\u001b[39m)\n\u001b[0;32m    586\u001b[0m \u001b[39mself\u001b[39m\u001b[39m.\u001b[39mroot \u001b[39m=\u001b[39m \u001b[39m\"\u001b[39m\u001b[39mtests/test_data\u001b[39m\u001b[39m\"\u001b[39m\n\u001b[1;32m--> 587\u001b[0m \u001b[39mself\u001b[39m\u001b[39m.\u001b[39mfs \u001b[39m=\u001b[39m fsspec\u001b[39m.\u001b[39mfilesystem(\u001b[39m\"\u001b[39m\u001b[39mgithub\u001b[39m\u001b[39m\"\u001b[39m, org\u001b[39m=\u001b[39m\u001b[39m\"\u001b[39m\u001b[39mnautechsystems\u001b[39m\u001b[39m\"\u001b[39m, repo\u001b[39m=\u001b[39m\u001b[39m\"\u001b[39m\u001b[39mnautilus_trader\u001b[39m\u001b[39m\"\u001b[39m)\n",
      "File \u001b[1;32mc:\\tools\\miniconda3\\envs\\mt5_prop_firm_nautilus_backtests\\Lib\\site-packages\\fsspec\\registry.py:266\u001b[0m, in \u001b[0;36mfilesystem\u001b[1;34m(protocol, **storage_options)\u001b[0m\n\u001b[0;32m    259\u001b[0m \u001b[39mif\u001b[39;00m protocol \u001b[39m==\u001b[39m \u001b[39m\"\u001b[39m\u001b[39marrow_hdfs\u001b[39m\u001b[39m\"\u001b[39m:\n\u001b[0;32m    260\u001b[0m     warnings\u001b[39m.\u001b[39mwarn(\n\u001b[0;32m    261\u001b[0m         \u001b[39m\"\u001b[39m\u001b[39mThe \u001b[39m\u001b[39m'\u001b[39m\u001b[39marrow_hdfs\u001b[39m\u001b[39m'\u001b[39m\u001b[39m protocol has been deprecated and will be \u001b[39m\u001b[39m\"\u001b[39m\n\u001b[0;32m    262\u001b[0m         \u001b[39m\"\u001b[39m\u001b[39mremoved in the future. Specify it as \u001b[39m\u001b[39m'\u001b[39m\u001b[39mhdfs\u001b[39m\u001b[39m'\u001b[39m\u001b[39m.\u001b[39m\u001b[39m\"\u001b[39m,\n\u001b[0;32m    263\u001b[0m         \u001b[39mDeprecationWarning\u001b[39;00m,\n\u001b[0;32m    264\u001b[0m     )\n\u001b[1;32m--> 266\u001b[0m \u001b[39mcls\u001b[39m \u001b[39m=\u001b[39m get_filesystem_class(protocol)\n\u001b[0;32m    267\u001b[0m \u001b[39mreturn\u001b[39;00m \u001b[39mcls\u001b[39m(\u001b[39m*\u001b[39m\u001b[39m*\u001b[39mstorage_options)\n",
      "File \u001b[1;32mc:\\tools\\miniconda3\\envs\\mt5_prop_firm_nautilus_backtests\\Lib\\site-packages\\fsspec\\registry.py:228\u001b[0m, in \u001b[0;36mget_filesystem_class\u001b[1;34m(protocol)\u001b[0m\n\u001b[0;32m    226\u001b[0m         register_implementation(protocol, _import_class(bit[\u001b[39m\"\u001b[39m\u001b[39mclass\u001b[39m\u001b[39m\"\u001b[39m]))\n\u001b[0;32m    227\u001b[0m     \u001b[39mexcept\u001b[39;00m \u001b[39mImportError\u001b[39;00m \u001b[39mas\u001b[39;00m e:\n\u001b[1;32m--> 228\u001b[0m         \u001b[39mraise\u001b[39;00m \u001b[39mImportError\u001b[39;00m(bit[\u001b[39m\"\u001b[39m\u001b[39merr\u001b[39m\u001b[39m\"\u001b[39m]) \u001b[39mfrom\u001b[39;00m \u001b[39me\u001b[39;00m\n\u001b[0;32m    229\u001b[0m \u001b[39mcls\u001b[39m \u001b[39m=\u001b[39m registry[protocol]\n\u001b[0;32m    230\u001b[0m \u001b[39mif\u001b[39;00m \u001b[39mgetattr\u001b[39m(\u001b[39mcls\u001b[39m, \u001b[39m\"\u001b[39m\u001b[39mprotocol\u001b[39m\u001b[39m\"\u001b[39m, \u001b[39mNone\u001b[39;00m) \u001b[39min\u001b[39;00m (\u001b[39m\"\u001b[39m\u001b[39mabstract\u001b[39m\u001b[39m\"\u001b[39m, \u001b[39mNone\u001b[39;00m):\n",
      "\u001b[1;31mImportError\u001b[0m: Install the requests package to use the github FS"
     ]
    }
   ],
   "source": [
    "# try 6\n",
    "\n",
    "provider = TestDataProvider()\n",
    "\n",
    "data_path = \"./data/EURUSD.csv\"\n",
    "df = CSVBarDataLoader.load(data_path)\n",
    "instrument = TestInstrumentProvider.default_fx_ccy(\"EUR/USD\")\n",
    "bar_type = BarType.from_str(\"EUR/USD.SIM-1-DAY-LAST-EXTERNAL\")\n",
    "wrangler = BarDataWrangler(\n",
    "  bar_type=bar_type,\n",
    "  instrument=instrument\n",
    ")\n",
    "\n",
    "bars = wrangler.process(df)"
   ]
  },
  {
   "cell_type": "code",
   "execution_count": 6,
   "metadata": {},
   "outputs": [
    {
     "data": {
      "text/plain": [
       "True"
      ]
     },
     "execution_count": 6,
     "metadata": {},
     "output_type": "execute_result"
    }
   ],
   "source": [
    "# troubleshooting try 6\n",
    "\n",
    "# does python know where the path is?\n",
    "\n",
    "os.path.exists(\"./data/EURUSD.csv\")"
   ]
  },
  {
   "cell_type": "code",
   "execution_count": 8,
   "metadata": {},
   "outputs": [
    {
     "data": {
      "text/html": [
       "<div>\n",
       "<style scoped>\n",
       "    .dataframe tbody tr th:only-of-type {\n",
       "        vertical-align: middle;\n",
       "    }\n",
       "\n",
       "    .dataframe tbody tr th {\n",
       "        vertical-align: top;\n",
       "    }\n",
       "\n",
       "    .dataframe thead th {\n",
       "        text-align: right;\n",
       "    }\n",
       "</style>\n",
       "<table border=\"1\" class=\"dataframe\">\n",
       "  <thead>\n",
       "    <tr style=\"text-align: right;\">\n",
       "      <th></th>\n",
       "      <th>open</th>\n",
       "      <th>high</th>\n",
       "      <th>low</th>\n",
       "      <th>close</th>\n",
       "      <th>volume</th>\n",
       "    </tr>\n",
       "    <tr>\n",
       "      <th>timestamp</th>\n",
       "      <th></th>\n",
       "      <th></th>\n",
       "      <th></th>\n",
       "      <th></th>\n",
       "      <th></th>\n",
       "    </tr>\n",
       "  </thead>\n",
       "  <tbody>\n",
       "    <tr>\n",
       "      <th>2021-10-20</th>\n",
       "      <td>1.16304</td>\n",
       "      <td>1.16586</td>\n",
       "      <td>1.16170</td>\n",
       "      <td>1.16505</td>\n",
       "      <td>61774</td>\n",
       "    </tr>\n",
       "    <tr>\n",
       "      <th>2021-10-21</th>\n",
       "      <td>1.16478</td>\n",
       "      <td>1.16675</td>\n",
       "      <td>1.16192</td>\n",
       "      <td>1.16240</td>\n",
       "      <td>65189</td>\n",
       "    </tr>\n",
       "    <tr>\n",
       "      <th>2021-10-22</th>\n",
       "      <td>1.16197</td>\n",
       "      <td>1.16554</td>\n",
       "      <td>1.16194</td>\n",
       "      <td>1.16437</td>\n",
       "      <td>65172</td>\n",
       "    </tr>\n",
       "    <tr>\n",
       "      <th>2021-10-25</th>\n",
       "      <td>1.16380</td>\n",
       "      <td>1.16650</td>\n",
       "      <td>1.15907</td>\n",
       "      <td>1.16081</td>\n",
       "      <td>59725</td>\n",
       "    </tr>\n",
       "    <tr>\n",
       "      <th>2021-10-26</th>\n",
       "      <td>1.16076</td>\n",
       "      <td>1.16257</td>\n",
       "      <td>1.15850</td>\n",
       "      <td>1.15957</td>\n",
       "      <td>54975</td>\n",
       "    </tr>\n",
       "  </tbody>\n",
       "</table>\n",
       "</div>"
      ],
      "text/plain": [
       "               open     high      low    close  volume\n",
       "timestamp                                             \n",
       "2021-10-20  1.16304  1.16586  1.16170  1.16505   61774\n",
       "2021-10-21  1.16478  1.16675  1.16192  1.16240   65189\n",
       "2021-10-22  1.16197  1.16554  1.16194  1.16437   65172\n",
       "2021-10-25  1.16380  1.16650  1.15907  1.16081   59725\n",
       "2021-10-26  1.16076  1.16257  1.15850  1.15957   54975"
      ]
     },
     "execution_count": 8,
     "metadata": {},
     "output_type": "execute_result"
    }
   ],
   "source": [
    "# does nautilus know where the path is?\n",
    "\n",
    "data_path = \"./data/EURUSD.csv\"\n",
    "df = CSVBarDataLoader.load(data_path)\n",
    "df.head()"
   ]
  },
  {
   "cell_type": "code",
   "execution_count": 10,
   "metadata": {},
   "outputs": [
    {
     "name": "stdout",
     "output_type": "stream",
     "text": [
      "CurrencyPair(id=EUR/USD.SIM, raw_symbol=EUR/USD, asset_class=FX, asset_type=SPOT, quote_currency=USD, is_inverse=False, price_precision=5, price_increment=0.00001, size_precision=0, size_increment=1, multiplier=1, lot_size=1000, margin_init=0.03, margin_maint=0.03, maker_fee=0.00002, taker_fee=0.00002, info=None)\n"
     ]
    }
   ],
   "source": [
    "# is it happy with the instrument?\n",
    "\n",
    "instrument = TestInstrumentProvider.default_fx_ccy(\"EUR/USD\")\n",
    "print(instrument)\n"
   ]
  },
  {
   "cell_type": "code",
   "execution_count": 12,
   "metadata": {},
   "outputs": [
    {
     "name": "stdout",
     "output_type": "stream",
     "text": [
      "EUR/USD.SIM-1-DAY-LAST-EXTERNAL\n"
     ]
    },
    {
     "ename": "ValueError",
     "evalue": "Error parsing `BarType` from 'EUR/USD.SIM-1-DAY-LAST-FOOOOOOOOOOOOO', invalid token: 'FOOOOOOOOOOOOO' at position 4",
     "output_type": "error",
     "traceback": [
      "\u001b[1;31m---------------------------------------------------------------------------\u001b[0m",
      "\u001b[1;31mValueError\u001b[0m                                Traceback (most recent call last)",
      "\u001b[1;32mc:\\Users\\k0240\\Documents\\projects\\mt5_prop_firm_nautilus_backtests\\research.ipynb Cell 11\u001b[0m line \u001b[0;36m4\n\u001b[0;32m      <a href='vscode-notebook-cell:/c%3A/Users/k0240/Documents/projects/mt5_prop_firm_nautilus_backtests/research.ipynb#X13sZmlsZQ%3D%3D?line=1'>2</a>\u001b[0m bar_type \u001b[39m=\u001b[39m BarType\u001b[39m.\u001b[39mfrom_str(\u001b[39m\"\u001b[39m\u001b[39mEUR/USD.SIM-1-DAY-LAST-EXTERNAL\u001b[39m\u001b[39m\"\u001b[39m)\n\u001b[0;32m      <a href='vscode-notebook-cell:/c%3A/Users/k0240/Documents/projects/mt5_prop_firm_nautilus_backtests/research.ipynb#X13sZmlsZQ%3D%3D?line=2'>3</a>\u001b[0m \u001b[39mprint\u001b[39m(bar_type)\n\u001b[1;32m----> <a href='vscode-notebook-cell:/c%3A/Users/k0240/Documents/projects/mt5_prop_firm_nautilus_backtests/research.ipynb#X13sZmlsZQ%3D%3D?line=3'>4</a>\u001b[0m bar_type \u001b[39m=\u001b[39m BarType\u001b[39m.\u001b[39mfrom_str(\u001b[39m\"\u001b[39m\u001b[39mEUR/USD.SIM-1-DAY-LAST-FOOOOOOOOOOOOO\u001b[39m\u001b[39m\"\u001b[39m)\n",
      "File \u001b[1;32mc:\\tools\\miniconda3\\envs\\mt5_prop_firm_nautilus_backtests\\Lib\\site-packages\\nautilus_trader\\model\\data\\bar.pyx:612\u001b[0m, in \u001b[0;36mnautilus_trader.model.data.bar.BarType.from_str\u001b[1;34m()\u001b[0m\n",
      "File \u001b[1;32mc:\\tools\\miniconda3\\envs\\mt5_prop_firm_nautilus_backtests\\Lib\\site-packages\\nautilus_trader\\model\\data\\bar.pyx:550\u001b[0m, in \u001b[0;36mnautilus_trader.model.data.bar.BarType.from_str_c\u001b[1;34m()\u001b[0m\n",
      "\u001b[1;31mValueError\u001b[0m: Error parsing `BarType` from 'EUR/USD.SIM-1-DAY-LAST-FOOOOOOOOOOOOO', invalid token: 'FOOOOOOOOOOOOO' at position 4"
     ]
    }
   ],
   "source": [
    "# is it happy with the bar type?\n",
    "\n",
    "bar_type = BarType.from_str(\"EUR/USD.SIM-1-DAY-LAST-FOOOOOOOOOOOOO\")\n"
   ]
  },
  {
   "cell_type": "code",
   "execution_count": 13,
   "metadata": {},
   "outputs": [],
   "source": [
    "bar_type = BarType.from_str(\"EUR/USD.SIM-1-DAY-LAST-EXTERNAL\")"
   ]
  },
  {
   "cell_type": "code",
   "execution_count": 14,
   "metadata": {},
   "outputs": [],
   "source": [
    "# is the wrangler happy with the bar type and instrument?\n",
    "\n",
    "wrangler = BarDataWrangler(\n",
    "  bar_type=bar_type,\n",
    "  instrument=instrument\n",
    ")"
   ]
  },
  {
   "cell_type": "code",
   "execution_count": 15,
   "metadata": {},
   "outputs": [],
   "source": [
    "bars = wrangler.process(df)"
   ]
  },
  {
   "cell_type": "markdown",
   "metadata": {},
   "source": [
    "??????"
   ]
  },
  {
   "cell_type": "code",
   "execution_count": 16,
   "metadata": {},
   "outputs": [
    {
     "name": "stdout",
     "output_type": "stream",
     "text": [
      "Couldn't find test data directory, test data will be pulled from GitHub\n"
     ]
    },
    {
     "ename": "ImportError",
     "evalue": "Install the requests package to use the github FS",
     "output_type": "error",
     "traceback": [
      "\u001b[1;31m---------------------------------------------------------------------------\u001b[0m",
      "\u001b[1;31mModuleNotFoundError\u001b[0m                       Traceback (most recent call last)",
      "File \u001b[1;32mc:\\tools\\miniconda3\\envs\\mt5_prop_firm_nautilus_backtests\\Lib\\site-packages\\fsspec\\registry.py:226\u001b[0m, in \u001b[0;36mget_filesystem_class\u001b[1;34m(protocol)\u001b[0m\n\u001b[0;32m    225\u001b[0m \u001b[39mtry\u001b[39;00m:\n\u001b[1;32m--> 226\u001b[0m     register_implementation(protocol, _import_class(bit[\u001b[39m\"\u001b[39m\u001b[39mclass\u001b[39m\u001b[39m\"\u001b[39m]))\n\u001b[0;32m    227\u001b[0m \u001b[39mexcept\u001b[39;00m \u001b[39mImportError\u001b[39;00m \u001b[39mas\u001b[39;00m e:\n",
      "File \u001b[1;32mc:\\tools\\miniconda3\\envs\\mt5_prop_firm_nautilus_backtests\\Lib\\site-packages\\fsspec\\registry.py:249\u001b[0m, in \u001b[0;36m_import_class\u001b[1;34m(cls, minv)\u001b[0m\n\u001b[0;32m    248\u001b[0m mod, name \u001b[39m=\u001b[39m \u001b[39mcls\u001b[39m\u001b[39m.\u001b[39mrsplit(\u001b[39m\"\u001b[39m\u001b[39m.\u001b[39m\u001b[39m\"\u001b[39m, \u001b[39m1\u001b[39m)\n\u001b[1;32m--> 249\u001b[0m mod \u001b[39m=\u001b[39m importlib\u001b[39m.\u001b[39mimport_module(mod)\n\u001b[0;32m    250\u001b[0m \u001b[39mreturn\u001b[39;00m \u001b[39mgetattr\u001b[39m(mod, name)\n",
      "File \u001b[1;32mc:\\tools\\miniconda3\\envs\\mt5_prop_firm_nautilus_backtests\\Lib\\importlib\\__init__.py:126\u001b[0m, in \u001b[0;36mimport_module\u001b[1;34m(name, package)\u001b[0m\n\u001b[0;32m    125\u001b[0m         level \u001b[39m+\u001b[39m\u001b[39m=\u001b[39m \u001b[39m1\u001b[39m\n\u001b[1;32m--> 126\u001b[0m \u001b[39mreturn\u001b[39;00m _bootstrap\u001b[39m.\u001b[39m_gcd_import(name[level:], package, level)\n",
      "File \u001b[1;32m<frozen importlib._bootstrap>:1204\u001b[0m, in \u001b[0;36m_gcd_import\u001b[1;34m(name, package, level)\u001b[0m\n",
      "File \u001b[1;32m<frozen importlib._bootstrap>:1176\u001b[0m, in \u001b[0;36m_find_and_load\u001b[1;34m(name, import_)\u001b[0m\n",
      "File \u001b[1;32m<frozen importlib._bootstrap>:1147\u001b[0m, in \u001b[0;36m_find_and_load_unlocked\u001b[1;34m(name, import_)\u001b[0m\n",
      "File \u001b[1;32m<frozen importlib._bootstrap>:690\u001b[0m, in \u001b[0;36m_load_unlocked\u001b[1;34m(spec)\u001b[0m\n",
      "File \u001b[1;32m<frozen importlib._bootstrap_external>:940\u001b[0m, in \u001b[0;36mexec_module\u001b[1;34m(self, module)\u001b[0m\n",
      "File \u001b[1;32m<frozen importlib._bootstrap>:241\u001b[0m, in \u001b[0;36m_call_with_frames_removed\u001b[1;34m(f, *args, **kwds)\u001b[0m\n",
      "File \u001b[1;32mc:\\tools\\miniconda3\\envs\\mt5_prop_firm_nautilus_backtests\\Lib\\site-packages\\fsspec\\implementations\\github.py:1\u001b[0m\n\u001b[1;32m----> 1\u001b[0m \u001b[39mimport\u001b[39;00m \u001b[39mrequests\u001b[39;00m\n\u001b[0;32m      3\u001b[0m \u001b[39mfrom\u001b[39;00m \u001b[39m.\u001b[39;00m\u001b[39m.\u001b[39;00m\u001b[39mspec\u001b[39;00m \u001b[39mimport\u001b[39;00m AbstractFileSystem\n",
      "\u001b[1;31mModuleNotFoundError\u001b[0m: No module named 'requests'",
      "\nThe above exception was the direct cause of the following exception:\n",
      "\u001b[1;31mImportError\u001b[0m                               Traceback (most recent call last)",
      "\u001b[1;32mc:\\Users\\k0240\\Documents\\projects\\mt5_prop_firm_nautilus_backtests\\research.ipynb Cell 16\u001b[0m line \u001b[0;36m3\n\u001b[0;32m      <a href='vscode-notebook-cell:/c%3A/Users/k0240/Documents/projects/mt5_prop_firm_nautilus_backtests/research.ipynb#X23sZmlsZQ%3D%3D?line=0'>1</a>\u001b[0m \u001b[39m# try 6 again\u001b[39;00m\n\u001b[1;32m----> <a href='vscode-notebook-cell:/c%3A/Users/k0240/Documents/projects/mt5_prop_firm_nautilus_backtests/research.ipynb#X23sZmlsZQ%3D%3D?line=2'>3</a>\u001b[0m provider \u001b[39m=\u001b[39m TestDataProvider()\n\u001b[0;32m      <a href='vscode-notebook-cell:/c%3A/Users/k0240/Documents/projects/mt5_prop_firm_nautilus_backtests/research.ipynb#X23sZmlsZQ%3D%3D?line=4'>5</a>\u001b[0m data_path \u001b[39m=\u001b[39m \u001b[39m\"\u001b[39m\u001b[39m./data/EURUSD.csv\u001b[39m\u001b[39m\"\u001b[39m\n\u001b[0;32m      <a href='vscode-notebook-cell:/c%3A/Users/k0240/Documents/projects/mt5_prop_firm_nautilus_backtests/research.ipynb#X23sZmlsZQ%3D%3D?line=5'>6</a>\u001b[0m df \u001b[39m=\u001b[39m CSVBarDataLoader\u001b[39m.\u001b[39mload(data_path)\n",
      "File \u001b[1;32mc:\\tools\\miniconda3\\envs\\mt5_prop_firm_nautilus_backtests\\Lib\\site-packages\\nautilus_trader\\test_kit\\providers.py:565\u001b[0m, in \u001b[0;36mTestDataProvider.__init__\u001b[1;34m(self, branch)\u001b[0m\n\u001b[0;32m    563\u001b[0m \u001b[39mself\u001b[39m\u001b[39m.\u001b[39mfs: fsspec\u001b[39m.\u001b[39mAbstractFileSystem \u001b[39m|\u001b[39m \u001b[39mNone\u001b[39;00m \u001b[39m=\u001b[39m \u001b[39mNone\u001b[39;00m\n\u001b[0;32m    564\u001b[0m \u001b[39mself\u001b[39m\u001b[39m.\u001b[39mroot: \u001b[39mstr\u001b[39m \u001b[39m|\u001b[39m \u001b[39mNone\u001b[39;00m \u001b[39m=\u001b[39m \u001b[39mNone\u001b[39;00m\n\u001b[1;32m--> 565\u001b[0m \u001b[39mself\u001b[39m\u001b[39m.\u001b[39m_determine_filesystem()\n\u001b[0;32m    566\u001b[0m \u001b[39mself\u001b[39m\u001b[39m.\u001b[39mbranch \u001b[39m=\u001b[39m branch\n",
      "File \u001b[1;32mc:\\tools\\miniconda3\\envs\\mt5_prop_firm_nautilus_backtests\\Lib\\site-packages\\nautilus_trader\\test_kit\\providers.py:587\u001b[0m, in \u001b[0;36mTestDataProvider._determine_filesystem\u001b[1;34m(self)\u001b[0m\n\u001b[0;32m    585\u001b[0m \u001b[39mprint\u001b[39m(\u001b[39m\"\u001b[39m\u001b[39mCouldn\u001b[39m\u001b[39m'\u001b[39m\u001b[39mt find test data directory, test data will be pulled from GitHub\u001b[39m\u001b[39m\"\u001b[39m)\n\u001b[0;32m    586\u001b[0m \u001b[39mself\u001b[39m\u001b[39m.\u001b[39mroot \u001b[39m=\u001b[39m \u001b[39m\"\u001b[39m\u001b[39mtests/test_data\u001b[39m\u001b[39m\"\u001b[39m\n\u001b[1;32m--> 587\u001b[0m \u001b[39mself\u001b[39m\u001b[39m.\u001b[39mfs \u001b[39m=\u001b[39m fsspec\u001b[39m.\u001b[39mfilesystem(\u001b[39m\"\u001b[39m\u001b[39mgithub\u001b[39m\u001b[39m\"\u001b[39m, org\u001b[39m=\u001b[39m\u001b[39m\"\u001b[39m\u001b[39mnautechsystems\u001b[39m\u001b[39m\"\u001b[39m, repo\u001b[39m=\u001b[39m\u001b[39m\"\u001b[39m\u001b[39mnautilus_trader\u001b[39m\u001b[39m\"\u001b[39m)\n",
      "File \u001b[1;32mc:\\tools\\miniconda3\\envs\\mt5_prop_firm_nautilus_backtests\\Lib\\site-packages\\fsspec\\registry.py:266\u001b[0m, in \u001b[0;36mfilesystem\u001b[1;34m(protocol, **storage_options)\u001b[0m\n\u001b[0;32m    259\u001b[0m \u001b[39mif\u001b[39;00m protocol \u001b[39m==\u001b[39m \u001b[39m\"\u001b[39m\u001b[39marrow_hdfs\u001b[39m\u001b[39m\"\u001b[39m:\n\u001b[0;32m    260\u001b[0m     warnings\u001b[39m.\u001b[39mwarn(\n\u001b[0;32m    261\u001b[0m         \u001b[39m\"\u001b[39m\u001b[39mThe \u001b[39m\u001b[39m'\u001b[39m\u001b[39marrow_hdfs\u001b[39m\u001b[39m'\u001b[39m\u001b[39m protocol has been deprecated and will be \u001b[39m\u001b[39m\"\u001b[39m\n\u001b[0;32m    262\u001b[0m         \u001b[39m\"\u001b[39m\u001b[39mremoved in the future. Specify it as \u001b[39m\u001b[39m'\u001b[39m\u001b[39mhdfs\u001b[39m\u001b[39m'\u001b[39m\u001b[39m.\u001b[39m\u001b[39m\"\u001b[39m,\n\u001b[0;32m    263\u001b[0m         \u001b[39mDeprecationWarning\u001b[39;00m,\n\u001b[0;32m    264\u001b[0m     )\n\u001b[1;32m--> 266\u001b[0m \u001b[39mcls\u001b[39m \u001b[39m=\u001b[39m get_filesystem_class(protocol)\n\u001b[0;32m    267\u001b[0m \u001b[39mreturn\u001b[39;00m \u001b[39mcls\u001b[39m(\u001b[39m*\u001b[39m\u001b[39m*\u001b[39mstorage_options)\n",
      "File \u001b[1;32mc:\\tools\\miniconda3\\envs\\mt5_prop_firm_nautilus_backtests\\Lib\\site-packages\\fsspec\\registry.py:228\u001b[0m, in \u001b[0;36mget_filesystem_class\u001b[1;34m(protocol)\u001b[0m\n\u001b[0;32m    226\u001b[0m         register_implementation(protocol, _import_class(bit[\u001b[39m\"\u001b[39m\u001b[39mclass\u001b[39m\u001b[39m\"\u001b[39m]))\n\u001b[0;32m    227\u001b[0m     \u001b[39mexcept\u001b[39;00m \u001b[39mImportError\u001b[39;00m \u001b[39mas\u001b[39;00m e:\n\u001b[1;32m--> 228\u001b[0m         \u001b[39mraise\u001b[39;00m \u001b[39mImportError\u001b[39;00m(bit[\u001b[39m\"\u001b[39m\u001b[39merr\u001b[39m\u001b[39m\"\u001b[39m]) \u001b[39mfrom\u001b[39;00m \u001b[39me\u001b[39;00m\n\u001b[0;32m    229\u001b[0m \u001b[39mcls\u001b[39m \u001b[39m=\u001b[39m registry[protocol]\n\u001b[0;32m    230\u001b[0m \u001b[39mif\u001b[39;00m \u001b[39mgetattr\u001b[39m(\u001b[39mcls\u001b[39m, \u001b[39m\"\u001b[39m\u001b[39mprotocol\u001b[39m\u001b[39m\"\u001b[39m, \u001b[39mNone\u001b[39;00m) \u001b[39min\u001b[39;00m (\u001b[39m\"\u001b[39m\u001b[39mabstract\u001b[39m\u001b[39m\"\u001b[39m, \u001b[39mNone\u001b[39;00m):\n",
      "\u001b[1;31mImportError\u001b[0m: Install the requests package to use the github FS"
     ]
    }
   ],
   "source": [
    "# try 6 again\n",
    "\n",
    "provider = TestDataProvider()\n",
    "\n",
    "data_path = \"./data/EURUSD.csv\"\n",
    "df = CSVBarDataLoader.load(data_path)\n",
    "instrument = TestInstrumentProvider.default_fx_ccy(\"EUR/USD\")\n",
    "bar_type = BarType.from_str(\"EUR/USD.SIM-1-DAY-LAST-EXTERNAL\")\n",
    "wrangler = BarDataWrangler(\n",
    "  bar_type=bar_type,\n",
    "  instrument=instrument\n",
    ")\n",
    "\n",
    "bars = wrangler.process(df)"
   ]
  },
  {
   "cell_type": "code",
   "execution_count": 17,
   "metadata": {},
   "outputs": [
    {
     "name": "stdout",
     "output_type": "stream",
     "text": [
      "Couldn't find test data directory, test data will be pulled from GitHub\n"
     ]
    },
    {
     "ename": "ImportError",
     "evalue": "Install the requests package to use the github FS",
     "output_type": "error",
     "traceback": [
      "\u001b[1;31m---------------------------------------------------------------------------\u001b[0m",
      "\u001b[1;31mModuleNotFoundError\u001b[0m                       Traceback (most recent call last)",
      "File \u001b[1;32mc:\\tools\\miniconda3\\envs\\mt5_prop_firm_nautilus_backtests\\Lib\\site-packages\\fsspec\\registry.py:226\u001b[0m, in \u001b[0;36mget_filesystem_class\u001b[1;34m(protocol)\u001b[0m\n\u001b[0;32m    225\u001b[0m \u001b[39mtry\u001b[39;00m:\n\u001b[1;32m--> 226\u001b[0m     register_implementation(protocol, _import_class(bit[\u001b[39m\"\u001b[39m\u001b[39mclass\u001b[39m\u001b[39m\"\u001b[39m]))\n\u001b[0;32m    227\u001b[0m \u001b[39mexcept\u001b[39;00m \u001b[39mImportError\u001b[39;00m \u001b[39mas\u001b[39;00m e:\n",
      "File \u001b[1;32mc:\\tools\\miniconda3\\envs\\mt5_prop_firm_nautilus_backtests\\Lib\\site-packages\\fsspec\\registry.py:249\u001b[0m, in \u001b[0;36m_import_class\u001b[1;34m(cls, minv)\u001b[0m\n\u001b[0;32m    248\u001b[0m mod, name \u001b[39m=\u001b[39m \u001b[39mcls\u001b[39m\u001b[39m.\u001b[39mrsplit(\u001b[39m\"\u001b[39m\u001b[39m.\u001b[39m\u001b[39m\"\u001b[39m, \u001b[39m1\u001b[39m)\n\u001b[1;32m--> 249\u001b[0m mod \u001b[39m=\u001b[39m importlib\u001b[39m.\u001b[39mimport_module(mod)\n\u001b[0;32m    250\u001b[0m \u001b[39mreturn\u001b[39;00m \u001b[39mgetattr\u001b[39m(mod, name)\n",
      "File \u001b[1;32mc:\\tools\\miniconda3\\envs\\mt5_prop_firm_nautilus_backtests\\Lib\\importlib\\__init__.py:126\u001b[0m, in \u001b[0;36mimport_module\u001b[1;34m(name, package)\u001b[0m\n\u001b[0;32m    125\u001b[0m         level \u001b[39m+\u001b[39m\u001b[39m=\u001b[39m \u001b[39m1\u001b[39m\n\u001b[1;32m--> 126\u001b[0m \u001b[39mreturn\u001b[39;00m _bootstrap\u001b[39m.\u001b[39m_gcd_import(name[level:], package, level)\n",
      "File \u001b[1;32m<frozen importlib._bootstrap>:1204\u001b[0m, in \u001b[0;36m_gcd_import\u001b[1;34m(name, package, level)\u001b[0m\n",
      "File \u001b[1;32m<frozen importlib._bootstrap>:1176\u001b[0m, in \u001b[0;36m_find_and_load\u001b[1;34m(name, import_)\u001b[0m\n",
      "File \u001b[1;32m<frozen importlib._bootstrap>:1147\u001b[0m, in \u001b[0;36m_find_and_load_unlocked\u001b[1;34m(name, import_)\u001b[0m\n",
      "File \u001b[1;32m<frozen importlib._bootstrap>:690\u001b[0m, in \u001b[0;36m_load_unlocked\u001b[1;34m(spec)\u001b[0m\n",
      "File \u001b[1;32m<frozen importlib._bootstrap_external>:940\u001b[0m, in \u001b[0;36mexec_module\u001b[1;34m(self, module)\u001b[0m\n",
      "File \u001b[1;32m<frozen importlib._bootstrap>:241\u001b[0m, in \u001b[0;36m_call_with_frames_removed\u001b[1;34m(f, *args, **kwds)\u001b[0m\n",
      "File \u001b[1;32mc:\\tools\\miniconda3\\envs\\mt5_prop_firm_nautilus_backtests\\Lib\\site-packages\\fsspec\\implementations\\github.py:1\u001b[0m\n\u001b[1;32m----> 1\u001b[0m \u001b[39mimport\u001b[39;00m \u001b[39mrequests\u001b[39;00m\n\u001b[0;32m      3\u001b[0m \u001b[39mfrom\u001b[39;00m \u001b[39m.\u001b[39;00m\u001b[39m.\u001b[39;00m\u001b[39mspec\u001b[39;00m \u001b[39mimport\u001b[39;00m AbstractFileSystem\n",
      "\u001b[1;31mModuleNotFoundError\u001b[0m: No module named 'requests'",
      "\nThe above exception was the direct cause of the following exception:\n",
      "\u001b[1;31mImportError\u001b[0m                               Traceback (most recent call last)",
      "\u001b[1;32mc:\\Users\\k0240\\Documents\\projects\\mt5_prop_firm_nautilus_backtests\\research.ipynb Cell 17\u001b[0m line \u001b[0;36m3\n\u001b[0;32m      <a href='vscode-notebook-cell:/c%3A/Users/k0240/Documents/projects/mt5_prop_firm_nautilus_backtests/research.ipynb#X24sZmlsZQ%3D%3D?line=0'>1</a>\u001b[0m \u001b[39m# maybe it doesn't like the provider?\u001b[39;00m\n\u001b[1;32m----> <a href='vscode-notebook-cell:/c%3A/Users/k0240/Documents/projects/mt5_prop_firm_nautilus_backtests/research.ipynb#X24sZmlsZQ%3D%3D?line=2'>3</a>\u001b[0m provider \u001b[39m=\u001b[39m TestDataProvider()\n",
      "File \u001b[1;32mc:\\tools\\miniconda3\\envs\\mt5_prop_firm_nautilus_backtests\\Lib\\site-packages\\nautilus_trader\\test_kit\\providers.py:565\u001b[0m, in \u001b[0;36mTestDataProvider.__init__\u001b[1;34m(self, branch)\u001b[0m\n\u001b[0;32m    563\u001b[0m \u001b[39mself\u001b[39m\u001b[39m.\u001b[39mfs: fsspec\u001b[39m.\u001b[39mAbstractFileSystem \u001b[39m|\u001b[39m \u001b[39mNone\u001b[39;00m \u001b[39m=\u001b[39m \u001b[39mNone\u001b[39;00m\n\u001b[0;32m    564\u001b[0m \u001b[39mself\u001b[39m\u001b[39m.\u001b[39mroot: \u001b[39mstr\u001b[39m \u001b[39m|\u001b[39m \u001b[39mNone\u001b[39;00m \u001b[39m=\u001b[39m \u001b[39mNone\u001b[39;00m\n\u001b[1;32m--> 565\u001b[0m \u001b[39mself\u001b[39m\u001b[39m.\u001b[39m_determine_filesystem()\n\u001b[0;32m    566\u001b[0m \u001b[39mself\u001b[39m\u001b[39m.\u001b[39mbranch \u001b[39m=\u001b[39m branch\n",
      "File \u001b[1;32mc:\\tools\\miniconda3\\envs\\mt5_prop_firm_nautilus_backtests\\Lib\\site-packages\\nautilus_trader\\test_kit\\providers.py:587\u001b[0m, in \u001b[0;36mTestDataProvider._determine_filesystem\u001b[1;34m(self)\u001b[0m\n\u001b[0;32m    585\u001b[0m \u001b[39mprint\u001b[39m(\u001b[39m\"\u001b[39m\u001b[39mCouldn\u001b[39m\u001b[39m'\u001b[39m\u001b[39mt find test data directory, test data will be pulled from GitHub\u001b[39m\u001b[39m\"\u001b[39m)\n\u001b[0;32m    586\u001b[0m \u001b[39mself\u001b[39m\u001b[39m.\u001b[39mroot \u001b[39m=\u001b[39m \u001b[39m\"\u001b[39m\u001b[39mtests/test_data\u001b[39m\u001b[39m\"\u001b[39m\n\u001b[1;32m--> 587\u001b[0m \u001b[39mself\u001b[39m\u001b[39m.\u001b[39mfs \u001b[39m=\u001b[39m fsspec\u001b[39m.\u001b[39mfilesystem(\u001b[39m\"\u001b[39m\u001b[39mgithub\u001b[39m\u001b[39m\"\u001b[39m, org\u001b[39m=\u001b[39m\u001b[39m\"\u001b[39m\u001b[39mnautechsystems\u001b[39m\u001b[39m\"\u001b[39m, repo\u001b[39m=\u001b[39m\u001b[39m\"\u001b[39m\u001b[39mnautilus_trader\u001b[39m\u001b[39m\"\u001b[39m)\n",
      "File \u001b[1;32mc:\\tools\\miniconda3\\envs\\mt5_prop_firm_nautilus_backtests\\Lib\\site-packages\\fsspec\\registry.py:266\u001b[0m, in \u001b[0;36mfilesystem\u001b[1;34m(protocol, **storage_options)\u001b[0m\n\u001b[0;32m    259\u001b[0m \u001b[39mif\u001b[39;00m protocol \u001b[39m==\u001b[39m \u001b[39m\"\u001b[39m\u001b[39marrow_hdfs\u001b[39m\u001b[39m\"\u001b[39m:\n\u001b[0;32m    260\u001b[0m     warnings\u001b[39m.\u001b[39mwarn(\n\u001b[0;32m    261\u001b[0m         \u001b[39m\"\u001b[39m\u001b[39mThe \u001b[39m\u001b[39m'\u001b[39m\u001b[39marrow_hdfs\u001b[39m\u001b[39m'\u001b[39m\u001b[39m protocol has been deprecated and will be \u001b[39m\u001b[39m\"\u001b[39m\n\u001b[0;32m    262\u001b[0m         \u001b[39m\"\u001b[39m\u001b[39mremoved in the future. Specify it as \u001b[39m\u001b[39m'\u001b[39m\u001b[39mhdfs\u001b[39m\u001b[39m'\u001b[39m\u001b[39m.\u001b[39m\u001b[39m\"\u001b[39m,\n\u001b[0;32m    263\u001b[0m         \u001b[39mDeprecationWarning\u001b[39;00m,\n\u001b[0;32m    264\u001b[0m     )\n\u001b[1;32m--> 266\u001b[0m \u001b[39mcls\u001b[39m \u001b[39m=\u001b[39m get_filesystem_class(protocol)\n\u001b[0;32m    267\u001b[0m \u001b[39mreturn\u001b[39;00m \u001b[39mcls\u001b[39m(\u001b[39m*\u001b[39m\u001b[39m*\u001b[39mstorage_options)\n",
      "File \u001b[1;32mc:\\tools\\miniconda3\\envs\\mt5_prop_firm_nautilus_backtests\\Lib\\site-packages\\fsspec\\registry.py:228\u001b[0m, in \u001b[0;36mget_filesystem_class\u001b[1;34m(protocol)\u001b[0m\n\u001b[0;32m    226\u001b[0m         register_implementation(protocol, _import_class(bit[\u001b[39m\"\u001b[39m\u001b[39mclass\u001b[39m\u001b[39m\"\u001b[39m]))\n\u001b[0;32m    227\u001b[0m     \u001b[39mexcept\u001b[39;00m \u001b[39mImportError\u001b[39;00m \u001b[39mas\u001b[39;00m e:\n\u001b[1;32m--> 228\u001b[0m         \u001b[39mraise\u001b[39;00m \u001b[39mImportError\u001b[39;00m(bit[\u001b[39m\"\u001b[39m\u001b[39merr\u001b[39m\u001b[39m\"\u001b[39m]) \u001b[39mfrom\u001b[39;00m \u001b[39me\u001b[39;00m\n\u001b[0;32m    229\u001b[0m \u001b[39mcls\u001b[39m \u001b[39m=\u001b[39m registry[protocol]\n\u001b[0;32m    230\u001b[0m \u001b[39mif\u001b[39;00m \u001b[39mgetattr\u001b[39m(\u001b[39mcls\u001b[39m, \u001b[39m\"\u001b[39m\u001b[39mprotocol\u001b[39m\u001b[39m\"\u001b[39m, \u001b[39mNone\u001b[39;00m) \u001b[39min\u001b[39;00m (\u001b[39m\"\u001b[39m\u001b[39mabstract\u001b[39m\u001b[39m\"\u001b[39m, \u001b[39mNone\u001b[39;00m):\n",
      "\u001b[1;31mImportError\u001b[0m: Install the requests package to use the github FS"
     ]
    }
   ],
   "source": [
    "# maybe it doesn't like the provider?\n",
    "\n",
    "provider = TestDataProvider()\n"
   ]
  }
 ],
 "metadata": {
  "kernelspec": {
   "display_name": "mt5_prop_firm_nautilus_backtests",
   "language": "python",
   "name": "python3"
  },
  "language_info": {
   "codemirror_mode": {
    "name": "ipython",
    "version": 3
   },
   "file_extension": ".py",
   "mimetype": "text/x-python",
   "name": "python",
   "nbconvert_exporter": "python",
   "pygments_lexer": "ipython3",
   "version": "3.11.5"
  }
 },
 "nbformat": 4,
 "nbformat_minor": 2
}
